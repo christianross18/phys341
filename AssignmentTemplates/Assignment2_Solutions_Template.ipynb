{
  "nbformat": 4,
  "nbformat_minor": 0,
  "metadata": {
    "kernelspec": {
      "display_name": "Python 3",
      "language": "python",
      "name": "python3"
    },
    "language_info": {
      "codemirror_mode": {
        "name": "ipython",
        "version": 3
      },
      "file_extension": ".py",
      "mimetype": "text/x-python",
      "name": "python",
      "nbconvert_exporter": "python",
      "pygments_lexer": "ipython3",
      "version": "3.6.8"
    },
    "colab": {
      "name": "Assignment2_Solutions_Template.ipynb",
      "provenance": []
    }
  },
  "cells": [
    {
      "cell_type": "markdown",
      "metadata": {
        "id": "Nfbty7lWhm8b",
        "colab_type": "text"
      },
      "source": [
        "# Assignment 2 Solutions"
      ]
    },
    {
      "cell_type": "markdown",
      "metadata": {
        "id": "LAQHM6FZhm8c",
        "colab_type": "text"
      },
      "source": [
        "# Question 1\n",
        "\n",
        "Let Z be a standard normal random variable and calculate the following probabilities, drawing pictures whenever appropriate.\n",
        "\n",
        "(a) P(0 <= Z <= 2.40)\n",
        "\n",
        "(b) P(0 <= Z <= 1)\n",
        "\n",
        "(c) P(-2.90 <= Z <= 0)\n",
        "\n",
        "(d) P(-2.90 <= Z <= 2.9)\n",
        "\n",
        "(e) P(Z <= 1.14)\n",
        "\n",
        "(f) P(-1.63 <= Z)  \n",
        "\n",
        "(g) P(-1.9 <= Z <= 2.00)\n",
        "\n",
        "(h) P(1.14 <= Z <= 2.50)\n",
        "\n",
        "(i) P(1.9 <= Z)\n",
        "\n",
        "(j) P( |Z| <= 2.50)"
      ]
    },
    {
      "cell_type": "code",
      "metadata": {
        "id": "COQkFDfJhm8c",
        "colab_type": "code",
        "colab": {
          "base_uri": "https://localhost:8080/",
          "height": 185
        },
        "outputId": "ae2e37e7-8afc-4aba-ca9b-31733b9ca2b5"
      },
      "source": [
        "import scipy.stats as stats\n",
        "\n",
        "mu=0\n",
        "sig=1\n",
        "z=stats.norm(loc=mu,scale=sig)\n",
        "print(\"a) \", z.cdf(2.29)-z.cdf(0))\n",
        "print(\"b) \", z.cdf(2)-z.cdf(0))\n",
        "print(\"c) \", z.cdf(0)-z.cdf(-2.6))\n",
        "print(\"d) \", z.cdf(2.6)-z.cdf(-2.6))\n",
        "print(\"e) \", z.cdf(1.26))\n",
        "print(\"f) \", 1-z.cdf(-1.31))\n",
        "print(\"g) \", z.cdf(2)-z.cdf(-1.6))\n",
        "print(\"h) \", z.cdf(2.5)-z.cdf(1.26))\n",
        "print(\"i) \", 1-z.cdf(1.6))\n",
        "print(\"j) \", z.cdf(2.5)-z.cdf(-2.5))"
      ],
      "execution_count": 1,
      "outputs": [
        {
          "output_type": "stream",
          "text": [
            "a)  0.4889893416755886\n",
            "b)  0.4772498680518208\n",
            "c)  0.49533881197628127\n",
            "d)  0.9906776239525625\n",
            "e)  0.8961653188786995\n",
            "f)  0.904902082204761\n",
            "g)  0.9224505763522628\n",
            "h)  0.0976250157955243\n",
            "i)  0.054799291699557995\n",
            "j)  0.9875806693484477\n"
          ],
          "name": "stdout"
        }
      ]
    },
    {
      "cell_type": "markdown",
      "metadata": {
        "id": "f8gSvAQBhm8f",
        "colab_type": "text"
      },
      "source": [
        "# Question 2\n",
        "\n",
        "Let Z be a standard normal random variable. In each case, determine the value of the constant c that makes the probability statement correct.\n",
        "\n",
        "(a) Phi(c) = 0.9826 \n",
        "\n",
        "(b) P(0 <= Z <= c) = 0.2995\n",
        "\n",
        "(c) P(c <= Z) = 0.1251\n",
        "\n",
        "(d) P(-c <= Z <= c) = 0.6476\n",
        "\n",
        "(e) P(c <= |Z|) = 0.0139"
      ]
    },
    {
      "cell_type": "code",
      "metadata": {
        "id": "WExcshOVhm8g",
        "colab_type": "code",
        "colab": {
          "base_uri": "https://localhost:8080/",
          "height": 101
        },
        "outputId": "1a38d9fe-d0f8-4853-aaca-896a57496a6b"
      },
      "source": [
        "print(\"a) \", z.ppf(0.9857))\n",
        "print(\"b) \", z.ppf(0.5+0.2881))\n",
        "print(\"c) \", z.ppf(1-.1190))\n",
        "print(\"d) \", z.ppf(.5+(0.6528/2)))\n",
        "print(\"e) \", z.ppf(1-.0128/2))"
      ],
      "execution_count": 2,
      "outputs": [
        {
          "output_type": "stream",
          "text": [
            "a)  2.1889565256794588\n",
            "b)  0.7998460477365836\n",
            "c)  1.180000540347729\n",
            "d)  0.9400342357218935\n",
            "e)  2.4892858647872407\n"
          ],
          "name": "stdout"
        }
      ]
    },
    {
      "cell_type": "markdown",
      "metadata": {
        "id": "FzQ49EEdhm8i",
        "colab_type": "text"
      },
      "source": [
        "# Question 3\n",
        "\n",
        "If X is a normal rv with mean 80 and standard deviation 15, compute the following probabilities by standardizing.\n",
        "\n",
        "(a) P(X <= 110)\n",
        "\n",
        "(b) P(X <= 80)\n",
        "\n",
        "(c) P(57.5 <= X <= 110)\n",
        "\n",
        "(d) P(65 <= X)\n",
        "\n",
        "(e) P(87.5 <= X <= 102.5)\n",
        "\n",
        "(f) P( |X - 80| <= 15)\n",
        "  "
      ]
    },
    {
      "cell_type": "code",
      "metadata": {
        "id": "-iqNCL9ghm8i",
        "colab_type": "code",
        "colab": {
          "base_uri": "https://localhost:8080/",
          "height": 118
        },
        "outputId": "3562d212-f959-4854-dfb4-6d0da4fa6a87"
      },
      "source": [
        "mu=75\n",
        "sig=10\n",
        "z=stats.norm(loc=mu,scale=sig)\n",
        "print(\"a) \", z.cdf(95))\n",
        "print(\"b) \", z.cdf(75))\n",
        "print(\"c) \", z.cdf(95)-z.cdf(60))\n",
        "print(\"d) \", 1-z.cdf(65))\n",
        "print(\"e) \", z.cdf(90)-z.cdf(80))\n",
        "print(\"f) \", z.cdf(85)-z.cdf(65))"
      ],
      "execution_count": 3,
      "outputs": [
        {
          "output_type": "stream",
          "text": [
            "a)  0.9772498680518208\n",
            "b)  0.5\n",
            "c)  0.9104426667829627\n",
            "d)  0.8413447460685429\n",
            "e)  0.2417303374571288\n",
            "f)  0.6826894921370859\n"
          ],
          "name": "stdout"
        }
      ]
    },
    {
      "cell_type": "markdown",
      "metadata": {
        "id": "F0dwrdSehm8k",
        "colab_type": "text"
      },
      "source": [
        "# Question 4\n",
        "\n",
        "Suppose the force acting on a column that helps to support a building is normally distributed with mean 15.8 kips and standard deviation 1.33 kips. (Round your answers to four decimal places.)\n",
        "\n",
        "(a) What is the probability that the force is at most 18 kips? \n",
        "\n",
        "(b) What is the probability that the force is between 10 and 12 kips? \n",
        "\n",
        "(c) What is the probability that the force differs from 15.8 kips by at most 1.5 standard deviations?"
      ]
    },
    {
      "cell_type": "code",
      "metadata": {
        "id": "vfWS0nj2hm8l",
        "colab_type": "code",
        "colab": {
          "base_uri": "https://localhost:8080/",
          "height": 67
        },
        "outputId": "3de676f7-9131-414d-f14e-0ef6cd0ef51f"
      },
      "source": [
        "mu=15.4\n",
        "sig=1.25\n",
        "z=stats.norm(loc=mu,scale=sig)\n",
        "print(\"a) \", z.cdf(18))\n",
        "print(\"b) \", z.cdf(12)-z.cdf(10))\n",
        "print(\"c) \", z.cdf(15.4+(sig*1.5))-z.cdf(mu-(sig*1.5)))"
      ],
      "execution_count": 4,
      "outputs": [
        {
          "output_type": "stream",
          "text": [
            "a)  0.9812372335650622\n",
            "b)  0.0032562943558532074\n",
            "c)  0.8663855974622837\n"
          ],
          "name": "stdout"
        }
      ]
    },
    {
      "cell_type": "markdown",
      "metadata": {
        "id": "_6UPlN2Lhm8n",
        "colab_type": "text"
      },
      "source": [
        "# Question 5\n",
        "\n",
        "There are two machines available for cutting corks intended for use in wine bottles. The first produces corks with diameters that are normally distributed with mean 3 cm and standard deviation 0.08 cm. The second machine produces corks with diameters that have a normal distribution with mean 3.04 cm and standard deviation 0.02 cm. Acceptable corks have diameters between 2.9 cm and 3.1 cm.\n",
        "\n",
        "What is the probability that the first machine produces an acceptable cork? (Round your answer to four decimal places.) \n",
        "\n",
        "What is the probability that the second machine produces an acceptable cork? (Round your answer to four decimal places.)"
      ]
    },
    {
      "cell_type": "code",
      "metadata": {
        "id": "ir3CwtBThm8n",
        "colab_type": "code",
        "colab": {
          "base_uri": "https://localhost:8080/",
          "height": 50
        },
        "outputId": "67191424-7411-4077-af97-fd67a73287df"
      },
      "source": [
        "mu=3\n",
        "sig=.08\n",
        "z=stats.norm(loc=mu,scale=sig)\n",
        "print(\"a) \", z.cdf(3.1)-z.cdf(2.9))\n",
        "mu=3.04\n",
        "sig=.04\n",
        "z=stats.norm(loc=mu,scale=sig)\n",
        "print(\"b) \", z.cdf(3.1)-z.cdf(2.9))"
      ],
      "execution_count": 5,
      "outputs": [
        {
          "output_type": "stream",
          "text": [
            "a)  0.7887004526662897\n",
            "b)  0.9329601696521066\n"
          ],
          "name": "stdout"
        }
      ]
    },
    {
      "cell_type": "markdown",
      "metadata": {
        "id": "OqL8rmGhhm8p",
        "colab_type": "text"
      },
      "source": [
        "# Question 6\n",
        "\n",
        "It has been suggested that yield strength (ksi) for A36 grade steel is normally distributed with mu = 45 and σ = 4.0.\n",
        "\n",
        "(a) What is the probability that yield strength is at most 40?  \n",
        "\n",
        "What is the probability that yield strength is greater than 60?\n",
        "\n",
        "(b) What yield strength value separates the strongest 75% from the others?"
      ]
    },
    {
      "cell_type": "code",
      "metadata": {
        "id": "t_J2FzFbhm8q",
        "colab_type": "code",
        "colab": {
          "base_uri": "https://localhost:8080/",
          "height": 67
        },
        "outputId": "166d81dc-bfad-4e66-a8b2-29c12f1c09e0"
      },
      "source": [
        "mu=44\n",
        "sig=3.0\n",
        "z=stats.norm(loc=mu,scale=sig)\n",
        "print(\"a) \", z.cdf(40))\n",
        "print(\"a) \", 1-z.cdf(60))\n",
        "print(\"b) \", z.ppf(.25))"
      ],
      "execution_count": 6,
      "outputs": [
        {
          "output_type": "stream",
          "text": [
            "a)  0.09121121972586788\n",
            "a)  4.8213033676525185e-08\n",
            "b)  41.97653074941176\n"
          ],
          "name": "stdout"
        }
      ]
    },
    {
      "cell_type": "markdown",
      "metadata": {
        "id": "-tw31Prrhm8t",
        "colab_type": "text"
      },
      "source": [
        "# Question 7\n",
        "\n",
        "The temperature reading from a thermocouple placed in a constant-temperature medium is normally distributed with mean μ, the actual temperature of the medium, and standard deviation σ. What would the value of σ have to be to ensure that 95% of all readings are within 0.9° of μ?"
      ]
    },
    {
      "cell_type": "code",
      "metadata": {
        "id": "t4zQQNfjhm8t",
        "colab_type": "code",
        "colab": {}
      },
      "source": [
        "alpha=.05\n",
        "z=stats.norm.ppf(alpha/2)"
      ],
      "execution_count": 22,
      "outputs": []
    },
    {
      "cell_type": "markdown",
      "metadata": {
        "id": "uOVjED2qhm8v",
        "colab_type": "text"
      },
      "source": [
        "$z = (\\bar{x}-\\mu)/\\sigma$\n",
        "\n",
        "Therefore,\n",
        "\n",
        "$\\sigma = (\\bar{x}-\\mu)/z$\n",
        "\n",
        "$\\sigma = \\delta_\\mu/z$"
      ]
    },
    {
      "cell_type": "code",
      "metadata": {
        "id": "5G4aC1jmhm8w",
        "colab_type": "code",
        "colab": {
          "base_uri": "https://localhost:8080/",
          "height": 34
        },
        "outputId": "ec6370e1-ef46-4324-bb77-099b30e3024a"
      },
      "source": [
        "sig=.8/z\n",
        "print(sig)"
      ],
      "execution_count": 23,
      "outputs": [
        {
          "output_type": "stream",
          "text": [
            "-0.4081707655397231\n"
          ],
          "name": "stdout"
        }
      ]
    },
    {
      "cell_type": "markdown",
      "metadata": {
        "id": "ugczHJ1Thm8y",
        "colab_type": "text"
      },
      "source": [
        "# Question 8\n",
        "\n",
        "Suppose that 10% of all steel shafts produced by a certain process are nonconforming but can be reworked (rather than having to be scrapped). Consider a random sample of 200 shafts, and let X denote the number among these that are nonconforming and can be reworked.\n",
        "\n",
        "(a) What is the (approximate) probability that X is at most 30?\n",
        "\n",
        "(b) What is the (approximate) probability that X is less than 30?\n",
        "\n",
        "(c) What is the (approximate) probability that X is between 15 and 25 (inclusive)?"
      ]
    },
    {
      "cell_type": "markdown",
      "metadata": {
        "id": "h2QdNZmVhm8y",
        "colab_type": "text"
      },
      "source": [
        "This question asks us to make an approximation to a process that is governed (exactly) by the binomial distribution.  The two approximations that we could considers are (a) the normal distribution, and (b) the Poisson distribution.  The normal distribution is appropriate for large N, and p $\\approx$ 0.5.  The Poission distribution is appropriate for small p or large p.  Since we have p = 0.10, we choose the Poisson distribution."
      ]
    },
    {
      "cell_type": "code",
      "metadata": {
        "id": "crAoNvEIhm8y",
        "colab_type": "code",
        "colab": {}
      },
      "source": [
        "import numpy as np\n"
      ],
      "execution_count": 8,
      "outputs": []
    },
    {
      "cell_type": "code",
      "metadata": {
        "id": "HRlEqXWqhm80",
        "colab_type": "code",
        "colab": {
          "base_uri": "https://localhost:8080/",
          "height": 67
        },
        "outputId": "4bb939d9-7bb4-4e63-a173-0e1b6f9991b6"
      },
      "source": [
        "p=stats.poisson(mu=200*.1)\n",
        "print(\"a) %0.4f\" % (p.cdf(30)))\n",
        "print(\"b)  %0.4f\" % (p.cdf(29.5)))\n",
        "print(\"c)  %0.4f\" % (p.cdf(25.5)-p.cdf(14.5)))"
      ],
      "execution_count": 24,
      "outputs": [
        {
          "output_type": "stream",
          "text": [
            "a) 0.9865\n",
            "b)  0.9782\n",
            "c)  0.7830\n"
          ],
          "name": "stdout"
        }
      ]
    }
  ]
}