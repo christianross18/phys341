{
  "nbformat": 4,
  "nbformat_minor": 0,
  "metadata": {
    "kernelspec": {
      "display_name": "Python 3",
      "language": "python",
      "name": "python3"
    },
    "language_info": {
      "codemirror_mode": {
        "name": "ipython",
        "version": 3
      },
      "file_extension": ".py",
      "mimetype": "text/x-python",
      "name": "python",
      "nbconvert_exporter": "python",
      "pygments_lexer": "ipython3",
      "version": "3.6.8"
    },
    "colab": {
      "name": "Assignment6_Solutions_Template.ipynb",
      "provenance": []
    }
  },
  "cells": [
    {
      "cell_type": "markdown",
      "metadata": {
        "id": "WWPOOU2m86or"
      },
      "source": [
        "# Assignment 6 Solutions"
      ]
    },
    {
      "cell_type": "code",
      "metadata": {
        "id": "c0zXha6086or"
      },
      "source": [
        "import numpy as np\n",
        "import scipy.stats as stats\n",
        "import matplotlib.pyplot as plt\n",
        "import pandas as pd\n",
        "\n",
        "from statsmodels.formula.api import ols\n",
        "from statsmodels.stats.anova import anova_lm\n",
        "\n",
        "from scipy.special import gamma\n",
        "\n",
        "def q_tukey(k, v, alpha):\n",
        "\n",
        "    qarray = []\n",
        "    for k in range(2,k+1):\n",
        "        print (\"q_tukey: calculating k = \",k)\n",
        "\n",
        "        dq = 0.003\n",
        "        qd = np.array(np.arange(0.000,6.000,dq))\n",
        "\n",
        "        f = []\n",
        "        fs = []\n",
        "        found = False\n",
        "\n",
        "        for i in range(len(qd)):\n",
        "            q = qd[i]\n",
        "            prefactor = np.sqrt(2.0*np.pi)*k*(k-1)*v**(v/2.0)/(gamma(v/2.0)*2**(v/2.0-1))\n",
        "            npts = 100\n",
        "\n",
        "            xh = 6.0\n",
        "            xl = 0.0\n",
        "            dx = (xh-xl)/npts\n",
        "\n",
        "            x = np.arange(xl,xh,dx)\n",
        "            x = x.reshape(1,-1)\n",
        "    \n",
        "            ul = -6.0\n",
        "            uh = 6.0\n",
        "            du = (uh-ul)/npts\n",
        "            \n",
        "            u = np.arange(ul,uh,du)\n",
        "            u = u.reshape(-1,1)\n",
        "            \n",
        "            phi_u = stats.norm.pdf(u)\n",
        "            phi_ux = stats.norm.pdf(u-q*x)\n",
        "            Phi_u = stats.norm.cdf(u)\n",
        "            Phi_ux = stats.norm.cdf(u-q*x)\n",
        "            phi_x = stats.norm.pdf(np.sqrt(v)*x)\n",
        "            \n",
        "            integrand = x**v*phi_x*phi_u*phi_ux*(Phi_u-Phi_ux)**(k-2)*du*dx\n",
        "            \n",
        "            #print (\"U integral matrix\")\n",
        "            #print(u,phi_u,phi_ux,Phi_u,Phi_ux,phi_x,x**v,integrand)\n",
        "        \n",
        "            sumux = integrand.sum()\n",
        "            \n",
        "            #print (\"U sum\")\n",
        "            #print(sumux)\n",
        "            \n",
        "            #print (\"X sum * prefactor\")\n",
        "            #print (sumux*prefactor)\n",
        "\n",
        "            f.append(sumux*prefactor)\n",
        "            \n",
        "            if (i>0):\n",
        "                fs.append(f[i]*dq+fs[i-1])\n",
        "            else:\n",
        "                fs.append(f[i]*dq)\n",
        "\n",
        "            if (fs[i]>(1-alpha) and not(found)):\n",
        "                q_critical = qd[i-1] + ((1-alpha)-fs[i-1])*(qd[i]-qd[i-1])/(fs[i]-fs[i-1])\n",
        "                print (\"q_critical = \",q_critical)\n",
        "                found = True\n",
        "        \n",
        "            #print(q,f[i],fs[i])\n",
        "            \n",
        "        qarray.append(q_critical)\n",
        "        plt.scatter(q_critical,(1-alpha))\n",
        "    \n",
        "        f = np.array(f)\n",
        "        fs = np.array(fs)\n",
        "        plt.plot(qd,fs)\n",
        "\n",
        "    qarray=np.array(qarray)\n",
        "    return qarray\n"
      ],
      "execution_count": 46,
      "outputs": []
    },
    {
      "cell_type": "markdown",
      "metadata": {
        "id": "M1u09s7D86or"
      },
      "source": [
        "# Question 1\n",
        "\n",
        "The number of miles of useful tread wear (in 1000s) was determined for tires of each of five different makes of subcompact car (factor A, with I = 5) in combination with each of four different brands of radial tires (factor B, with J = 4), resulting in IJ = 20 observations. The values SSA = 30.3, SSB = 44.4, and SSE = 59.3 were then computed. Assume that an additive model is appropriate.\n",
        "\n",
        "(a) Test Ho: α1 = α2 = α3 = α4 = α5 = 0 (no differences in true average tire lifetime due to makes of cars) versus Ha: at least one αi ≠ 0 using a level .05 test. (Give answers accurate to 2 decimal places.)\n",
        "\n",
        "(b) Ho: β1 = β2 = β3 = β4 = 0 (no differences in true average tire lifetime due to brands of tires) versus Ha: at least one βi ≠ 0 using a level .05 test. (Give answers accurate to 2 decimal places.)"
      ]
    },
    {
      "cell_type": "code",
      "metadata": {
        "id": "DVSdiW9W86or",
        "colab": {
          "base_uri": "https://localhost:8080/"
        },
        "outputId": "2e881bcb-dc19-49c1-df81-75f08ee46cb2"
      },
      "source": [
        "a = 5\n",
        "b = 4\n",
        "n = 1\n",
        "\n",
        "N = n*a*b\n",
        "\n",
        "v_total = N - 1\n",
        "v_a = a - 1\n",
        "v_b = b - 1\n",
        "v_error = v_total - v_a - v_b\n",
        "\n",
        "# NOTE!!  As only one data point is taken at each settings, we cannot determine correlations.\n",
        "\n",
        "SS_a = 30.3\n",
        "SS_b = 44.7\n",
        "SS_error = 59.6\n",
        "\n",
        "SS_total = SS_a + SS_b + SS_error\n",
        "\n",
        "# Calculate Mean squares, calculate f values, critical f values, and p values.\n",
        "\n",
        "MS_a = SS_a/v_a\n",
        "MS_b = SS_b/v_b\n",
        "MS_error = SS_error/v_error\n",
        "\n",
        "fSN_a = MS_a/MS_error\n",
        "fSN_b = MS_b/MS_error\n",
        "\n",
        "print (\"F Signal/Noise A = %0.2f \" % fSN_a)\n",
        "\n",
        "alpha = 0.05\n",
        "\n",
        "fdist_a = stats.f(v_a,v_error)\n",
        "fhigh_a = fdist_a.ppf(1-alpha)\n",
        "\n",
        "print (\"Critical F-value A = %0.2f\" % (fhigh_a))\n",
        "\n",
        "if (fSN_a > 1):\n",
        "    pvalue_a = (1-fdist_a.cdf(fSN_a))\n",
        "else:\n",
        "    pvalue_a = fdist_a.cdf(fSN_a)\n",
        "    \n",
        "print (\"Pvalue A = %0.3f\" % (pvalue_a))\n",
        "\n",
        "print (\"F Signal/Noise B = %0.2f \" % fSN_b)\n",
        "\n",
        "fdist_b = stats.f(v_b,v_error)\n",
        "fhigh_b = fdist_b.ppf(1-alpha)\n",
        "\n",
        "print (\"Critical F-value B = %0.2f\" % (fhigh_b))\n",
        "\n",
        "if (fSN_b > 1):\n",
        "    pvalue_b = (1-fdist_b.cdf(fSN_b))\n",
        "else:\n",
        "    pvalue_b = fdist_b.cdf(fSN_b)\n",
        "    \n",
        "print (\"Pvalue B = %0.3f\" % (pvalue_b))\n",
        "\n",
        "# Print table\n",
        "print()\n",
        "print (\"Source     df     Sum of Squares Mean Square     f     P-value\")\n",
        "print (\"A          %0.0f       %0.2f            %0.2f       %0.2f    %0.3f\" %(v_a,SS_a,MS_a,fSN_a,pvalue_a))\n",
        "print (\"B          %0.0f       %0.2f           %0.2f       %0.2f    %0.3f\" %(v_b,SS_b,MS_b,fSN_b,pvalue_b))\n",
        "print (\"Error      %0.0f      %0.2f            %0.2f\" %(v_error,SS_error,MS_error))\n",
        "print (\"Total      %0.0f     %0.2f\" %(v_total,SS_total))"
      ],
      "execution_count": 47,
      "outputs": [
        {
          "output_type": "stream",
          "text": [
            "F Signal/Noise A = 1.53 \n",
            "Critical F-value A = 3.26\n",
            "Pvalue A = 0.257\n",
            "F Signal/Noise B = 3.00 \n",
            "Critical F-value B = 3.49\n",
            "Pvalue B = 0.073\n",
            "\n",
            "Source     df     Sum of Squares Mean Square     f     P-value\n",
            "A          4       30.30            7.58       1.53    0.257\n",
            "B          3       44.70           14.90       3.00    0.073\n",
            "Error      12      59.60            4.97\n",
            "Total      19     134.60\n"
          ],
          "name": "stdout"
        }
      ]
    },
    {
      "cell_type": "markdown",
      "metadata": {
        "id": "AhhxeekK86or"
      },
      "source": [
        "# Question 2\n",
        "\n",
        "Four different coatings are being considered for corrosion protection of metal pipe. The pipe will be buried in three different types of soil. To investigate whether the amount of corrosion depends either on the coating or on the type of soil, 12 pieces of pipe are selected. Each piece is coated with one of the four coatings and buried in one of the three types of soil for a fixed time, after which the amount of corrosion (depth of maximum pits, in .0001 in.) is determined. The data appears in the table.\n",
        "\n",
        "(a) Assuming the validity of the additive model, carry out the ANOVA analysis using an ANOVA table to see whether the amount of corrosion depends on either the type of coating used or the type of soil. Use α = .05. (Give answers accurate to 2 decimal places and the p-values to 3 decimal places.)\n",
        "\n",
        "(b) Compute the model parameters. (Give answers to 2 decimal places.)"
      ]
    },
    {
      "cell_type": "code",
      "metadata": {
        "id": "QYnmy5u-86or",
        "colab": {
          "base_uri": "https://localhost:8080/"
        },
        "outputId": "2acea982-66a1-471f-fd7b-fd8bf1725edd"
      },
      "source": [
        "xijk = np.array([[63,1,1],[49,1,2],[49,1,3],\n",
        "                [51,2,1],[51,2,2],[49,2,3],\n",
        "                [46,3,1],[43,3,2],[52,3,3],\n",
        "                [52,4,1],[41,4,2],[52,4,3]])\n",
        "\n",
        "df = pd.DataFrame(xijk,columns=['value','A','B'])\n",
        "\n",
        "df.head(1000)\n",
        "\n",
        "formula = 'value ~ C(A) + C(B)'\n",
        "lm = ols(formula,df).fit()\n",
        "anovaResults = anova_lm(lm)\n",
        "print (anovaResults)"
      ],
      "execution_count": 48,
      "outputs": [
        {
          "output_type": "stream",
          "text": [
            "           df      sum_sq    mean_sq         F    PR(>F)\n",
            "C(A)      3.0   75.666667  25.222222  0.974249  0.464486\n",
            "C(B)      2.0  100.666667  50.333333  1.944206  0.223395\n",
            "Residual  6.0  155.333333  25.888889       NaN       NaN\n"
          ],
          "name": "stdout"
        }
      ]
    },
    {
      "cell_type": "markdown",
      "metadata": {
        "id": "mI2QV-jJ86or"
      },
      "source": [
        "### The model parameters are simply the differences between the group averages and the overall average ($\\mu$)"
      ]
    },
    {
      "cell_type": "code",
      "metadata": {
        "id": "vqBOHP3Q86or"
      },
      "source": [
        ""
      ],
      "execution_count": 48,
      "outputs": []
    },
    {
      "cell_type": "code",
      "metadata": {
        "id": "O0MdsLXc86or"
      },
      "source": [
        "#x_a = df.groupby(['A'])[['value']].mean()\n",
        "#x_a_bb = (x_a['value']-xbarbar)\n",
        "#\n",
        "#print(\"alpha: \",x_a_bb)"
      ],
      "execution_count": 49,
      "outputs": []
    },
    {
      "cell_type": "code",
      "metadata": {
        "id": "GdALoVgK86or",
        "colab": {
          "base_uri": "https://localhost:8080/"
        },
        "outputId": "58e50a7c-aa2e-4663-d894-8d4796b3e35f"
      },
      "source": [
        "N = len(xijk)\n",
        "v_total = N - 1\n",
        "\n",
        "a = 4\n",
        "b = 3\n",
        "\n",
        "n = N/(a*b)\n",
        "\n",
        "v_a = a - 1\n",
        "v_b = b - 1\n",
        "v_ab = v_a*v_b\n",
        "\n",
        "v_error = v_total - v_a - v_b - v_ab\n",
        "\n",
        "print (\"v_a, v_b, v_ab, v_error, v_total = \",v_a, v_b, v_ab, v_error, v_total)\n",
        "\n",
        "# calculate the relevant averages and sums of squares\n",
        "xbarbar = df['value'].mean()\n",
        "print()\n",
        "print (\"Xbarbar = \",xbarbar)\n",
        "\n",
        "SS_total = (N-1)*df['value'].std()**2\n",
        "\n",
        "print()\n",
        "print (\"SS_total = \",SS_total)\n",
        "\n",
        "x_a = df.groupby(['A'])[['value']].mean()\n",
        "x_a_bb = (x_a['value']-xbarbar)\n",
        "\n",
        "print (\"SS_a = \",x_a_bb)\n",
        "\n",
        "x_b = df.groupby(['B'])[['value']].mean()\n",
        "x_b_bb = (x_b['value']-xbarbar)\n",
        "\n",
        "print (\"SS_b = \",x_b_bb)\n"
      ],
      "execution_count": 50,
      "outputs": [
        {
          "output_type": "stream",
          "text": [
            "v_a, v_b, v_ab, v_error, v_total =  3 2 6 0 11\n",
            "\n",
            "Xbarbar =  49.833333333333336\n",
            "\n",
            "SS_total =  331.66666666666674\n",
            "SS_a =  A\n",
            "1    3.833333\n",
            "2    0.500000\n",
            "3   -2.833333\n",
            "4   -1.500000\n",
            "Name: value, dtype: float64\n",
            "SS_b =  B\n",
            "1    3.166667\n",
            "2   -3.833333\n",
            "3    0.666667\n",
            "Name: value, dtype: float64\n"
          ],
          "name": "stdout"
        }
      ]
    },
    {
      "cell_type": "markdown",
      "metadata": {
        "id": "i7QGHQkG86or"
      },
      "source": [
        "# Question 3\n",
        "\n",
        "The article \"Adiabatic Humidification of Air with Water in a Packed Tower\" (Chem. Eng. Prog., 1952: 362-370) reports data on gas film heat transfer coefficient (Btu/hr ft2 on °F) as a function of gas rate (factor A) and liquid rate (factor B).\n",
        "\n",
        "(a) After constructing an ANOVA table, test at level .01 both the hypothesis of no gas-rate effect against the appropriate alternative and the hypothesis of no liquid-rate effect against the appropriate alternative. (Give answers accurate to 1 decimal place.)\n",
        "\n",
        "(b) Use Tukey's procedure to investigate differences in expected heat transfer coefficient due to different gas rates. (Give answers accurate to 2 decimal places.)\n",
        "\n",
        "(c) Repeat part (b) for liquid rates. (Give answers accurate to 2 decimal places.)"
      ]
    },
    {
      "cell_type": "code",
      "metadata": {
        "id": "p22dxqRa86or",
        "colab": {
          "base_uri": "https://localhost:8080/"
        },
        "outputId": "9bad5bde-1b53-4f99-8c24-46980d7e8ee0"
      },
      "source": [
        "xijk = np.array([[63,1,1],[49,1,2],[49,1,3],[49,1,4],\n",
        "                [51,2,1],[51,2,2],[49,2,3],[49,2,4],\n",
        "                [46,3,1],[43,3,2],[52,3,3],[52,3,4],\n",
        "                [52,4,1],[41,4,2],[52,4,3],[52,4,4]])\n",
        "\n",
        "df = pd.DataFrame(xijk,columns=['value','A','B'])\n",
        "\n",
        "df.head(1000)\n",
        "\n",
        "formula = 'value ~ C(A) + C(B)'\n",
        "lm = ols(formula,df).fit()\n",
        "anovaResults = anova_lm(lm)\n",
        "print (anovaResults)"
      ],
      "execution_count": 51,
      "outputs": [
        {
          "output_type": "stream",
          "text": [
            "           df  sum_sq    mean_sq         F    PR(>F)\n",
            "C(A)      3.0    39.5  13.166667  0.591022  0.636255\n",
            "C(B)      3.0   102.0  34.000000  1.526185  0.273473\n",
            "Residual  9.0   200.5  22.277778       NaN       NaN\n"
          ],
          "name": "stdout"
        }
      ]
    },
    {
      "cell_type": "code",
      "metadata": {
        "id": "pbwKRdKX86or",
        "colab": {
          "base_uri": "https://localhost:8080/",
          "height": 584
        },
        "outputId": "9bfccd50-9cfb-4a19-a1af-14d017535837"
      },
      "source": [
        "xbar = df.groupby(['A'])[['value']].mean()\n",
        "xbar = np.array(xbar)\n",
        "xbar= xbar.flatten()\n",
        "MS_error = 22.277\n",
        "dof_error=9\n",
        "alpha=0.01\n",
        "# Tukey's Procedure\n",
        "#\n",
        "# Step 1:  Calculate the standard error = sqrt(MS_error/n)\n",
        "\n",
        "std_error = np.sqrt(MS_error/n)\n",
        "print (\"Standard Error = %0.3f\" % std_error)\n",
        "\n",
        "# Step 2:  Order the means from smallest to largest\n",
        "\n",
        "print (\"Original Xbar = \",xbar)\n",
        "xbar_orig = xbar.copy()\n",
        "xbar.sort()\n",
        "print (\"Sorted Xbar = \",xbar)\n",
        "\n",
        "# Step 3:  Get the expected number of error bars (sem) between largest and smallest, for the number\n",
        "# of means to be compared (a).  For this, we need the studentized range table values q(alpha,dof_error,k) for k=2..a.\n",
        "# \n",
        "# http://www.real-statistics.com/statistics-tables/studentized-range-q-table/\n",
        "# For this problem, dof_error = 15, alpha = 0.05, k = 2,3,4,5\n",
        "# q = np.array([3.014,3.673,4.076,4.367])\n",
        "\n",
        "n_means=len(xbar)\n",
        "q = q_tukey(n_means,dof_error,alpha)\n",
        "print (q)\n",
        "\n",
        "# Step 4:  Calculate W = q(k=5)*std_error\n",
        "\n",
        "W = q[n_means-2]*std_error\n",
        "\n",
        "print (\"W = %0.1f\" % W)\n",
        "\n",
        "# Step 5:  Make pair-wise comparisons\n",
        "\n",
        "print (list(xbar_orig))\n",
        "\n",
        "print (\"i j xbar1 xbar2 Diff Diff_comp Result\")\n",
        "for i in range(len(xbar)):\n",
        "    for j in range(len(xbar)):\n",
        "        if (xbar[j] > xbar[i]):\n",
        "            diff = (xbar[j] - xbar[i])/std_error\n",
        "            diff_comp = q[j-i-1]\n",
        "            if (diff>diff_comp):\n",
        "                Result = \"Yes\"\n",
        "            else:\n",
        "                Result = \"No\"\n",
        "            iorig = list(xbar_orig).index(xbar[i])+1\n",
        "            jorig = list(xbar_orig).index(xbar[j])+1\n",
        "            print (\"%0.0f %0.0f %0.1f %0.1f %0.3f  %0.3f %s\" % (iorig,jorig,xbar[i],xbar[j],diff,diff_comp,Result))"
      ],
      "execution_count": 52,
      "outputs": [
        {
          "output_type": "stream",
          "text": [
            "Standard Error = 4.720\n",
            "Original Xbar =  [52.5  50.   48.25 49.25]\n",
            "Sorted Xbar =  [48.25 49.25 50.   52.5 ]\n",
            "q_tukey: calculating k =  2\n",
            "q_critical =  4.524647757521833\n",
            "q_tukey: calculating k =  3\n",
            "q_critical =  5.426582159217026\n",
            "q_tukey: calculating k =  4\n",
            "q_critical =  5.955182266371887\n",
            "[4.52464776 5.42658216 5.95518227]\n",
            "W = 28.1\n",
            "[52.5, 50.0, 48.25, 49.25]\n",
            "i j xbar1 xbar2 Diff Diff_comp Result\n",
            "3 4 48.2 49.2 0.212  4.525 No\n",
            "3 2 48.2 50.0 0.371  5.427 No\n",
            "3 1 48.2 52.5 0.900  5.955 No\n",
            "4 2 49.2 50.0 0.159  4.525 No\n",
            "4 1 49.2 52.5 0.689  5.427 No\n",
            "2 1 50.0 52.5 0.530  4.525 No\n"
          ],
          "name": "stdout"
        },
        {
          "output_type": "display_data",
          "data": {
            "image/png": "[encoded data removed]",
            "text/plain": [
              "<Figure size 432x288 with 1 Axes>"
            ]
          },
          "metadata": {
            "tags": [],
            "needs_background": "light"
          }
        }
      ]
    },
    {
      "cell_type": "code",
      "metadata": {
        "id": "uI4AOjO786or",
        "colab": {
          "base_uri": "https://localhost:8080/",
          "height": 567
        },
        "outputId": "8baa1173-63e3-4fab-fff9-362b02d02abf"
      },
      "source": [
        "xbar = df.groupby(['B'])[['value']].mean()\n",
        "xbar = np.array(xbar)\n",
        "xbar= xbar.flatten()\n",
        "# Tukey's Procedure\n",
        "#\n",
        "# Step 1:  Calculate the standard error = sqrt(MS_error/n)\n",
        "\n",
        "std_error = np.sqrt(MS_error/n)\n",
        "print (\"Standard Error = %0.3f\" % std_error)\n",
        "\n",
        "# Step 2:  Order the means from smallest to largest\n",
        "\n",
        "print (\"Original Xbar = \",xbar)\n",
        "xbar_orig = xbar.copy()\n",
        "xbar.sort()\n",
        "print (\"Sorted Xbar = \",xbar)\n",
        "\n",
        "# Step 3:  Get the expected number of error bars (sem) between largest and smallest, for the number\n",
        "# of means to be compared (a).  For this, we need the studentized range table values q(alpha,dof_error,k) for k=2..a.\n",
        "# \n",
        "# http://www.real-statistics.com/statistics-tables/studentized-range-q-table/\n",
        "# For this problem, dof_error = 15, alpha = 0.05, k = 2,3,4,5\n",
        "# q = np.array([3.014,3.673,4.076,4.367])\n",
        "\n",
        "n_means=len(xbar)\n",
        "q = q_tukey(n_means,dof_error,alpha)\n",
        "print (q)\n",
        "\n",
        "# Step 4:  Calculate W = q(k=5)*std_error\n",
        "\n",
        "W = q[n_means-2]*std_error\n",
        "\n",
        "print (\"W = %0.1f\" % W)\n",
        "\n",
        "# Step 5:  Make pair-wise comparisons\n",
        "\n",
        "print (list(xbar_orig))\n",
        "\n",
        "print (\"i j xbar1 xbar2 Diff Diff_comp Result\")\n",
        "for i in range(len(xbar)):\n",
        "    for j in range(len(xbar)):\n",
        "        if (xbar[j] > xbar[i]):\n",
        "            diff = (xbar[j] - xbar[i])/std_error\n",
        "            diff_comp = q[j-i-1]\n",
        "            if (diff>diff_comp):\n",
        "                Result = \"Yes\"\n",
        "            else:\n",
        "                Result = \"No\"\n",
        "            iorig = list(xbar_orig).index(xbar[i])+1\n",
        "            jorig = list(xbar_orig).index(xbar[j])+1\n",
        "            print (\"%0.0f %0.0f %0.1f %0.1f %0.3f  %0.3f %s\" % (iorig,jorig,xbar[i],xbar[j],diff,diff_comp,Result))"
      ],
      "execution_count": 53,
      "outputs": [
        {
          "output_type": "stream",
          "text": [
            "Standard Error = 4.720\n",
            "Original Xbar =  [53.  46.  50.5 50.5]\n",
            "Sorted Xbar =  [46.  50.5 50.5 53. ]\n",
            "q_tukey: calculating k =  2\n",
            "q_critical =  4.524647757521833\n",
            "q_tukey: calculating k =  3\n",
            "q_critical =  5.426582159217026\n",
            "q_tukey: calculating k =  4\n",
            "q_critical =  5.955182266371887\n",
            "[4.52464776 5.42658216 5.95518227]\n",
            "W = 28.1\n",
            "[53.0, 46.0, 50.5, 50.5]\n",
            "i j xbar1 xbar2 Diff Diff_comp Result\n",
            "2 3 46.0 50.5 0.953  4.525 No\n",
            "2 3 46.0 50.5 0.953  5.427 No\n",
            "2 1 46.0 53.0 1.483  5.955 No\n",
            "3 1 50.5 53.0 0.530  5.427 No\n",
            "3 1 50.5 53.0 0.530  4.525 No\n"
          ],
          "name": "stdout"
        },
        {
          "output_type": "display_data",
          "data": {
            "image/png": "[encoded data removed]",
            "text/plain": [
              "<Figure size 432x288 with 1 Axes>"
            ]
          },
          "metadata": {
            "tags": [],
            "needs_background": "light"
          }
        }
      ]
    },
    {
      "cell_type": "markdown",
      "metadata": {
        "id": "oPs-2YvI86or"
      },
      "source": [
        "# Question 4\n",
        "\n",
        "In an experiment to assess the effect of the angle of pull on the force required to cause separation in electrical connectors, four different angles (factor A) were used and each of a sample of five connectors (factor B) was pulled once at each angle. The data appears in the accompanying table.\n",
        "\n",
        "Does the data suggest that true average separation force is affected by the angle of pull? State and test the appropriate hypotheses at level .01 by first constructing an ANOVA table (SST = 396.08, SSA = 56.12, SSB = 249.19). (Give answers accurate to 2 decimal places and the p-values to 3 decimal places.)"
      ]
    },
    {
      "cell_type": "code",
      "metadata": {
        "id": "e2E8ukJY86or",
        "colab": {
          "base_uri": "https://localhost:8080/"
        },
        "outputId": "928f1cb3-a0d7-4b83-f8af-7c28005cea44"
      },
      "source": [
        "xijk = np.array([[45.4,1,1],[42.5,1,2],[39.8,1,3],[37.0,1,4],[45.6,1,5],\n",
        "                [44.0,2,1],[44.5,2,2],[38.5,2,3],[38.0,2,4],[47.3,2,5],\n",
        "                [42.8,3,1],[42.8,3,2],[42.5,3,3],[42.5,3,4],[49.0,3,5],\n",
        "                [43.6,4,1],[45.6,4,2],[47.7,4,3],[38.0,4,4],[56.1,4,5]])\n",
        "\n",
        "df = pd.DataFrame(xijk,columns=['value','A','B'])\n",
        "\n",
        "df.head(1000)\n",
        "\n",
        "formula = 'value ~ C(A) + C(B)'\n",
        "lm = ols(formula,df).fit()\n",
        "anovaResults = anova_lm(lm)\n",
        "print (anovaResults)"
      ],
      "execution_count": 54,
      "outputs": [
        {
          "output_type": "stream",
          "text": [
            "            df   sum_sq    mean_sq         F    PR(>F)\n",
            "C(A)       3.0   52.596  17.532000  2.359120  0.122907\n",
            "C(B)       4.0  237.913  59.478250  8.003443  0.002203\n",
            "Residual  12.0   89.179   7.431583       NaN       NaN\n"
          ],
          "name": "stdout"
        }
      ]
    },
    {
      "cell_type": "markdown",
      "metadata": {
        "id": "2i008-6p86or"
      },
      "source": [
        "# Question 5\n",
        "\n",
        "The article \"The Effects of a Pneumatic Stool and a One-Legged Stool on Lower Limb Joint Load and Muscular Activity During Sitting and Rising\" (Ergonomics, 1993: 519-535) gives the accompanying data on the effort required of a subject to arise from four different types of stools (Borg Scale).\n",
        "\n",
        "Perform an analysis of variance using α = .05. (Give answers accurate to 2 decimal places.)\n",
        "\n"
      ]
    },
    {
      "cell_type": "code",
      "metadata": {
        "id": "6pnEDMhW86or",
        "colab": {
          "base_uri": "https://localhost:8080/"
        },
        "outputId": "e06e26e2-4011-4114-8c9e-9f2c2d2d10b5"
      },
      "source": [
        "xijk = np.array([[12,1,1],[10,1,2],[7,1,3],[7,1,4],[8,1,5],[9,1,6],[8,1,7],[7,1,8],[9,1,9],\n",
        "                [15,2,1],[14,2,2],[14,2,3],[11,2,4],[11,2,5],[11,2,6],[12,2,7],[11,2,8],[14,2,9],\n",
        "                [12,3,1],[13,3,2],[13,3,3],[10,3,4],[8,3,5],[11,3,6],[12,3,7],[8,3,8],[10,3,9],\n",
        "                [10,4,1],[12,4,2],[9,4,3],[9,4,4],[7,4,5],[10,4,6],[11,4,7],[7,4,8],[8,4,9]])\n",
        "\n",
        "df = pd.DataFrame(xijk,columns=['value','A','B'])\n",
        "\n",
        "df.head(1000)\n",
        "\n",
        "formula = 'value ~ C(A) + C(B)'\n",
        "lm = ols(formula,df).fit()\n",
        "anovaResults = anova_lm(lm)\n",
        "print (anovaResults)"
      ],
      "execution_count": 55,
      "outputs": [
        {
          "output_type": "stream",
          "text": [
            "            df     sum_sq    mean_sq          F        PR(>F)\n",
            "C(A)       3.0  85.666667  28.555556  21.872340  4.757783e-07\n",
            "C(B)       8.0  66.222222   8.277778   6.340426  1.915571e-04\n",
            "Residual  24.0  31.333333   1.305556        NaN           NaN\n"
          ],
          "name": "stdout"
        }
      ]
    },
    {
      "cell_type": "code",
      "metadata": {
        "id": "tfAvs80d86or",
        "colab": {
          "base_uri": "https://localhost:8080/",
          "height": 584
        },
        "outputId": "2d196e76-8cb9-4772-ff63-629e6be77b98"
      },
      "source": [
        "xbar = df.groupby(['A'])[['value']].mean()\n",
        "xbar = np.array(xbar)\n",
        "xbar= xbar.flatten()\n",
        "MS_error = 1.305556\n",
        "dof_error=24\n",
        "alpha=0.05\n",
        "# Tukey's Procedure\n",
        "#\n",
        "# Step 1:  Calculate the standard error = sqrt(MS_error/n)\n",
        "\n",
        "std_error = np.sqrt(MS_error/n)\n",
        "print (\"Standard Error = %0.3f\" % std_error)\n",
        "\n",
        "# Step 2:  Order the means from smallest to largest\n",
        "\n",
        "print (\"Original Xbar = \",xbar)\n",
        "xbar_orig = xbar.copy()\n",
        "xbar.sort()\n",
        "print (\"Sorted Xbar = \",xbar)\n",
        "\n",
        "# Step 3:  Get the expected number of error bars (sem) between largest and smallest, for the number\n",
        "# of means to be compared (a).  For this, we need the studentized range table values q(alpha,dof_error,k) for k=2..a.\n",
        "# \n",
        "# http://www.real-statistics.com/statistics-tables/studentized-range-q-table/\n",
        "# For this problem, dof_error = 15, alpha = 0.05, k = 2,3,4,5\n",
        "# q = np.array([3.014,3.673,4.076,4.367])\n",
        "\n",
        "n_means=len(xbar)\n",
        "q = q_tukey(n_means,dof_error,alpha)\n",
        "print (q)\n",
        "\n",
        "# Step 4:  Calculate W = q(k=5)*std_error\n",
        "\n",
        "W = q[n_means-2]*std_error\n",
        "\n",
        "print (\"W = %0.1f\" % W)\n",
        "\n",
        "# Step 5:  Make pair-wise comparisons\n",
        "\n",
        "print (list(xbar_orig))\n",
        "\n",
        "print (\"i j xbar1 xbar2 Diff Diff_comp Result\")\n",
        "for i in range(len(xbar)):\n",
        "   for j in range(len(xbar)):\n",
        "        if (xbar[j] > xbar[i]):\n",
        "            diff = (xbar[j] - xbar[i])/std_error\n",
        "            diff_comp = q[j-i-1]\n",
        "            if (diff>diff_comp):\n",
        "                Result = \"Yes\"\n",
        "            else:\n",
        "                Result = \"No\"\n",
        "            iorig = list(xbar_orig).index(xbar[i])+1\n",
        "            jorig = list(xbar_orig).index(xbar[j])+1\n",
        "            print (\"%0.0f %0.0f %0.1f %0.1f %0.3f  %0.3f %s\" % (iorig,jorig,xbar[i],xbar[j],diff,diff_comp,Result))"
      ],
      "execution_count": 56,
      "outputs": [
        {
          "output_type": "stream",
          "text": [
            "Standard Error = 4.720\n",
            "Original Xbar =  [ 8.55555556 12.55555556 10.77777778  9.22222222]\n",
            "Sorted Xbar =  [ 8.55555556  9.22222222 10.77777778 12.55555556]\n",
            "q_tukey: calculating k =  2\n",
            "q_critical =  4.524647757521833\n",
            "q_tukey: calculating k =  3\n",
            "q_critical =  5.426582159217026\n",
            "q_tukey: calculating k =  4\n",
            "q_critical =  5.955182266371887\n",
            "[4.52464776 5.42658216 5.95518227]\n",
            "W = 28.1\n",
            "[8.555555555555555, 12.555555555555555, 10.777777777777779, 9.222222222222221]\n",
            "i j xbar1 xbar2 Diff Diff_comp Result\n",
            "1 4 8.6 9.2 0.141  4.525 No\n",
            "1 3 8.6 10.8 0.471  5.427 No\n",
            "1 2 8.6 12.6 0.847  5.955 No\n",
            "4 3 9.2 10.8 0.330  4.525 No\n",
            "4 2 9.2 12.6 0.706  5.427 No\n",
            "3 2 10.8 12.6 0.377  4.525 No\n"
          ],
          "name": "stdout"
        },
        {
          "output_type": "display_data",
          "data": {
            "image/png": "[encoded data removed]",
            "text/plain": [
              "<Figure size 432x288 with 1 Axes>"
            ]
          },
          "metadata": {
            "tags": [],
            "needs_background": "light"
          }
        }
      ]
    },
    {
      "cell_type": "markdown",
      "metadata": {
        "id": "NIWIZEYV86or"
      },
      "source": [
        "# Question 6\n",
        "\n",
        "In an experiment to assess the effects of curing time (factor A) and type of mix (factor B) on the compressive strength of hardened cement cubes, three different curing times were used in combination with four different mixes, with three observations obtained for each of the 12 curing time-mix combinations. The resulting sums of squares were computed to be SSA = 29,521.1, SSB = 35,170.8, SSE = 97,521.8, and SST = 205,578.5.\n",
        "\n",
        "(a) Construct an ANOVA table. (Give df as exact integers, SS and MS to 1 decimal place, F to 2 decimal places, and p-values to 3 decimal places.)\n",
        "\n",
        "(b) Test at level .05 the null hypothesis HoAB: all γij's = 0 (no interaction of factors) against HaAB: at least one γij ≠ 0.\n",
        "\n",
        "(c) Test at level .05 the null hypothesis HoA: α1 = α2 = α3 = 0 (factor A main effects are absent) against HaA: at least one αi ≠ 0.\n",
        "\n",
        "(d) Test HoB: β1 = β2 = β3 = β4 = 0 versus HaB: at least one βj ≠ 0 using a level .05 test.\n",
        "\n",
        "(e) The values of the xi..'s were x1.. = 4010.88, x2.. = 4029.10, and x3.. = 3960.02. Use Tukey's procedure to investigate significant differences among the three curing times. (Give answer accurate to 2 decimal places.)\n"
      ]
    },
    {
      "cell_type": "code",
      "metadata": {
        "id": "j87dirNo86or",
        "colab": {
          "base_uri": "https://localhost:8080/"
        },
        "outputId": "94e702f6-4a32-44f2-9f59-995588fb38a3"
      },
      "source": [
        "a = 3\n",
        "b = 4\n",
        "n = 3\n",
        "\n",
        "N = n*a*b\n",
        "\n",
        "v_total = N - 1\n",
        "\n",
        "v_a = a - 1\n",
        "v_b = b - 1\n",
        "v_ab = v_a*v_b\n",
        "\n",
        "v_error = v_total - v_a - v_b - v_ab\n",
        "\n",
        "print (\"v_a, v_b, v_ab, v_error, v_total = \",v_a, v_b, v_ab, v_error, v_total)\n"
      ],
      "execution_count": 57,
      "outputs": [
        {
          "output_type": "stream",
          "text": [
            "v_a, v_b, v_ab, v_error, v_total =  2 3 6 24 35\n"
          ],
          "name": "stdout"
        }
      ]
    },
    {
      "cell_type": "code",
      "metadata": {
        "id": "FQLqoW3j86or",
        "colab": {
          "base_uri": "https://localhost:8080/"
        },
        "outputId": "1b18a5d9-154d-4b44-a0c1-574206398999"
      },
      "source": [
        "# calculate the relevant averages and sums of squares\n",
        "xbarbar = df['value'].mean()\n",
        "print()\n",
        "print (\"Xbarbar = \",xbarbar)\n",
        "\n",
        "SS_total = (N-1)*df['value'].std()**2\n",
        "\n",
        "print()\n",
        "print (\"SS_total = \",SS_total)\n",
        "\n",
        "x_a = df.groupby(['A'])[['value']].mean()\n",
        "x_a_bb = N/a*(x_a['value']-xbarbar)**2\n",
        "SS_a = x_a_bb.sum()\n",
        "print()\n",
        "print (\"SS_a = \",SS_a)\n",
        "\n",
        "x_b = df.groupby(['B'])[['value']].mean()\n",
        "x_b_bb = N/b*(x_b['value']-xbarbar)**2\n",
        "SS_b = x_b_bb.sum()\n",
        "print()\n",
        "print (\"SS_b = \",SS_b)\n",
        "\n",
        "x_ab = df.groupby(['A','B'])[['value']].mean()\n",
        "x_ab_bb = N/(a*b)*(x_ab['value']-xbarbar)**2\n",
        "SS_treatment = x_ab_bb.sum()\n",
        "SS_ab = SS_treatment-SS_a-SS_b\n",
        "print()\n",
        "print (\"SS_ab = \",SS_ab)\n",
        "\n",
        "SS_error = SS_total - SS_a - SS_b - SS_ab\n",
        "print()\n",
        "print (\"SS_error = \",SS_error)\n",
        "print()"
      ],
      "execution_count": 58,
      "outputs": [
        {
          "output_type": "stream",
          "text": [
            "\n",
            "Xbarbar =  10.277777777777779\n",
            "\n",
            "SS_total =  183.22222222222226\n",
            "\n",
            "SS_a =  114.22222222222224\n",
            "\n",
            "SS_b =  149.0\n",
            "\n",
            "SS_ab =  286.4444444444444\n",
            "\n",
            "SS_error =  -366.4444444444444\n",
            "\n"
          ],
          "name": "stdout"
        }
      ]
    },
    {
      "cell_type": "code",
      "metadata": {
        "id": "rSh8r9-C86or"
      },
      "source": [
        ""
      ],
      "execution_count": 58,
      "outputs": []
    },
    {
      "cell_type": "code",
      "metadata": {
        "id": "c8-ICSQ986or",
        "colab": {
          "base_uri": "https://localhost:8080/"
        },
        "outputId": "680a9edc-4e83-448f-9fcb-ffb1d517bca3"
      },
      "source": [
        "MS_a = SS_a/v_a\n",
        "MS_b = SS_b/v_b\n",
        "MS_ab = SS_ab/v_ab\n",
        "MS_error = SS_error/v_error\n",
        "\n",
        "fSN_a = MS_a/MS_error\n",
        "fSN_b = MS_b/MS_error\n",
        "fSN_ab = MS_ab/MS_error\n",
        "\n",
        "print (\"F Signal/Noise A = %0.2f \" % fSN_a)\n",
        "\n",
        "alpha = 0.05\n",
        "\n",
        "fdist_a = stats.f(v_a,v_error)\n",
        "fhigh_a = fdist_a.ppf(1-alpha)\n",
        "\n",
        "print (\"Critical F-value A = %0.2f\" % (fhigh_a))\n",
        "\n",
        "if (fSN_a > 1):\n",
        "    pvalue_a = (1-fdist_a.cdf(fSN_a))\n",
        "else:\n",
        "    pvalue_a = fdist_a.cdf(fSN_a)\n",
        "    \n",
        "print (\"Pvalue A = %0.3f\" % (pvalue_a))\n",
        "\n",
        "\n",
        "print (\"F Signal/Noise B = %0.2f \" % fSN_b)\n",
        "\n",
        "fdist_b = stats.f(v_b,v_error)\n",
        "fhigh_b = fdist_b.ppf(1-alpha)\n",
        "\n",
        "print (\"Critical F-value B = %0.2f\" % (fhigh_b))\n",
        "\n",
        "if (fSN_b > 1):\n",
        "    pvalue_b = (1-fdist_b.cdf(fSN_b))\n",
        "else:\n",
        "    pvalue_b = fdist_b.cdf(fSN_b)\n",
        "    \n",
        "print (\"Pvalue B = %0.3f\" % (pvalue_b))\n",
        "\n",
        "print (\"F Signal/Noise AB = %0.2f \" % fSN_ab)\n",
        "\n",
        "fdist_ab = stats.f(v_ab,v_error)\n",
        "fhigh_ab = fdist_ab.ppf(1-alpha)\n",
        "\n",
        "print (\"Critical F-value AB = %0.2f\" % (fhigh_ab))\n",
        "\n",
        "if (fSN_ab > 1):\n",
        "    pvalue_ab = (1-fdist_ab.cdf(fSN_ab))\n",
        "else:\n",
        "    pvalue_ab = fdist_ab.cdf(fSN_ab)\n",
        "    \n",
        "print (\"Pvalue AB = %0.3f\" % (pvalue_ab))\n",
        "\n",
        "# Print table\n",
        "print()\n",
        "print (\"Source     df     Sum of Squares Mean Square     f     P-value\")\n",
        "print (\"A          %0.0f       %0.2f            %0.2f       %0.2f    %0.4f\" %(v_a,SS_a,MS_a,fSN_a,pvalue_a))\n",
        "print (\"B          %0.0f       %0.2f           %0.2f       %0.2f    %0.4f\" %(v_b,SS_b,MS_b,fSN_b,pvalue_b))\n",
        "print (\"AB         %0.0f       %0.2f           %0.2f       %0.2f    %0.4f\" %(v_ab,SS_ab,MS_ab,fSN_ab,pvalue_ab))\n",
        "print (\"Error      %0.0f      %0.2f            %0.2f\" %(v_error,SS_error,MS_error))\n",
        "print (\"Total      %0.0f     %0.2f\" %(v_total,SS_total))"
      ],
      "execution_count": 59,
      "outputs": [
        {
          "output_type": "stream",
          "text": [
            "F Signal/Noise A = -3.74 \n",
            "Critical F-value A = 3.40\n",
            "Pvalue A = 0.000\n",
            "F Signal/Noise B = -3.25 \n",
            "Critical F-value B = 3.01\n",
            "Pvalue B = 0.000\n",
            "F Signal/Noise AB = -3.13 \n",
            "Critical F-value AB = 2.51\n",
            "Pvalue AB = 0.000\n",
            "\n",
            "Source     df     Sum of Squares Mean Square     f     P-value\n",
            "A          2       114.22            57.11       -3.74    0.0000\n",
            "B          3       149.00           49.67       -3.25    0.0000\n",
            "AB         6       286.44           47.74       -3.13    0.0000\n",
            "Error      24      -366.44            -15.27\n",
            "Total      35     183.22\n"
          ],
          "name": "stdout"
        }
      ]
    },
    {
      "cell_type": "markdown",
      "metadata": {
        "id": "DaZHJaWt86or"
      },
      "source": [
        "# Question 7\n",
        "\n",
        "To see whether thrust force in drilling is affected by drilling speed (A), feed rate (B), or material used (C), an experiment using four speeds, three rates, and two materials was performed, with two samples (L = 2) drilled at each combination of levels of the three factors. Sums of squares were calculated as follows: SSA = 19,122.02, SSB = 2,589,419.28, SSC = 158,083.12, SSAB = 52,465.89, SSAC = 9,046.12, SSBC = 92,061.74, and SSE = 57,721.17, and SST = 3,011,312.03. Construct the ANOVA table and identify significant interactions using α = 0.01. (Give SS and MS accurate to 1 decimal place, F values to 2 decimal places, and Df as exact integers.)"
      ]
    },
    {
      "cell_type": "code",
      "metadata": {
        "id": "npzQ29UL86or"
      },
      "source": [
        ""
      ],
      "execution_count": 59,
      "outputs": []
    },
    {
      "cell_type": "code",
      "metadata": {
        "id": "y1OCoBUD86or"
      },
      "source": [
        ""
      ],
      "execution_count": 59,
      "outputs": []
    },
    {
      "cell_type": "code",
      "metadata": {
        "id": "tRBxsQmF86or"
      },
      "source": [
        ""
      ],
      "execution_count": 59,
      "outputs": []
    },
    {
      "cell_type": "markdown",
      "metadata": {
        "id": "xTOFJ0Az86or"
      },
      "source": [
        "# Question 8\n",
        "\n",
        "In an automated chemical coating process, the speed with which objects on a conveyor belt are passed through a chemical spray (belt speed), the amount of chemical sprayed (spray volume), and the brand of chemical used (brand) are factors that may affect the uniformity of the coating applied. A replicated $2^3$ experiment was conducted in an effort to increase the coating uniformity. In the following table, higher values of the response variable are associated with higher surface uniformity.\n",
        "\n",
        "Analyze this data and state your conclusions. Let A = spray volume, B = belt speed, C = brand. (Use α = 0.05. Give answers accurate to 2 decimal places and Df as exact integers.)"
      ]
    },
    {
      "cell_type": "code",
      "metadata": {
        "id": "URi82cVB86or"
      },
      "source": [
        ""
      ],
      "execution_count": 59,
      "outputs": []
    },
    {
      "cell_type": "code",
      "metadata": {
        "id": "gdQg6ar486or"
      },
      "source": [
        ""
      ],
      "execution_count": 59,
      "outputs": []
    }
  ]
}