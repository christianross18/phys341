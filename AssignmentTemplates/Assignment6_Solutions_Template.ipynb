{
  "nbformat": 4,
  "nbformat_minor": 0,
  "metadata": {
    "kernelspec": {
      "display_name": "Python 3",
      "language": "python",
      "name": "python3"
    },
    "language_info": {
      "codemirror_mode": {
        "name": "ipython",
        "version": 3
      },
      "file_extension": ".py",
      "mimetype": "text/x-python",
      "name": "python",
      "nbconvert_exporter": "python",
      "pygments_lexer": "ipython3",
      "version": "3.6.8"
    },
    "colab": {
      "name": "Assignment6_Solutions_Template.ipynb",
      "provenance": []
    }
  },
  "cells": [
    {
      "cell_type": "markdown",
      "metadata": {
        "id": "WWPOOU2m86or"
      },
      "source": [
        "# Assignment 6 Solutions"
      ]
    },
    {
      "cell_type": "code",
      "metadata": {
        "id": "c0zXha6086or"
      },
      "source": [
        "import numpy as np\n",
        "import scipy.stats as stats\n",
        "import matplotlib.pyplot as plt\n",
        "import pandas as pd\n",
        "\n",
        "from statsmodels.formula.api import ols\n",
        "from statsmodels.stats.anova import anova_lm\n",
        "\n",
        "from scipy.special import gamma\n",
        "\n",
        "def q_tukey(k, v, alpha):\n",
        "\n",
        "    qarray = []\n",
        "    for k in range(2,k+1):\n",
        "        print (\"q_tukey: calculating k = \",k)\n",
        "\n",
        "        dq = 0.003\n",
        "        qd = np.array(np.arange(0.000,6.000,dq))\n",
        "\n",
        "        f = []\n",
        "        fs = []\n",
        "        found = False\n",
        "\n",
        "        for i in range(len(qd)):\n",
        "            q = qd[i]\n",
        "            prefactor = np.sqrt(2.0*np.pi)*k*(k-1)*v**(v/2.0)/(gamma(v/2.0)*2**(v/2.0-1))\n",
        "            npts = 100\n",
        "\n",
        "            xh = 6.0\n",
        "            xl = 0.0\n",
        "            dx = (xh-xl)/npts\n",
        "\n",
        "            x = np.arange(xl,xh,dx)\n",
        "            x = x.reshape(1,-1)\n",
        "    \n",
        "            ul = -6.0\n",
        "            uh = 6.0\n",
        "            du = (uh-ul)/npts\n",
        "            \n",
        "            u = np.arange(ul,uh,du)\n",
        "            u = u.reshape(-1,1)\n",
        "            \n",
        "            phi_u = stats.norm.pdf(u)\n",
        "            phi_ux = stats.norm.pdf(u-q*x)\n",
        "            Phi_u = stats.norm.cdf(u)\n",
        "            Phi_ux = stats.norm.cdf(u-q*x)\n",
        "            phi_x = stats.norm.pdf(np.sqrt(v)*x)\n",
        "            \n",
        "            integrand = x**v*phi_x*phi_u*phi_ux*(Phi_u-Phi_ux)**(k-2)*du*dx\n",
        "            \n",
        "            #print (\"U integral matrix\")\n",
        "            #print(u,phi_u,phi_ux,Phi_u,Phi_ux,phi_x,x**v,integrand)\n",
        "        \n",
        "            sumux = integrand.sum()\n",
        "            \n",
        "            #print (\"U sum\")\n",
        "            #print(sumux)\n",
        "            \n",
        "            #print (\"X sum * prefactor\")\n",
        "            #print (sumux*prefactor)\n",
        "\n",
        "            f.append(sumux*prefactor)\n",
        "            \n",
        "            if (i>0):\n",
        "                fs.append(f[i]*dq+fs[i-1])\n",
        "            else:\n",
        "                fs.append(f[i]*dq)\n",
        "\n",
        "            if (fs[i]>(1-alpha) and not(found)):\n",
        "                q_critical = qd[i-1] + ((1-alpha)-fs[i-1])*(qd[i]-qd[i-1])/(fs[i]-fs[i-1])\n",
        "                print (\"q_critical = \",q_critical)\n",
        "                found = True\n",
        "        \n",
        "            #print(q,f[i],fs[i])\n",
        "            \n",
        "        qarray.append(q_critical)\n",
        "        plt.scatter(q_critical,(1-alpha))\n",
        "    \n",
        "        f = np.array(f)\n",
        "        fs = np.array(fs)\n",
        "        plt.plot(qd,fs)\n",
        "\n",
        "    qarray=np.array(qarray)\n",
        "    return qarray"
      ],
      "execution_count": 6,
      "outputs": []
    },
    {
      "cell_type": "markdown",
      "metadata": {
        "id": "M1u09s7D86or"
      },
      "source": [
        "# Question 1\n",
        "\n",
        "The number of miles of useful tread wear (in 1000s) was determined for tires of each of five different makes of subcompact car (factor A, with I = 5) in combination with each of four different brands of radial tires (factor B, with J = 4), resulting in IJ = 20 observations. The values SSA = 30.3, SSB = 44.4, and SSE = 59.3 were then computed. Assume that an additive model is appropriate.\n",
        "\n",
        "(a) Test Ho: α1 = α2 = α3 = α4 = α5 = 0 (no differences in true average tire lifetime due to makes of cars) versus Ha: at least one αi ≠ 0 using a level .05 test. (Give answers accurate to 2 decimal places.)\n",
        "\n",
        "(b) Ho: β1 = β2 = β3 = β4 = 0 (no differences in true average tire lifetime due to brands of tires) versus Ha: at least one βi ≠ 0 using a level .05 test. (Give answers accurate to 2 decimal places.)"
      ]
    },
    {
      "cell_type": "code",
      "metadata": {
        "id": "DVSdiW9W86or",
        "outputId": "e6c1d835-9a54-4725-bf09-9bed97034f6c",
        "colab": {
          "base_uri": "https://localhost:8080/"
        }
      },
      "source": [
        "a = 5\n",
        "b = 4\n",
        "n = 1\n",
        "\n",
        "N = n*a*b\n",
        "\n",
        "v_total = N - 1\n",
        "v_a = a - 1\n",
        "v_b = b - 1\n",
        "v_error = v_total - v_a - v_b\n",
        "\n",
        "# NOTE!!  As only one data point is taken at each settings, we cannot determine correlations.\n",
        "\n",
        "SS_a = 30.3\n",
        "SS_b = 44.7\n",
        "SS_error = 59.6\n",
        "\n",
        "SS_total = SS_a + SS_b + SS_error\n",
        "\n",
        "# Calculate Mean squares, calculate f values, critical f values, and p values.\n",
        "\n",
        "MS_a = SS_a/v_a\n",
        "MS_b = SS_b/v_b\n",
        "MS_error = SS_error/v_error\n",
        "\n",
        "fSN_a = MS_a/MS_error\n",
        "fSN_b = MS_b/MS_error\n",
        "\n",
        "print (\"F Signal/Noise A = %0.2f \" % fSN_a)\n",
        "\n",
        "alpha = 0.05\n",
        "\n",
        "fdist_a = stats.f(v_a,v_error)\n",
        "fhigh_a = fdist_a.ppf(1-alpha)\n",
        "\n",
        "print (\"Critical F-value A = %0.2f\" % (fhigh_a))\n",
        "\n",
        "if (fSN_a > 1):\n",
        "    pvalue_a = (1-fdist_a.cdf(fSN_a))\n",
        "else:\n",
        "    pvalue_a = fdist_a.cdf(fSN_a)\n",
        "    \n",
        "print (\"Pvalue A = %0.3f\" % (pvalue_a))\n",
        "\n",
        "print (\"F Signal/Noise B = %0.2f \" % fSN_b)\n",
        "\n",
        "fdist_b = stats.f(v_b,v_error)\n",
        "fhigh_b = fdist_b.ppf(1-alpha)\n",
        "\n",
        "print (\"Critical F-value B = %0.2f\" % (fhigh_b))\n",
        "\n",
        "if (fSN_b > 1):\n",
        "    pvalue_b = (1-fdist_b.cdf(fSN_b))\n",
        "else:\n",
        "    pvalue_b = fdist_b.cdf(fSN_b)\n",
        "    \n",
        "print (\"Pvalue B = %0.3f\" % (pvalue_b))\n",
        "\n",
        "# Print table\n",
        "print()\n",
        "print (\"Source     df     Sum of Squares Mean Square     f     P-value\")\n",
        "print (\"A          %0.0f       %0.2f            %0.2f       %0.2f    %0.3f\" %(v_a,SS_a,MS_a,fSN_a,pvalue_a))\n",
        "print (\"B          %0.0f       %0.2f           %0.2f       %0.2f    %0.3f\" %(v_b,SS_b,MS_b,fSN_b,pvalue_b))\n",
        "print (\"Error      %0.0f      %0.2f            %0.2f\" %(v_error,SS_error,MS_error))\n",
        "print (\"Total      %0.0f     %0.2f\" %(v_total,SS_total))"
      ],
      "execution_count": 7,
      "outputs": [
        {
          "output_type": "stream",
          "text": [
            "F Signal/Noise A = 1.53 \n",
            "Critical F-value A = 3.26\n",
            "Pvalue A = 0.257\n",
            "F Signal/Noise B = 3.00 \n",
            "Critical F-value B = 3.49\n",
            "Pvalue B = 0.073\n",
            "\n",
            "Source     df     Sum of Squares Mean Square     f     P-value\n",
            "A          4       30.30            7.58       1.53    0.257\n",
            "B          3       44.70           14.90       3.00    0.073\n",
            "Error      12      59.60            4.97\n",
            "Total      19     134.60\n"
          ],
          "name": "stdout"
        }
      ]
    },
    {
      "cell_type": "markdown",
      "metadata": {
        "id": "AhhxeekK86or"
      },
      "source": [
        "# Question 2\n",
        "\n",
        "Four different coatings are being considered for corrosion protection of metal pipe. The pipe will be buried in three different types of soil. To investigate whether the amount of corrosion depends either on the coating or on the type of soil, 12 pieces of pipe are selected. Each piece is coated with one of the four coatings and buried in one of the three types of soil for a fixed time, after which the amount of corrosion (depth of maximum pits, in .0001 in.) is determined. The data appears in the table.\n",
        "\n",
        "(a) Assuming the validity of the additive model, carry out the ANOVA analysis using an ANOVA table to see whether the amount of corrosion depends on either the type of coating used or the type of soil. Use α = .05. (Give answers accurate to 2 decimal places and the p-values to 3 decimal places.)\n",
        "\n",
        "(b) Compute the model parameters. (Give answers to 2 decimal places.)"
      ]
    },
    {
      "cell_type": "code",
      "metadata": {
        "id": "QYnmy5u-86or",
        "outputId": "7b07f4f3-e081-42ce-9c62-ae5e22bf8f7f",
        "colab": {
          "base_uri": "https://localhost:8080/"
        }
      },
      "source": [
        "xijk = np.array([[63,1,1],[49,1,2],[49,1,3],\n",
        "                [51,2,1],[51,2,2],[49,2,3],\n",
        "                [46,3,1],[43,3,2],[52,3,3],\n",
        "                [52,4,1],[41,4,2],[52,4,3]])\n",
        "\n",
        "df = pd.DataFrame(xijk,columns=['value','A','B'])\n",
        "\n",
        "df.head(1000)\n",
        "\n",
        "formula = 'value ~ C(A) + C(B)'\n",
        "lm = ols(formula,df).fit()\n",
        "anovaResults = anova_lm(lm)\n",
        "print (anovaResults)"
      ],
      "execution_count": 8,
      "outputs": [
        {
          "output_type": "stream",
          "text": [
            "           df      sum_sq    mean_sq         F    PR(>F)\n",
            "C(A)      3.0   75.666667  25.222222  0.974249  0.464486\n",
            "C(B)      2.0  100.666667  50.333333  1.944206  0.223395\n",
            "Residual  6.0  155.333333  25.888889       NaN       NaN\n"
          ],
          "name": "stdout"
        }
      ]
    },
    {
      "cell_type": "markdown",
      "metadata": {
        "id": "mI2QV-jJ86or"
      },
      "source": [
        "### The model parameters are simply the differences between the group averages and the overall average ($\\mu$)"
      ]
    },
    {
      "cell_type": "code",
      "metadata": {
        "id": "vqBOHP3Q86or"
      },
      "source": [
        ""
      ],
      "execution_count": 8,
      "outputs": []
    },
    {
      "cell_type": "code",
      "metadata": {
        "id": "O0MdsLXc86or"
      },
      "source": [
        "#x_a = df.groupby(['A'])[['value']].mean()\n",
        "#x_a_bb = (x_a['value']-xbarbar)\n",
        "#\n",
        "#print(\"alpha: \",x_a_bb)"
      ],
      "execution_count": 9,
      "outputs": []
    },
    {
      "cell_type": "code",
      "metadata": {
        "id": "GdALoVgK86or",
        "outputId": "f24518fe-abdf-4f83-8297-0bb4f6cd6dfb",
        "colab": {
          "base_uri": "https://localhost:8080/"
        }
      },
      "source": [
        "N = len(xijk)\n",
        "v_total = N - 1\n",
        "\n",
        "a = 4\n",
        "b = 3\n",
        "\n",
        "n = N/(a*b)\n",
        "\n",
        "v_a = a - 1\n",
        "v_b = b - 1\n",
        "v_ab = v_a*v_b\n",
        "\n",
        "v_error = v_total - v_a - v_b - v_ab\n",
        "\n",
        "print (\"v_a, v_b, v_ab, v_error, v_total = \",v_a, v_b, v_ab, v_error, v_total)\n",
        "\n",
        "# calculate the relevant averages and sums of squares\n",
        "xbarbar = df['value'].mean()\n",
        "print()\n",
        "print (\"Xbarbar = \",xbarbar)\n",
        "\n",
        "SS_total = (N-1)*df['value'].std()**2\n",
        "\n",
        "print()\n",
        "print (\"SS_total = \",SS_total)\n",
        "\n",
        "x_a = df.groupby(['A'])[['value']].mean()\n",
        "x_a_bb = (x_a['value']-xbarbar)\n",
        "\n",
        "print (\"SS_a = \",x_a_bb)\n",
        "\n",
        "x_b = df.groupby(['B'])[['value']].mean()\n",
        "x_b_bb = (x_b['value']-xbarbar)\n",
        "\n",
        "print (\"SS_b = \",x_b_bb)\n"
      ],
      "execution_count": 12,
      "outputs": [
        {
          "output_type": "stream",
          "text": [
            "v_a, v_b, v_ab, v_error, v_total =  3 2 6 0 11\n",
            "\n",
            "Xbarbar =  49.833333333333336\n",
            "\n",
            "SS_total =  331.66666666666674\n",
            "SS_a =  A\n",
            "1    3.833333\n",
            "2    0.500000\n",
            "3   -2.833333\n",
            "4   -1.500000\n",
            "Name: value, dtype: float64\n",
            "SS_b =  B\n",
            "1    3.166667\n",
            "2   -3.833333\n",
            "3    0.666667\n",
            "Name: value, dtype: float64\n"
          ],
          "name": "stdout"
        }
      ]
    },
    {
      "cell_type": "markdown",
      "metadata": {
        "id": "i7QGHQkG86or"
      },
      "source": [
        "# Question 3\n",
        "\n",
        "The article \"Adiabatic Humidification of Air with Water in a Packed Tower\" (Chem. Eng. Prog., 1952: 362-370) reports data on gas film heat transfer coefficient (Btu/hr ft2 on °F) as a function of gas rate (factor A) and liquid rate (factor B).\n",
        "\n",
        "(a) After constructing an ANOVA table, test at level .01 both the hypothesis of no gas-rate effect against the appropriate alternative and the hypothesis of no liquid-rate effect against the appropriate alternative. (Give answers accurate to 1 decimal place.)\n",
        "\n",
        "(b) Use Tukey's procedure to investigate differences in expected heat transfer coefficient due to different gas rates. (Give answers accurate to 2 decimal places.)\n",
        "\n",
        "(c) Repeat part (b) for liquid rates. (Give answers accurate to 2 decimal places.)"
      ]
    },
    {
      "cell_type": "code",
      "metadata": {
        "id": "p22dxqRa86or"
      },
      "source": [
        "xijk = np.array([[63,1,1],[49,1,2],[49,1,3],[49,1,4],\n",
        "                [51,2,1],[51,2,2],[49,2,3],[49,2,4],\n",
        "                [46,3,1],[43,3,2],[52,3,3],[52,3,4],\n",
        "                [52,4,1],[41,4,2],[52,4,3],[52,4,4]])\n",
        "\n",
        "df = pd.DataFrame(xijk,columns=['value','A','B'])\n",
        "\n",
        "df.head(1000)\n",
        "\n",
        "formula = 'value ~ C(A) + C(B)'\n",
        "lm = ols(formula,df).fit()\n",
        "anovaResults = anova_lm(lm)\n",
        "print (anovaResults)"
      ],
      "execution_count": 10,
      "outputs": []
    },
    {
      "cell_type": "code",
      "metadata": {
        "id": "pbwKRdKX86or"
      },
      "source": [
        "xbar = df.groupby(['A'])[['value']].mean()\n",
        "xbar = np.array(xbar)\n",
        "xbar= xbar.flatten()"
      ],
      "execution_count": 10,
      "outputs": []
    },
    {
      "cell_type": "code",
      "metadata": {
        "id": "uI4AOjO786or"
      },
      "source": [
        ""
      ],
      "execution_count": 10,
      "outputs": []
    },
    {
      "cell_type": "markdown",
      "metadata": {
        "id": "oPs-2YvI86or"
      },
      "source": [
        "# Question 4\n",
        "\n",
        "In an experiment to assess the effect of the angle of pull on the force required to cause separation in electrical connectors, four different angles (factor A) were used and each of a sample of five connectors (factor B) was pulled once at each angle. The data appears in the accompanying table.\n",
        "\n",
        "Does the data suggest that true average separation force is affected by the angle of pull? State and test the appropriate hypotheses at level .01 by first constructing an ANOVA table (SST = 396.08, SSA = 56.12, SSB = 249.19). (Give answers accurate to 2 decimal places and the p-values to 3 decimal places.)"
      ]
    },
    {
      "cell_type": "code",
      "metadata": {
        "id": "e2E8ukJY86or"
      },
      "source": [
        ""
      ],
      "execution_count": 10,
      "outputs": []
    },
    {
      "cell_type": "markdown",
      "metadata": {
        "id": "2i008-6p86or"
      },
      "source": [
        "# Question 5\n",
        "\n",
        "The article \"The Effects of a Pneumatic Stool and a One-Legged Stool on Lower Limb Joint Load and Muscular Activity During Sitting and Rising\" (Ergonomics, 1993: 519-535) gives the accompanying data on the effort required of a subject to arise from four different types of stools (Borg Scale).\n",
        "\n",
        "Perform an analysis of variance using α = .05. (Give answers accurate to 2 decimal places.)\n",
        "\n"
      ]
    },
    {
      "cell_type": "code",
      "metadata": {
        "id": "6pnEDMhW86or"
      },
      "source": [
        ""
      ],
      "execution_count": 10,
      "outputs": []
    },
    {
      "cell_type": "code",
      "metadata": {
        "id": "tfAvs80d86or"
      },
      "source": [
        ""
      ],
      "execution_count": 10,
      "outputs": []
    },
    {
      "cell_type": "markdown",
      "metadata": {
        "id": "NIWIZEYV86or"
      },
      "source": [
        "# Question 6\n",
        "\n",
        "In an experiment to assess the effects of curing time (factor A) and type of mix (factor B) on the compressive strength of hardened cement cubes, three different curing times were used in combination with four different mixes, with three observations obtained for each of the 12 curing time-mix combinations. The resulting sums of squares were computed to be SSA = 29,521.1, SSB = 35,170.8, SSE = 97,521.8, and SST = 205,578.5.\n",
        "\n",
        "(a) Construct an ANOVA table. (Give df as exact integers, SS and MS to 1 decimal place, F to 2 decimal places, and p-values to 3 decimal places.)\n",
        "\n",
        "(b) Test at level .05 the null hypothesis HoAB: all γij's = 0 (no interaction of factors) against HaAB: at least one γij ≠ 0.\n",
        "\n",
        "(c) Test at level .05 the null hypothesis HoA: α1 = α2 = α3 = 0 (factor A main effects are absent) against HaA: at least one αi ≠ 0.\n",
        "\n",
        "(d) Test HoB: β1 = β2 = β3 = β4 = 0 versus HaB: at least one βj ≠ 0 using a level .05 test.\n",
        "\n",
        "(e) The values of the xi..'s were x1.. = 4010.88, x2.. = 4029.10, and x3.. = 3960.02. Use Tukey's procedure to investigate significant differences among the three curing times. (Give answer accurate to 2 decimal places.)\n"
      ]
    },
    {
      "cell_type": "code",
      "metadata": {
        "id": "j87dirNo86or"
      },
      "source": [
        "a = 3\n",
        "b = 4\n",
        "n = 3\n",
        "\n",
        "N = n*a*b\n",
        "\n",
        "v_total = N - 1\n",
        "v_a = a - 1\n",
        "v_b = b - 1\n",
        "v_ab = (a-1)*(b-1)\n",
        "v_treatment = \n",
        "v_error = v_total - v_a - v_b"
      ],
      "execution_count": 10,
      "outputs": []
    },
    {
      "cell_type": "code",
      "metadata": {
        "id": "FQLqoW3j86or"
      },
      "source": [
        ""
      ],
      "execution_count": 10,
      "outputs": []
    },
    {
      "cell_type": "code",
      "metadata": {
        "id": "rSh8r9-C86or"
      },
      "source": [
        ""
      ],
      "execution_count": 10,
      "outputs": []
    },
    {
      "cell_type": "code",
      "metadata": {
        "id": "c8-ICSQ986or"
      },
      "source": [
        "MS_a = SS_a/v_a\n",
        "MS_b = SS_b/v_b\n",
        "MS_ab = SS_ab/v_ab\n",
        "MS_error = SS_error/v_error\n",
        "\n",
        "fSN_a = MS_a/MS_error\n",
        "fSN_b = MS_b/MS_error\n",
        "fSN_ab = MS_ab/MS_error\n",
        "\n",
        "print (\"F Signal/Noise A = %0.2f \" % fSN_a)\n",
        "\n",
        "alpha = 0.05\n",
        "\n",
        "fdist_a = stats.f(v_a,v_error)\n",
        "fhigh_a = fdist_a.ppf(1-alpha)\n",
        "\n",
        "print (\"Critical F-value A = %0.2f\" % (fhigh_a))\n",
        "\n",
        "if (fSN_a > 1):\n",
        "    pvalue_a = (1-fdist_a.cdf(fSN_a))\n",
        "else:\n",
        "    pvalue_a = fdist_a.cdf(fSN_a)\n",
        "    \n",
        "print (\"Pvalue A = %0.3f\" % (pvalue_a))\n",
        "\n",
        "\n",
        "print (\"F Signal/Noise B = %0.2f \" % fSN_b)\n",
        "\n",
        "fdist_b = stats.f(v_b,v_error)\n",
        "fhigh_b = fdist_b.ppf(1-alpha)\n",
        "\n",
        "print (\"Critical F-value B = %0.2f\" % (fhigh_b))\n",
        "\n",
        "if (fSN_b > 1):\n",
        "    pvalue_b = (1-fdist_b.cdf(fSN_b))\n",
        "else:\n",
        "    pvalue_b = fdist_b.cdf(fSN_b)\n",
        "    \n",
        "print (\"Pvalue B = %0.3f\" % (pvalue_b))\n",
        "\n",
        "print (\"F Signal/Noise AB = %0.2f \" % fSN_ab)\n",
        "\n",
        "fdist_ab = stats.f(v_ab,v_error)\n",
        "fhigh_ab = fdist_ab.ppf(1-alpha)\n",
        "\n",
        "print (\"Critical F-value AB = %0.2f\" % (fhigh_ab))\n",
        "\n",
        "if (fSN_ab > 1):\n",
        "    pvalue_ab = (1-fdist_ab.cdf(fSN_ab))\n",
        "else:\n",
        "    pvalue_ab = fdist_ab.cdf(fSN_ab)\n",
        "    \n",
        "print (\"Pvalue AB = %0.3f\" % (pvalue_ab))\n",
        "\n",
        "# Print table\n",
        "print()\n",
        "print (\"Source     df     Sum of Squares Mean Square     f     P-value\")\n",
        "print (\"A          %0.0f       %0.2f            %0.2f       %0.2f    %0.4f\" %(v_a,SS_a,MS_a,fSN_a,pvalue_a))\n",
        "print (\"B          %0.0f       %0.2f           %0.2f       %0.2f    %0.4f\" %(v_b,SS_b,MS_b,fSN_b,pvalue_b))\n",
        "print (\"AB         %0.0f       %0.2f           %0.2f       %0.2f    %0.4f\" %(v_ab,SS_ab,MS_ab,fSN_ab,pvalue_ab))\n",
        "print (\"Error      %0.0f      %0.2f            %0.2f\" %(v_error,SS_error,MS_error))\n",
        "print (\"Total      %0.0f     %0.2f\" %(v_total,SS_total))"
      ],
      "execution_count": 10,
      "outputs": []
    },
    {
      "cell_type": "markdown",
      "metadata": {
        "id": "DaZHJaWt86or"
      },
      "source": [
        "# Question 7\n",
        "\n",
        "To see whether thrust force in drilling is affected by drilling speed (A), feed rate (B), or material used (C), an experiment using four speeds, three rates, and two materials was performed, with two samples (L = 2) drilled at each combination of levels of the three factors. Sums of squares were calculated as follows: SSA = 19,122.02, SSB = 2,589,419.28, SSC = 158,083.12, SSAB = 52,465.89, SSAC = 9,046.12, SSBC = 92,061.74, and SSE = 57,721.17, and SST = 3,011,312.03. Construct the ANOVA table and identify significant interactions using α = 0.01. (Give SS and MS accurate to 1 decimal place, F values to 2 decimal places, and Df as exact integers.)"
      ]
    },
    {
      "cell_type": "code",
      "metadata": {
        "id": "npzQ29UL86or"
      },
      "source": [
        ""
      ],
      "execution_count": 10,
      "outputs": []
    },
    {
      "cell_type": "code",
      "metadata": {
        "id": "y1OCoBUD86or"
      },
      "source": [
        ""
      ],
      "execution_count": 10,
      "outputs": []
    },
    {
      "cell_type": "code",
      "metadata": {
        "id": "tRBxsQmF86or"
      },
      "source": [
        ""
      ],
      "execution_count": 10,
      "outputs": []
    },
    {
      "cell_type": "markdown",
      "metadata": {
        "id": "xTOFJ0Az86or"
      },
      "source": [
        "# Question 8\n",
        "\n",
        "In an automated chemical coating process, the speed with which objects on a conveyor belt are passed through a chemical spray (belt speed), the amount of chemical sprayed (spray volume), and the brand of chemical used (brand) are factors that may affect the uniformity of the coating applied. A replicated $2^3$ experiment was conducted in an effort to increase the coating uniformity. In the following table, higher values of the response variable are associated with higher surface uniformity.\n",
        "\n",
        "Analyze this data and state your conclusions. Let A = spray volume, B = belt speed, C = brand. (Use α = 0.05. Give answers accurate to 2 decimal places and Df as exact integers.)"
      ]
    },
    {
      "cell_type": "code",
      "metadata": {
        "id": "URi82cVB86or"
      },
      "source": [
        ""
      ],
      "execution_count": 10,
      "outputs": []
    },
    {
      "cell_type": "code",
      "metadata": {
        "id": "gdQg6ar486or"
      },
      "source": [
        ""
      ],
      "execution_count": 10,
      "outputs": []
    }
  ]
}