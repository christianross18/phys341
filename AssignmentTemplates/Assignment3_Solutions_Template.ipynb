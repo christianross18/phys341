{
  "nbformat": 4,
  "nbformat_minor": 0,
  "metadata": {
    "kernelspec": {
      "display_name": "Python 3",
      "language": "python",
      "name": "python3"
    },
    "language_info": {
      "codemirror_mode": {
        "name": "ipython",
        "version": 3
      },
      "file_extension": ".py",
      "mimetype": "text/x-python",
      "name": "python",
      "nbconvert_exporter": "python",
      "pygments_lexer": "ipython3",
      "version": "3.6.8"
    },
    "colab": {
      "name": "Assignment3_Solutions_Template.ipynb",
      "provenance": []
    }
  },
  "cells": [
    {
      "cell_type": "markdown",
      "metadata": {
        "id": "ce1o8ED2GGdp"
      },
      "source": [
        "# Assignment 3 Solutions"
      ]
    },
    {
      "cell_type": "markdown",
      "metadata": {
        "id": "ZMeBDUotGGdq"
      },
      "source": [
        "# Question 1\n",
        "\n",
        "Determine the values of the following quantities. (Give answers accurate to 2 decimal places.)\n",
        "\n",
        "(a) t(.10,19)   \n",
        "\n",
        "(b) t(.05,19)      \n",
        "\n",
        "(c) t(.05,29)   \n",
        "\n",
        "(d) t(.05,50)    \n",
        "\n",
        "(e) t(.005,50)   "
      ]
    },
    {
      "cell_type": "markdown",
      "metadata": {
        "id": "q0JVvKS5GGdq"
      },
      "source": [
        "The t-distribution that WebAssign uses is known as a \"one-tailed t-distribution\". Thus, the specified probability ($\\alpha$) lies in a single tail, ABOVE the upper critical t-value.  The \"answer\" that WebAssign is looking for here is the upper critical t-value (which is positive)."
      ]
    },
    {
      "cell_type": "code",
      "metadata": {
        "id": "2U5X9I3IGGdr",
        "outputId": "145060a9-37c4-4299-da6a-af763ad44a5c",
        "colab": {
          "base_uri": "https://localhost:8080/"
        }
      },
      "source": [
        "import scipy.stats as stats\n",
        "from statsmodels.stats import power\n",
        "import numpy as np\n",
        "\n",
        "dnf=17\n",
        "a=.1\n",
        "g=stats.t(dnf)\n",
        "print(g.ppf(1-a))\n",
        "\n",
        "dnf=17\n",
        "a=.05\n",
        "g=stats.t(dnf)\n",
        "print(g.ppf(1-a))\n",
        "\n",
        "dnf=29\n",
        "a=.05\n",
        "g=stats.t(dnf)\n",
        "print(g.ppf(1-a))\n",
        "\n",
        "dnf=50\n",
        "a=.05\n",
        "g=stats.t(dnf)\n",
        "print(g.ppf(1-a))\n",
        "\n",
        "dnf=50\n",
        "a=.005\n",
        "g=stats.t(dnf)\n",
        "print(g.ppf(1-a))"
      ],
      "execution_count": 76,
      "outputs": [
        {
          "output_type": "stream",
          "text": [
            "1.3333793897216268\n",
            "1.7396067260750672\n",
            "1.6991270265334972\n",
            "1.6759050245283311\n",
            "2.6777932709408425\n"
          ],
          "name": "stdout"
        },
        {
          "output_type": "stream",
          "text": [
            "/usr/local/lib/python3.6/dist-packages/statsmodels/tools/_testing.py:19: FutureWarning: pandas.util.testing is deprecated. Use the functions in the public API at pandas.testing instead.\n",
            "  import pandas.util.testing as tm\n"
          ],
          "name": "stderr"
        }
      ]
    },
    {
      "cell_type": "markdown",
      "metadata": {
        "id": "GJGvrRwXGGdu"
      },
      "source": [
        "# Question 2\n",
        "\n",
        "Determine the t critical value(s) that will capture the desired t-curve area in each of the following cases. (Assume that central areas are centered at t = 0. Round your answers to three decimal places.)\n",
        "\n",
        "(a) Central area = 0.95, df = 10\n",
        "\n",
        "(b) Central area = 0.95, df = 30 \n",
        "\n",
        "(c) Central area = 0.99, df = 30\n",
        "\n",
        "(d) Central area = 0.99, df = 60\n",
        "\n",
        "(e) Upper-tail area = 0.01, df = 20\n",
        "\n",
        "(f) Lower-tail area = 0.025, df = 5"
      ]
    },
    {
      "cell_type": "code",
      "metadata": {
        "id": "Z2phAePaGGdu",
        "outputId": "5f4c177a-4f49-4608-96bf-2763e079d649",
        "colab": {
          "base_uri": "https://localhost:8080/"
        }
      },
      "source": [
        "dnf=10\n",
        "a=1-.95\n",
        "g=stats.t(dnf)\n",
        "print(g.ppf(1-a/2))\n",
        "\n",
        "dnf=30\n",
        "a=1-.95\n",
        "g=stats.t(dnf)\n",
        "print(g.ppf(1-a/2))\n",
        "\n",
        "dnf=30\n",
        "a=1-.99\n",
        "g=stats.t(dnf)\n",
        "print(g.ppf(1-a/2))\n",
        "\n",
        "dnf=40\n",
        "a=1-.99\n",
        "g=stats.t(dnf)\n",
        "print(g.ppf(1-a/2))\n",
        "\n",
        "dnf=25\n",
        "a=.01\n",
        "g=stats.t(dnf)\n",
        "print(g.ppf(1-a))\n",
        "\n",
        "dnf=5\n",
        "a=.025\n",
        "g=stats.t(dnf)\n",
        "print(g.ppf(a))"
      ],
      "execution_count": 77,
      "outputs": [
        {
          "output_type": "stream",
          "text": [
            "2.2281388519649385\n",
            "2.0422724563012373\n",
            "2.7499956535670305\n",
            "2.7044592674331502\n",
            "2.4851071754106413\n",
            "-2.57058183661474\n"
          ],
          "name": "stdout"
        }
      ]
    },
    {
      "cell_type": "markdown",
      "metadata": {
        "id": "E5yWLuMLGGdx"
      },
      "source": [
        "# Question 3\n",
        "\n",
        "Determine the t critical value for a two-sided confidence interval in each of the following situations. (Give answers accurate to 3 decimal places.)\n",
        "\n",
        "(a) Confidence level = 95%, df = 17\n",
        "\n",
        "(b) Confidence level = 95%, df = 18\n",
        "\n",
        "(c) Confidence level = 99%, df = 18  \n",
        "\n",
        "(d) Confidence level = 99%, n = 3  \n",
        "\n",
        "(e) Confidence level = 98%, df = 38  \n",
        "\n",
        "(f) Confidence level = 99%, n = 61"
      ]
    },
    {
      "cell_type": "code",
      "metadata": {
        "id": "ipQGnrrsGGdx",
        "outputId": "e7975f2c-6f55-494b-aa23-a16eae80c4ed",
        "colab": {
          "base_uri": "https://localhost:8080/"
        }
      },
      "source": [
        "dnf=15\n",
        "a=1-.95\n",
        "g=stats.t(dnf)\n",
        "print(g.ppf(1-a/2))\n",
        "\n",
        "dnf=18\n",
        "a=1-.95\n",
        "g=stats.t(dnf)\n",
        "print(g.ppf(1-a/2))\n",
        "\n",
        "dnf=18\n",
        "a=1-.99\n",
        "g=stats.t(dnf)\n",
        "print(g.ppf(1-a/2))\n",
        "\n",
        "dnf=4\n",
        "a=1-.99\n",
        "g=stats.t(dnf)\n",
        "print(g.ppf(1-a/2))\n",
        "\n",
        "dnf=34\n",
        "a=1-.98\n",
        "g=stats.t(dnf)\n",
        "print(g.ppf(1-a/2))\n",
        "\n",
        "dnf=50\n",
        "a=1-.99\n",
        "g=stats.t(dnf)\n",
        "print(g.ppf(1-a/2))"
      ],
      "execution_count": 78,
      "outputs": [
        {
          "output_type": "stream",
          "text": [
            "2.131449545559323\n",
            "2.10092204024096\n",
            "2.878440472713585\n",
            "4.604094871415897\n",
            "2.4411496279064764\n",
            "2.6777932709408425\n"
          ],
          "name": "stdout"
        }
      ]
    },
    {
      "cell_type": "markdown",
      "metadata": {
        "id": "R_tQ6jSmGGdz"
      },
      "source": [
        "# Question 4\n",
        "\n",
        "A random sample of n = 8 E-glass fiber test specimens of a certain type yielded a sample mean interfacial shear yield stress of 32.6 and a sample standard deviation of 3.3. Assuming that interfacial shear yield stress is normally distributed, compute a 95% CI for true average stress. (Give answer accurate to 2 decimal places.) "
      ]
    },
    {
      "cell_type": "code",
      "metadata": {
        "id": "26pNe_ksGGdz",
        "outputId": "450d6666-15b3-4490-b50b-b7fc0da78013",
        "colab": {
          "base_uri": "https://localhost:8080/"
        }
      },
      "source": [
        "n=8\n",
        "xbar=31.8\n",
        "std=3.4\n",
        "a=.95\n",
        "sem=std/np.sqrt(n)\n",
        "dnf=n-1\n",
        "print(stats.t.interval(a,dnf,loc=xbar,scale=sem))"
      ],
      "execution_count": 79,
      "outputs": [
        {
          "output_type": "stream",
          "text": [
            "(28.957528867159176, 34.642471132840825)\n"
          ],
          "name": "stdout"
        }
      ]
    },
    {
      "cell_type": "markdown",
      "metadata": {
        "id": "wdmUuF6QGGd2"
      },
      "source": [
        "# Question 5\n",
        "\n",
        "A sample of 14 joint specimens of a particular type gave a sample mean proportional limit stress of 8.06 MPa and a sample standard deviation of 0.66 MPa.\n",
        "\n",
        "(a) Calculate a 95% lower confidence bound for the true average proportional limit stress of all such joints. (Give answer accurate to 2 decimal places.)\n",
        "   \n",
        "\n",
        "(b) Calculate a 95% lower prediction bound for proportional limit stress of a single joint of this type. (Give answer accurate to 2 decimal places.)\n",
        "   "
      ]
    },
    {
      "cell_type": "code",
      "metadata": {
        "id": "gmYHJL3CGGd2",
        "outputId": "5c7068ee-75e9-4bc7-d7cb-67c29589743a",
        "colab": {
          "base_uri": "https://localhost:8080/"
        }
      },
      "source": [
        "n=14\n",
        "xbar=7.74\n",
        "std=.66\n",
        "a=(1-.95)\n",
        "sem=std/np.sqrt(n)\n",
        "dnf=n-1\n",
        "print(stats.t.ppf(a,dnf,loc=xbar,scale=sem))\n",
        "sem=std*(np.sqrt((n+1)/n))\n",
        "print(stats.t.ppf(a,dnf,loc=xbar,scale=sem))"
      ],
      "execution_count": 80,
      "outputs": [
        {
          "output_type": "stream",
          "text": [
            "7.4276207732212916\n",
            "6.530160456984912\n"
          ],
          "name": "stdout"
        }
      ]
    },
    {
      "cell_type": "markdown",
      "metadata": {
        "id": "sk2VJTpIGGd4"
      },
      "source": [
        "# Question 6\n",
        "\n",
        "Silicone implant augmentation rhinoplasty is used to correct congenital nose deformities. The success of the procedure depends on various biomechanical properties of the human nasal periosteum and fascia. An article reported that for a sample of 12 (newly deceased) adults, the mean failure strain (%) was 23.5, and the standard deviation was 4.3.\n",
        "\n",
        "(a) Assuming a normal distribution for failure strain, estimate true average strain in a way that conveys information about precision and reliability. (Use a 95% confidence interval. Give answer accurate to 1 decimal place.)\n",
        "\n",
        "\n",
        "(b) Predict the strain for a single adult in a way that conveys information about precision and reliability. (Use a 95% prediction interval. Give answer accurate to 1 decimal place.)\n",
        "\n",
        "How does the prediction compare to the estimate calculated in part (a)?"
      ]
    },
    {
      "cell_type": "code",
      "metadata": {
        "id": "Yc30qSV6GGd5",
        "outputId": "a4ce72d7-432b-4beb-83e4-874b2f3d82c6",
        "colab": {
          "base_uri": "https://localhost:8080/"
        }
      },
      "source": [
        "n=14\n",
        "df=n-1\n",
        "xbar=26.8\n",
        "std=3.7\n",
        "ci=.99\n",
        "sem=std/np.sqrt(n)\n",
        "print(stats.t.interval(ci,df,loc=xbar,scale=sem))\n",
        "ad= np.sqrt((n+1)/n)\n",
        "std=std*(ad)\n",
        "print(ad)\n",
        "print(stats.t.interval(ci,df,loc=xbar,scale=std))\n"
      ],
      "execution_count": 81,
      "outputs": [
        {
          "output_type": "stream",
          "text": [
            "(23.821261048442448, 29.778738951557553)\n",
            "1.0350983390135313\n",
            "(15.263393647918258, 38.336606352081745)\n"
          ],
          "name": "stdout"
        }
      ]
    },
    {
      "cell_type": "markdown",
      "metadata": {
        "id": "1i3NaZtbGGd7"
      },
      "source": [
        "# Question 7\n",
        "Determine the following.\n",
        "(a) The 97.5th percentile of the chi-squared distribution with v = 5. (Give answer accurate to 2 decimal places.)\n",
        "\n",
        "(b) The 1th percentile of the chi-squared distribution with v = 5. (Give answer accurate to 2 decimal places.) \n",
        "\n",
        "(c) P(13.85 <= χ2 <= 42.98), where χ2 is a chi-squared rv with v = 24. (Give answer accurate to 3 decimal places.) \n",
        "\n",
        "(d) P(χ2 < 14.611 or χ2 > 44.314), where χ2 is a chi-squared rv with v = 25. (Give answer accurate to 3 decimal places.)"
      ]
    },
    {
      "cell_type": "code",
      "metadata": {
        "id": "EoYQoxlGGGd8",
        "outputId": "77ddf902-5d8a-46a1-c3ce-89927fff2661",
        "colab": {
          "base_uri": "https://localhost:8080/"
        }
      },
      "source": [
        "print(stats.chi2.ppf(.975,8))\n",
        "print(stats.chi2.ppf(.10,12))\n",
        "print(stats.chi2.cdf(38.89,26)-stats.chi2.cdf(13.84,26))\n",
        "print(1-(stats.chi2.cdf(53.672,30)-stats.chi2.cdf(14.953,30)))"
      ],
      "execution_count": 82,
      "outputs": [
        {
          "output_type": "stream",
          "text": [
            "17.534546139484647\n",
            "6.303796059584324\n",
            "0.9251018504094888\n",
            "0.014997423013200173\n"
          ],
          "name": "stdout"
        }
      ]
    },
    {
      "cell_type": "markdown",
      "metadata": {
        "id": "0z3GDmOLGGd-"
      },
      "source": [
        "# Question 8\n",
        "\n",
        "The amount of lateral expansion (mils) was determined for a sample of n = 9 pulsed-power gas metal arc welds used in LNG ship containment tanks. The resulting sample standard deviation was s = 2.86 mils. Assuming normality, derive a 95% CI for σ2 and for σ. (Round your answers to two decimal places.) \n",
        "\n",
        "\n",
        "Recall the definition of $\\chi^2 = \\frac{(n-1)s^2}{\\sigma^2}$. Therefore, to find the CI for $\\sigma^2$, we can use that:\n",
        "\n",
        "$\\sigma^2 = \\frac{(n-1)s^2}{\\chi^2}$\n",
        "\n",
        "and thus use the confidence interval for $\\chi^2$."
      ]
    },
    {
      "cell_type": "code",
      "metadata": {
        "id": "TAWkpp3GGGd_",
        "outputId": "69f642cf-a44a-423e-ceb6-686a67415fb4",
        "colab": {
          "base_uri": "https://localhost:8080/"
        }
      },
      "source": [
        "n=5\n",
        "df=n-1\n",
        "ci=.95\n",
        "s=2.87\n",
        "\n",
        "cint=stats.chi2.interval(ci,df)\n",
        "print(cint)\n",
        "varh=df*s**2/cint[0]\n",
        "varl=df*s**2/cint[1]\n",
        "print(varl,varh)\n",
        "print(np.sqrt(varh))\n",
        "print(np.sqrt(varl))"
      ],
      "execution_count": 83,
      "outputs": [
        {
          "output_type": "stream",
          "text": [
            "(0.48441855708793014, 11.143286781877796)\n",
            "2.9567218940808666 68.01473543471097\n",
            "8.247104669804486\n",
            "1.7195121093149843\n"
          ],
          "name": "stdout"
        }
      ]
    },
    {
      "cell_type": "markdown",
      "metadata": {
        "id": "gGXLnaDwGGeA"
      },
      "source": [
        "# Question 9\n",
        "\n",
        "The following observations were made on fracture toughness of a base plate of 18% nickel maraging steel (in ksi √in., given in increasing order)].\n",
        "\n",
        "68.0\t71.9\t72.6\t73.1\t73.3\t73.5\t75.5\t75.7\t75.8\t76.1\t76.2\n",
        "\n",
        "76.2\t77.0\t77.9\t78.1\t79.6\t79.6\t79.9\t80.1\t82.2\t83.7\t90.3\n",
        "\n",
        "Calculate a 99% CI for the standard deviation of the fracture toughness distribution. (Give answer accurate to 2 decimal places.) "
      ]
    },
    {
      "cell_type": "code",
      "metadata": {
        "id": "fuq4K6rwGGeB"
      },
      "source": [
        "data=np.array([68.5,71.9,72.6,73.1,73.3,73.5,75.5,75.7,75.9,76.1,76.2,76.2,77.0,77.9,78.1,79.6,79.6,79.9,80.1,82.2,83.7,90.6])"
      ],
      "execution_count": 84,
      "outputs": []
    },
    {
      "cell_type": "code",
      "metadata": {
        "id": "68nAHT9jGGeD",
        "outputId": "5a70efc9-2f3a-4091-b000-aa029135aa1a",
        "colab": {
          "base_uri": "https://localhost:8080/"
        }
      },
      "source": [
        "print(data.mean(),data.std(ddof=1))"
      ],
      "execution_count": 85,
      "outputs": [
        {
          "output_type": "stream",
          "text": [
            "77.14545454545454 4.659831110032419\n"
          ],
          "name": "stdout"
        }
      ]
    },
    {
      "cell_type": "code",
      "metadata": {
        "id": "SXczcV5IGGeF",
        "outputId": "3a33b086-e13c-44d7-8419-efee997f5014",
        "colab": {
          "base_uri": "https://localhost:8080/"
        }
      },
      "source": [
        "n=len(data)\n",
        "df=n-1\n",
        "ci=.99\n",
        "s=data.std(ddof=1)\n",
        "\n",
        "cint=stats.chi2.interval(ci,df)\n",
        "print(cint)\n",
        "varh=df*s**2/cint[0]\n",
        "varl=df*s**2/cint[1]\n",
        "print(np.sqrt(varh))\n",
        "print(np.sqrt(varl))\n"
      ],
      "execution_count": 86,
      "outputs": [
        {
          "output_type": "stream",
          "text": [
            "(8.033653420232733, 41.40106477141761)\n",
            "7.533959441964182\n",
            "3.3187464092591843\n"
          ],
          "name": "stdout"
        }
      ]
    },
    {
      "cell_type": "markdown",
      "metadata": {
        "id": "Tt6eVz8bGGeH"
      },
      "source": [
        "# Question 10\n",
        "\n",
        "On the basis of extensive tests, the yield point of a particular type of mild steel-reinforcing bar is known to be normally distributed with σ = 100. The composition of the bar has been slightly modified, but the modification is not believed to have affected either the normality or the value of σ.\n",
        "\n",
        "(a) Assuming this to be the case, if a sample of 25 modified bars resulted in a sample average yield point of 8312 lb, compute a 90% CI for the true average yield point of the modified bar. (Round to the nearest integer.)\n",
        "\n",
        "(b) How would you modify the interval in part (a) to obtain a confidence level of 92%? (Give answer accurate to 2 decimal places.)"
      ]
    },
    {
      "cell_type": "code",
      "metadata": {
        "id": "Tg-7rM-RGGeI",
        "outputId": "46cf2697-c797-4ba7-a79d-93dd4600060b",
        "colab": {
          "base_uri": "https://localhost:8080/"
        }
      },
      "source": [
        "n=25\n",
        "sigma=100\n",
        "xbar=8567\n",
        "ci=.90\n",
        "sem=sigma/np.sqrt(n)\n",
        "\n",
        "print(stats.norm.interval(ci,loc=0,scale=1))\n",
        "print(stats.norm.interval(ci,loc=xbar,scale=sem))\n",
        "ci=.94\n",
        "print(stats.norm.interval(ci,loc=0,scale=1))\n",
        "print(stats.norm.interval(ci,loc=xbar,scale=sem))"
      ],
      "execution_count": 87,
      "outputs": [
        {
          "output_type": "stream",
          "text": [
            "(-1.6448536269514729, 1.6448536269514722)\n",
            "(8534.10292746097, 8599.89707253903)\n",
            "(-1.8807936081512509, 1.8807936081512509)\n",
            "(8529.384127836975, 8604.615872163025)\n"
          ],
          "name": "stdout"
        }
      ]
    },
    {
      "cell_type": "code",
      "metadata": {
        "id": "acmYpLtZGGeJ",
        "outputId": "36568a20-9d6b-4fc7-d8eb-d2586f5823db",
        "colab": {
          "base_uri": "https://localhost:8080/"
        }
      },
      "source": [
        "print (\"1a)\")\n",
        "avg= 629.5/100\n",
        "print (avg)\n",
        "print (\"1b)\")\n",
        "uncert= .5/100\n",
        "print (uncert)\n",
        "print (\"1c)\")\n",
        "print (9.94/((avg/(2*np.pi))**2))\n",
        "print (\"1d)\")\n",
        "dh=.01\n",
        "dt=uncert\n",
        "dgdh=abs(4*np.pi**2/avg**2)\n",
        "dgdt=abs(-8*9.94*np.pi**2/avg**3)\n",
        "print(dgdh*dh+dgdt*dt)\n",
        "print (\"1e)\")\n",
        "print(np.sqrt((dgdh*dh)**2+(dgdt*dt)**2))\n",
        "\n",
        "print()\n",
        "print()\n",
        "print()\n",
        "\n",
        "print (\"2a)\")\n",
        "p=.01\n",
        "n=25\n",
        "poi=stats.binom(n,p)\n",
        "print(poi.cdf(2))\n",
        "print (\"2b)\")\n",
        "print(1-poi.cdf(4))\n",
        "print (\"2c)\")\n",
        "print(poi.cdf(4)-poi.cdf(0))\n",
        "print (\"2d)\")\n",
        "print(poi.cdf(0))\n",
        "print (\"2e)\")\n",
        "print(n*p)\n",
        "print(poi.std())\n",
        "\n",
        "print()\n",
        "print()\n",
        "print()\n",
        "\n",
        "print (\"3a)\")\n",
        "xbar=3.01\n",
        "n=25\n",
        "std=.08\n",
        "n2=30\n",
        "xbar2=3.06\n",
        "std2=.03\n",
        "sem=std/np.sqrt(n)\n",
        "sem2=std2/np.sqrt(n2)\n",
        "t1=stats.t(n-1,loc=xbar,scale=std)\n",
        "t2=stats.t(n2-1,loc=xbar2,scale=std2)\n",
        "print(sem)\n",
        "print (\"3b)\")\n",
        "print(sem2)\n",
        "print (\"3c)\")\n",
        "print (t1.cdf(3.1)-t1.cdf(2.9))\n",
        "print (\"3d)\")\n",
        "print (t2.cdf(3.1)-t2.cdf(2.9))\n",
        "\n",
        "print()\n",
        "print()\n",
        "print()\n",
        "\n",
        "print (\"4)\")\n",
        "mu=95\n",
        "std=2\n",
        "xbar=94\n",
        "xd=1\n",
        "lb=90\n",
        "hb=98\n",
        "a=.001\n",
        "b=.2\n",
        "norm=stats.norm(loc=mu,scale=std)\n",
        "xl=norm.ppf(a)\n",
        "zl=stats.norm.ppf(a/2,loc=0,scale=1)\n",
        "n = power.tt_ind_solve_power(effect_size = np.sqrt(2.0)*(xbar-mu)/std, alpha=2.0*a, power= 1-b)\n",
        "\n",
        "print(n)\n"
      ],
      "execution_count": 90,
      "outputs": [
        {
          "output_type": "stream",
          "text": [
            "1a)\n",
            "6.295\n",
            "1b)\n",
            "0.005\n",
            "1c)\n",
            "9.902723481949826\n",
            "1d)\n",
            "0.025693592169291436\n",
            "1e)\n",
            "0.018620383581132\n",
            "\n",
            "\n",
            "\n",
            "2a)\n",
            "0.9980493231102612\n",
            "2b)\n",
            "4.495958469075134e-06\n",
            "2c)\n",
            "0.22217414464238427\n",
            "2d)\n",
            "0.7778213593991467\n",
            "2e)\n",
            "0.25\n",
            "0.49749371855331\n",
            "\n",
            "\n",
            "\n",
            "3a)\n",
            "0.016\n",
            "3b)\n",
            "0.005477225575051661\n",
            "3c)\n",
            "0.7732262115228932\n",
            "3d)\n",
            "0.903593967736684\n",
            "\n",
            "\n",
            "\n",
            "4)\n",
            "64.24522476414043\n"
          ],
          "name": "stdout"
        }
      ]
    }
  ]
}