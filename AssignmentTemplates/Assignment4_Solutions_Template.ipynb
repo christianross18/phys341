{
  "nbformat": 4,
  "nbformat_minor": 0,
  "metadata": {
    "kernelspec": {
      "display_name": "Python 3",
      "language": "python",
      "name": "python3"
    },
    "language_info": {
      "codemirror_mode": {
        "name": "ipython",
        "version": 3
      },
      "file_extension": ".py",
      "mimetype": "text/x-python",
      "name": "python",
      "nbconvert_exporter": "python",
      "pygments_lexer": "ipython3",
      "version": "3.6.8"
    },
    "colab": {
      "name": "Assignment4_Solutions_Template.ipynb",
      "provenance": []
    }
  },
  "cells": [
    {
      "cell_type": "markdown",
      "metadata": {
        "id": "J43oIiiOyM4h"
      },
      "source": [
        "# Assignment 4 Solutions\n",
        "\n",
        "In performing a two-sample t-test, there are two distinct situations to consider:\n",
        "\n",
        "1.  The variances of the two samples are equal to one another (i.e. we are sampling from the same population).\n",
        "2.  The variances of the two samples are not equal to one another (i.e. we are sampling from two different populations).\n",
        "\n",
        "For this assignment, the textbook assumes always that situation 2 is the case!!!!!\n",
        "\n",
        "In these instances, we calculate the standard error in the mean (SEM) and the combined number of degrees of freedom as follows:\n",
        "\n",
        "$SEM = \\sqrt{\\frac{s_1^2}{n_1} + \\frac{s_2^2}{n_2}}$\n",
        "\n",
        "$df = \\frac{ \\left( \\frac{s_1^2}{n_1} + \\frac{s_2^2}{n_2}    \\right)^2 }{\\frac{ \\left(\\frac{s_1^2}{n_1}\\right)^2   }{n_1-1} + \\frac{ \\left(\\frac{s_2^2}{n_2}\\right)^2   }{n_2-1}}$"
      ]
    },
    {
      "cell_type": "code",
      "metadata": {
        "id": "fCxjgQ1YyM4i"
      },
      "source": [
        "import numpy as np\n",
        "import scipy.stats as stats\n",
        "import matplotlib.pyplot as plt\n",
        "\n",
        "def sem_neq(n1,n2,s1,s2):\n",
        "    sm = np.sqrt(s1**2/n1+s2**2/n2)\n",
        "    return float(sm)\n",
        "\n",
        "def ndof_neq(n1,n2,s1,s2):\n",
        "    v1 = s1**2/n1\n",
        "    v2 = s2**2/n2\n",
        "    dof = (v1+v2)**2/(v1**2/(n1-1)+v2**2/(n2-1))\n",
        "    return int(dof)\n",
        "\n",
        "def sem_eq(n1,n2,s1,s2):\n",
        "    sp = np.sqrt(((n1-1)*s1**2+(n2-1)*s2**2)/(n1+n2-2))\n",
        "    sm = sp*np.sqrt(1.0/n1+1.0/n2)\n",
        "    return float(sm)\n",
        "\n",
        "def ndof_eq(n1,n2,s1,s2):\n",
        "    dof = n2+n1-2\n",
        "    return int(dof)"
      ],
      "execution_count": 1,
      "outputs": []
    },
    {
      "cell_type": "markdown",
      "metadata": {
        "id": "bt3Fd77vyM4l"
      },
      "source": [
        "# Question 1"
      ]
    },
    {
      "cell_type": "markdown",
      "metadata": {
        "id": "PwizgFY3yM4l"
      },
      "source": [
        "Determine the number of degrees of freedom for the two-sample t test or CI in each of the following situations. \n",
        "(Exact integer answers required.)\n",
        "\n",
        "(a) m = 10, n = 13, s1 = 4.8, s2 = 5.7\n",
        "\n",
        "\n",
        "(b) m = 14, n = 23, s1 = 5.1, s2 = 5.8\n",
        "\n",
        "\n",
        "(c) m = 6, n = 7, s1 = 2.3, s2 = 6.2\n",
        "\n",
        "\n",
        "(d) m = 10, n = 23, s1 = 4.1, s2 = 6.6"
      ]
    },
    {
      "cell_type": "code",
      "metadata": {
        "id": "5zS41gQHyM4m",
        "outputId": "398b687e-afae-4dc4-ca46-37855a0f8ca2",
        "colab": {
          "base_uri": "https://localhost:8080/"
        }
      },
      "source": [
        "n1=5\n",
        "n2=6\n",
        "s1=5\n",
        "s2=5.9\n",
        "print(ndof_neq(n1,n2,s1,s2))\n",
        "\n",
        "n1=9\n",
        "n2=21\n",
        "s1=4.5\n",
        "s2=6\n",
        "print(ndof_neq(n1,n2,s1,s2))\n",
        "\n",
        "n1=14\n",
        "n2=5\n",
        "s1=2.2\n",
        "s2=6.1\n",
        "print(ndof_neq(n1,n2,s1,s2))\n",
        "\n",
        "n1=7\n",
        "n2=20\n",
        "s1=3.6\n",
        "s2=7.2\n",
        "print(ndof_neq(n1,n2,s1,s2))"
      ],
      "execution_count": 2,
      "outputs": [
        {
          "output_type": "stream",
          "text": [
            "8\n",
            "20\n",
            "4\n",
            "21\n"
          ],
          "name": "stdout"
        }
      ]
    },
    {
      "cell_type": "code",
      "metadata": {
        "id": "fv9d1eHzyM4o"
      },
      "source": [
        ""
      ],
      "execution_count": 2,
      "outputs": []
    },
    {
      "cell_type": "markdown",
      "metadata": {
        "id": "p8KjuBEKyM4q"
      },
      "source": [
        "# Question 2\n",
        "\n",
        "Let μ1 and μ2 denote true average densities for two different types of brick. Assuming normality of the two density distributions, test Ho: μ1 – μ2 = 0 versus Ha: μ1 – μ2 ≠ 0 using the following data: m = 6, x = 22.27, s1 = 0.156, n = 5, y = 20.22, and s2 = 0.234. (Use α = 0.05. Give ν to exact integer and t to 2 decimal places.)"
      ]
    },
    {
      "cell_type": "code",
      "metadata": {
        "id": "Khpxr1ByyM4r",
        "outputId": "c285b490-7b97-4364-b5a3-d57dd346896b",
        "colab": {
          "base_uri": "https://localhost:8080/"
        }
      },
      "source": [
        "n1=6\n",
        "n2=5\n",
        "s1=.165\n",
        "s2=.239\n",
        "x1=23.37\n",
        "x2=20.75\n",
        "a=.05\n",
        "sem=sem_neq(n1,n2,s1,s2)\n",
        "t=(x1-x2)/sem\n",
        "print(ndof_neq(n1,n2,s1,s2))\n",
        "print(t)\n",
        "t, pVal = stats.ttest_ind_from_stats(x1,s1,n1,x2,s2,n2)\n",
        "print (\"T-value = %0.3f, P-value = %0.3f\" % (t,pVal))"
      ],
      "execution_count": 3,
      "outputs": [
        {
          "output_type": "stream",
          "text": [
            "6\n",
            "20.7377540447973\n",
            "T-value = 21.497, P-value = 0.000\n"
          ],
          "name": "stdout"
        }
      ]
    },
    {
      "cell_type": "markdown",
      "metadata": {
        "id": "EOJl1OOvyM4t"
      },
      "source": [
        "# Question 3\n",
        "\n",
        "Quantitative noninvasive techniques are needed for routinely assessing symptoms of peripheral neuropathies, such as carpal tunnel syndrome (CTS). An article reported on a test that involved sensing a tiny gap in an otherwise smooth surface by probing with a finger; this functionally resembles many work-related tactile activities, such as detecting scratches or surface defects. When finger probing was not allowed, the sample average gap detection threshold for m = 8 normal subjects was 1.8 mm, and the sample standard deviation was 0.49; for n = 12 CTS subjects, the sample mean and sample standard deviation were 2.52 and 0.85, respectively. Does this data suggest that the true average gap detection threshold for CTS subjects exceeds that for normal subjects? State and test the relevant hypotheses using a significance level of .01. (Give answers accurate to 2 decimal places.)"
      ]
    },
    {
      "cell_type": "code",
      "metadata": {
        "id": "ekIrVnUByM4t",
        "outputId": "7376e254-0a71-4921-ef27-862491da40a6",
        "colab": {
          "base_uri": "https://localhost:8080/"
        }
      },
      "source": [
        "n1=6\n",
        "n2=8\n",
        "s1=.53\n",
        "s2=.81\n",
        "x1=1.66\n",
        "x2=2.42\n",
        "a=.01\n",
        "sem=sem_neq(n1,n2,s1,s2)\n",
        "t=(x1-x2)/sem\n",
        "print(ndof_neq(n1,n2,s1,s2))\n",
        "print(t)\n",
        "df = ndof_neq(n1,n2,s1,s2)\n",
        "tdist = stats.t(df)\n",
        "tlow = tdist.ppf(a/2.0)\n",
        "thigh = tdist.ppf(1-a/2.0)\n",
        "\n",
        "print (\"Critical T values = %0.3f, %0.3f\" % (tlow,thigh))\n",
        "t, pVal = stats.ttest_ind_from_stats(x1,s1,n1,x2,s2,n2)\n",
        "print (\"T-value = %0.3f, P-value = %0.3f\" % (t,pVal))\n",
        "\n",
        "if (pVal < a):\n",
        "      print(\"Reject the null hypothesis ... P-value is less than alpha\")\n",
        "else:\n",
        "      print(\"Fail to reject the null hypothesis ... P-value is greater than alpha\")\n"
      ],
      "execution_count": 4,
      "outputs": [
        {
          "output_type": "stream",
          "text": [
            "11\n",
            "-2.1174174775305445\n",
            "Critical T values = -3.106, 3.106\n",
            "T-value = -1.991, P-value = 0.070\n",
            "Fail to reject the null hypothesis ... P-value is greater than alpha\n"
          ],
          "name": "stdout"
        }
      ]
    },
    {
      "cell_type": "markdown",
      "metadata": {
        "id": "eJlG9TafyM4w"
      },
      "source": [
        "# Question 4\n",
        "\n",
        "The slant shear test is widely accepted for evaluating the bond of resinous repair materials to concrete; it utilizes cylinder specimens made of two identical halves bonded at 30°. For 12 specimens prepared using wire-brushing, the sample mean shear strength (N/mm2) and sample standard deviation were 18.23 and 1.48, respectively, whereas for 12 hand-chiseled specimens, the corresponding values were 23.47 and 4.01. Does the true average strength appear to be different for the two methods of surface preparation? Test the relevant hypotheses using a significance level of .05. (Give ν to exact integer and t to 2 decimal places.)"
      ]
    },
    {
      "cell_type": "code",
      "metadata": {
        "id": "y_-ayXLcyM4w",
        "outputId": "34ff9d48-5f47-4226-ca51-ba1e1cb5b472",
        "colab": {
          "base_uri": "https://localhost:8080/"
        }
      },
      "source": [
        "n1=12\n",
        "n2=12\n",
        "s1=1.72\n",
        "s2=4.11\n",
        "x1=18.4\n",
        "x2=23.85\n",
        "a=.05\n",
        "sem=sem_neq(n1,n2,s1,s2)\n",
        "t=(x1-x2)/sem\n",
        "print(ndof_neq(n1,n2,s1,s2))\n",
        "print(t)\n",
        "df = ndof_neq(n1,n2,s1,s2)\n",
        "tdist = stats.t(df)\n",
        "tlow = tdist.ppf(a/2.0)\n",
        "thigh = tdist.ppf(1-a/2.0)\n",
        "\n",
        "print (\"Critical T values = %0.3f, %0.3f\" % (tlow,thigh))\n",
        "t, pVal = stats.ttest_ind_from_stats(x1,s1,n1,x2,s2,n2)\n",
        "print (\"T-value = %0.3f, P-value = %0.3f\" % (t,pVal))\n",
        "\n",
        "if (pVal < a):\n",
        "      print(\"Reject the null hypothesis ... P-value is less than alpha\")\n",
        "else:\n",
        "      print(\"Fail to reject the null hypothesis ... P-value is greater than alpha\")"
      ],
      "execution_count": 5,
      "outputs": [
        {
          "output_type": "stream",
          "text": [
            "14\n",
            "-4.237418907722181\n",
            "Critical T values = -2.145, 2.145\n",
            "T-value = -4.237, P-value = 0.000\n",
            "Reject the null hypothesis ... P-value is less than alpha\n"
          ],
          "name": "stdout"
        }
      ]
    },
    {
      "cell_type": "code",
      "metadata": {
        "id": "1zO54e_0yM4z"
      },
      "source": [
        ""
      ],
      "execution_count": 5,
      "outputs": []
    },
    {
      "cell_type": "markdown",
      "metadata": {
        "id": "SyQ_p56GyM42"
      },
      "source": [
        "# Question 5\n",
        "\n",
        "Consider the accompanying data on breaking load (kg/25 mm width) for various fabrics in both an unabraded condition and an abraded condition. Use the paired t test to test Ho: μD = 0 versus Ha: μD > 0 at significance level .01. (Give answers accurate to 2 decimal places.)"
      ]
    },
    {
      "cell_type": "code",
      "metadata": {
        "id": "PwsakvbLyM42",
        "outputId": "e6f0aeb6-4441-4ea5-e578-9ce10b5ff5f9",
        "colab": {
          "base_uri": "https://localhost:8080/"
        }
      },
      "source": [
        "yf=np.array([30.7,55.0,54.9,38.7,41.6,48.8,22.3,49.8])\n",
        "of=np.array([21.7,20.0,47.8,34.5,35.0,52.5,21.3,46.5])\n",
        "\n",
        "n1 = len(yf)\n",
        "n2 = len(of)\n",
        "\n",
        "dof1 = n1-1\n",
        "dof2 = n2-1\n",
        "\n",
        "s1 = yf.std(ddof=1)\n",
        "s2 = of.std(ddof=1)\n",
        "\n",
        "xbar1 = yf.mean()\n",
        "xbar2 = of.mean()\n",
        "\n",
        "a=.01\n",
        "sem=sem_neq(n1,n2,s1,s2)\n",
        "t=(xbar1-xbar2)/sem\n",
        "print(ndof_neq(n1,n2,s1,s2))\n",
        "print(t)\n",
        "df = ndof_eq(n1,n2,s1,s2)\n",
        "tdist = stats.t(dof1)\n",
        "tlow = tdist.ppf(a/2.0)\n",
        "thigh = tdist.ppf(1-a/2.0)\n",
        "\n",
        "print (\"Critical T values = %0.3f, %0.3f\" % (tlow,thigh))\n",
        "\n",
        "t, pVal = stats.ttest_rel(yf,of)\n",
        "print (\"T-value = %0.3f, P-value = %0.3f\" % (t,pVal))\n",
        "\n",
        "t, pVal = stats.ttest_ind_from_stats(xbar1,s1,n1,xbar2,s2,n2)\n",
        "print (\"T-value = %0.3f, P-value = %0.3f\" % (t,pVal))\n",
        "\n",
        "if (pVal < a):\n",
        "      print(\"Reject the null hypothesis ... P-value is less than alpha\")\n",
        "else:\n",
        "      print(\"Fail to reject the null hypothesis ... P-value is greater than alpha\")"
      ],
      "execution_count": 6,
      "outputs": [
        {
          "output_type": "stream",
          "text": [
            "13\n",
            "1.2587411999297142\n",
            "Critical T values = -3.499, 3.499\n",
            "T-value = 1.892, P-value = 0.100\n",
            "T-value = 1.259, P-value = 0.229\n",
            "Fail to reject the null hypothesis ... P-value is greater than alpha\n"
          ],
          "name": "stdout"
        }
      ]
    },
    {
      "cell_type": "markdown",
      "metadata": {
        "id": "8mxfJW0wyM46"
      },
      "source": [
        "# Question 6\n",
        "\n",
        "Data on the modulus of elasticity obtained 1 minute after loading in a certain configuration and 4 weeks after loading for the same lumber specimens is presented here.\n",
        "\n",
        "Calculate and interpret an upper confidence bound for the true average difference between 1-minute modulus and 4-week modulus; first check the plausibility of any necessary assumptions. (Use α = 0.05. Round your answer to the nearest whole number.)\n",
        "\n",
        "The data for this question is stored in a local file called A4Q6.csv"
      ]
    },
    {
      "cell_type": "code",
      "metadata": {
        "id": "vVvPHjjUyM47",
        "outputId": "6eeddc27-e94b-4c05-b87a-ac4d8736a95d",
        "colab": {
          "base_uri": "https://localhost:8080/"
        }
      },
      "source": [
        "diff=np.array([1136,3370,2580,2270,2850,2690,2180,1794,2210,2350,2260,3526,2880,2750,2520,1823])\n",
        "n1=len(diff)\n",
        "s1=diff.std(ddof=1)\n",
        "x1=diff.mean()\n",
        "a=.05\n",
        "sem=stats.sem(diff)\n",
        "t=(x1-0)/sem\n",
        "print(t)\n",
        "df = n1-1\n",
        "tdist = stats.t(df,loc=x1,scale=s1)\n",
        "tlow = tdist.ppf(a/2.0)\n",
        "thigh = tdist.ppf(1-a/2.0)\n",
        "\n",
        "print (\"Critical T values = %0.3f, %0.3f\" % (tlow,thigh))"
      ],
      "execution_count": 7,
      "outputs": [
        {
          "output_type": "stream",
          "text": [
            "16.517126219099023\n",
            "Critical T values = 1185.028, 3713.597\n"
          ],
          "name": "stdout"
        }
      ]
    },
    {
      "cell_type": "code",
      "metadata": {
        "id": "tHbD9wOsyM5A"
      },
      "source": [
        ""
      ],
      "execution_count": 7,
      "outputs": []
    },
    {
      "cell_type": "markdown",
      "metadata": {
        "id": "tBRqoN_LyM5C"
      },
      "source": [
        "# Question 7\n",
        "\n",
        "Give as much information as you can about the P-value of the F test in each of the following situations. (Give answers accurate to 3 decimal places.)\n",
        "\n",
        "(a) ν1 = 5, ν2 = 10, upper-tailed test, f = 2.52\n",
        "\n",
        "(b) ν1 = 5, ν2 = 10, upper-tailed test, f = 5.64 \n",
        "\n",
        "(c) ν1 = 5, ν2 = 10, two-tailed test, f = 5.64 \n",
        "\n",
        "(d) ν1 = 5, ν2 = 10, lower-tailed test, f = 5.64\n",
        "\n",
        "(e) ν1 = 40, ν2 = 20, upper-tailed test, f = 3.86"
      ]
    },
    {
      "cell_type": "code",
      "metadata": {
        "id": "1c5aZit3yM5D"
      },
      "source": [
        "def fpvalue(fvalue,dof1,dof2,test):\n",
        "    fdist = stats.f(dof1,dof2)\n",
        "\n",
        "    if (fvalue > 1):\n",
        "        if test == \"upper\":\n",
        "            pvalue = (1-fdist.cdf(fvalue))\n",
        "        if test == \"two\":\n",
        "            pvalue = 2.0*(1-fdist.cdf(fvalue))\n",
        "        if test == \"lower\":\n",
        "            pvalue = fdist.cdf(fvalue)\n",
        "    else:\n",
        "        if test == \"upper\":\n",
        "            pvalue = fdist.cdf(fvalue)\n",
        "        if test == \"two\":\n",
        "            pvalue = 2.0*fdist.cdf(fvalue)\n",
        "        if test == \"lower\":\n",
        "            pvalue = (1-fdist.cdf(fvalue))\n",
        "            \n",
        "    print (\"Pvalue = %0.3f\" % (pvalue))\n",
        "def fp(f,d1,d2,test):\n",
        "    fdist=stats.f(d1,d2)\n",
        "    if(f>1):\n",
        "      if(test==\"u\"):\n",
        "        p=(1-fdist.cdf(f))\n",
        "      if(test==\"b\"):\n",
        "        p=2.0*(1-fdist.cdf(f))\n",
        "      if(test==\"l\"):\n",
        "        p=(fdist.cdf(f))\n",
        "    else:\n",
        "      if(test==\"u\"):\n",
        "        p=(fdist.cdf(f))\n",
        "      if(test==\"b\"):\n",
        "        p=2.0*(fdist.cdf(f))\n",
        "      if(test==\"l\"):\n",
        "        p=(1-fdist.cdf(f))\n",
        "    print (\"Pvalue = %0.3f\" % (p))"
      ],
      "execution_count": 8,
      "outputs": []
    },
    {
      "cell_type": "code",
      "metadata": {
        "id": "5ywzzRrGyM5E",
        "outputId": "214be9cd-32b1-40a9-8a2f-c2783c98c3a2",
        "colab": {
          "base_uri": "https://localhost:8080/"
        }
      },
      "source": [
        "fv = 3.33\n",
        "d1v = 5 \n",
        "d2v =10\n",
        "tes =\"u\"\n",
        "fp(fv,d1v,d2v,tes)\n",
        "\n",
        "fv = 10.48\n",
        "d1v = 5 \n",
        "d2v =10\n",
        "tes =\"u\"\n",
        "fp(fv,d1v,d2v,tes)\n",
        "\n",
        "fv = 2.52\n",
        "d1v = 5 \n",
        "d2v =10\n",
        "tes =\"b\"\n",
        "fp(fv,d1v,d2v,tes)\n",
        "\n",
        "fv = 5.64\n",
        "d1v = 5 \n",
        "d2v =10\n",
        "tes =\"l\"\n",
        "fp(fv,d1v,d2v,tes)\n",
        "\n",
        "fv = 1.99\n",
        "d1v = 40 \n",
        "d2v =20\n",
        "tes =\"u\"\n",
        "fp(fv,d1v,d2v,tes)"
      ],
      "execution_count": 9,
      "outputs": [
        {
          "output_type": "stream",
          "text": [
            "Pvalue = 0.050\n",
            "Pvalue = 0.001\n",
            "Pvalue = 0.200\n",
            "Pvalue = 0.990\n",
            "Pvalue = 0.050\n"
          ],
          "name": "stdout"
        }
      ]
    },
    {
      "cell_type": "markdown",
      "metadata": {
        "id": "C-8GkETIyM5H"
      },
      "source": [
        "# Question 8\n",
        "\n",
        "As the population ages, there is increasing concern about accident-related injuries to the elderly. An article reported on an experiment in which the maximum lean angle—the furthest a subject is able to lean and still recover in one step—was determined for both a sample of younger females (21-29 years) and a sample of older females (67-81 years). The following observations are consistent with summary data given in the article.\n",
        "\n",
        "YF:\t32,\t29,\t31,\t26,\t29,\t36,\t29,\t27,\t35,\t26\n",
        "\n",
        "OF:\t17,\t13,\t21,\t22,\t22\n",
        "\n",
        "Carry out a test at significance level .10 to see whether the population standard deviations for the two age groups are different (normal probability plots support the necessary normality assumption). (Give answer accurate to 2 decimal places.)"
      ]
    },
    {
      "cell_type": "code",
      "metadata": {
        "id": "GSyTf4gEyM5I"
      },
      "source": [
        "yf=np.array([33,35,33,31,29,31,30,29,31,35])\n",
        "of=np.array([18,12,19,21,14])"
      ],
      "execution_count": 10,
      "outputs": []
    },
    {
      "cell_type": "code",
      "metadata": {
        "id": "hGw8FlcqyM5K",
        "outputId": "0695fcbe-55a2-4010-d619-7bde3ababc78",
        "colab": {
          "base_uri": "https://localhost:8080/"
        }
      },
      "source": [
        "n1 = len(yf)\n",
        "n2 = len(of)\n",
        "\n",
        "dof1 = n1-1\n",
        "dof2 = n2-1\n",
        "\n",
        "s1 = yf.std(ddof=1)\n",
        "s2 = of.std(ddof=1)\n",
        "\n",
        "xbar1 = yf.mean()\n",
        "xbar2 = of.mean()\n",
        "\n",
        "fvalue = s1**2/s2**2\n",
        "\n",
        "print (\"Standard Deviations of the two samples = %.1f, %.1f\" %(s1,s2))\n",
        "print (\"Variances of the two samples = %.1f, %.1f\" %(s1**2,s2**2))\n",
        "print (\"F statistic = %0.3f\" % fvalue)\n",
        "\n",
        "alpha = 0.05\n",
        "\n",
        "fdist = stats.f(dof1,dof2)\n",
        "flow = fdist.ppf(alpha/2)\n",
        "fhigh = fdist.ppf(1-alpha/2)\n",
        "\n",
        "print (\"Critical F-values = %0.3f, %0.3f\" % (flow,fhigh))\n",
        "\n",
        "fp(fvalue,dof1,dof2,\"b\")"
      ],
      "execution_count": 11,
      "outputs": [
        {
          "output_type": "stream",
          "text": [
            "Standard Deviations of the two samples = 2.2, 3.7\n",
            "Variances of the two samples = 4.9, 13.7\n",
            "F statistic = 0.358\n",
            "Critical F-values = 0.212, 8.905\n",
            "Pvalue = 0.184\n"
          ],
          "name": "stdout"
        }
      ]
    },
    {
      "cell_type": "code",
      "metadata": {
        "id": "_1Ye8tdnyM5M"
      },
      "source": [
        ""
      ],
      "execution_count": 11,
      "outputs": []
    }
  ]
}