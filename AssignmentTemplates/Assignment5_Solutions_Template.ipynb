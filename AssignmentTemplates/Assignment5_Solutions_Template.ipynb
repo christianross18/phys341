{
  "nbformat": 4,
  "nbformat_minor": 0,
  "metadata": {
    "kernelspec": {
      "display_name": "Python 3",
      "language": "python",
      "name": "python3"
    },
    "language_info": {
      "codemirror_mode": {
        "name": "ipython",
        "version": 3
      },
      "file_extension": ".py",
      "mimetype": "text/x-python",
      "name": "python",
      "nbconvert_exporter": "python",
      "pygments_lexer": "ipython3",
      "version": "3.6.8"
    },
    "colab": {
      "name": "Assignment5_Solutions_Template.ipynb",
      "provenance": []
    }
  },
  "cells": [
    {
      "cell_type": "markdown",
      "metadata": {
        "id": "qpN5lWO7M-M0"
      },
      "source": [
        "# Assignment 5 Solutions"
      ]
    },
    {
      "cell_type": "code",
      "metadata": {
        "id": "NyQcdXFsM-M1"
      },
      "source": [
        "import numpy as np\n",
        "import scipy.stats as stats\n",
        "import matplotlib.pyplot as plt"
      ],
      "execution_count": 9,
      "outputs": []
    },
    {
      "cell_type": "markdown",
      "metadata": {
        "id": "u3m5o_ZOM-M5"
      },
      "source": [
        "# Question 1\n",
        "\n",
        "In an experiment to compare the tensile strengths of I = 4 different types of copper wire, J = 3 samples of each type were used. The between-samples and within-samples estimates of σ2 were computed as MSTr = 2679.5 and MSE = 1098.2, respectively.\n",
        "\n",
        "(a) Use the F test at level .05 to test Ho: μ1 = μ2 = . . . = μ4 versus Ha: at least two μi's are unequal. (Give answers accurate to 2 decimal places.)\n",
        "\n",
        "(b) What can be said about the P-value for the test?"
      ]
    },
    {
      "cell_type": "code",
      "metadata": {
        "id": "30nSHlp5M-M6",
        "outputId": "d85cf836-89f4-48f4-d154-75c653226a8d",
        "colab": {
          "base_uri": "https://localhost:8080/"
        }
      },
      "source": [
        "a = 5\n",
        "n = 4\n",
        "\n",
        "N = a*n\n",
        "dof_total = N - 1\n",
        "dof_treatment = a - 1\n",
        "dof_error = dof_total - dof_treatment\n",
        "\n",
        "MS_treatment = 2678.7\n",
        "MS_error = 1095.7\n",
        "\n",
        "fSN = MS_treatment/MS_error\n",
        "\n",
        "print (\"F Signal/Noise = %0.3f \" % fSN)\n",
        "\n",
        "alpha = 0.05\n",
        "\n",
        "fdist = stats.f(dof_treatment,dof_error)\n",
        "fhigh = fdist.ppf(1-alpha)\n",
        "\n",
        "print (\"Critical F-value = %0.3f\" % (fhigh))\n",
        "\n",
        "if (fSN > 1):\n",
        "    pvalue = (1-fdist.cdf(fSN))\n",
        "else:\n",
        "    pvalue = fdist.cdf(fSN)\n",
        "    \n",
        "print (\"Pvalue = %0.3f\" % (pvalue))"
      ],
      "execution_count": 10,
      "outputs": [
        {
          "output_type": "stream",
          "text": [
            "F Signal/Noise = 2.445 \n",
            "Critical F-value = 3.056\n",
            "Pvalue = 0.092\n"
          ],
          "name": "stdout"
        }
      ]
    },
    {
      "cell_type": "markdown",
      "metadata": {
        "id": "XL3HhK1VM-M9"
      },
      "source": [
        "# Question 2\n",
        "\n",
        "An article describes an experiment in which several types of boxes were compared with respect to compression strength (lb). The table below presents the results of a single-factor ANOVA experiment involving I = 4 types of boxes.\n",
        "\n",
        "Type of Box  \tCompression Strength (lb) \n",
        "1 655.5   788.3   734.3  721.4  679.1  699.4  \n",
        "\n",
        "2\n",
        "789.2\n",
        "772.5\n",
        "786.9\n",
        "686.1\n",
        "732.1\n",
        "774.8\n",
        "\n",
        "3\n",
        "737.1\n",
        "639.0\n",
        "696.3\n",
        "671.7\n",
        "717.2\n",
        "727.1\n",
        "\n",
        "4\n",
        "535.1\n",
        "628.7\n",
        "542.4\n",
        "559.0\n",
        "586.9\n",
        "520.0\n",
        "\n",
        "Suppose that the compression strength observations on the fourth type of box had been 645.1, 738.7, 652.4, 669.0, 696.9, 630.0 (obtained by adding 110 to each previous x4j). Assuming no change in the remaining observations, carry out an F test with α = .05. (Give F to 2 decimal places and the p-value to 3 decimal places.)"
      ]
    },
    {
      "cell_type": "code",
      "metadata": {
        "id": "2oPqZ_fqM-M-",
        "outputId": "10861fd8-a201-4f5d-89be-8c079eea25b8",
        "colab": {
          "base_uri": "https://localhost:8080/",
          "height": 1000
        }
      },
      "source": [
        "groupA = np.array([655.5,788.3,734.3,721.4,679.1,699.4])\n",
        "groupB = np.array([789.2,772.5,786.9,686.1,732.1,774.8])\n",
        "groupC = np.array([737.1,639.0,696.3,671.7,717.2,727.1])\n",
        "groupD = np.array([690.1,783.7,697.4,714.0,741.9,675.0])\n",
        "\n",
        "a = 4\n",
        "n = 6\n",
        "\n",
        "idA = np.ones(n)\n",
        "idB = 2.0*np.ones(n)\n",
        "idC = 3.0*np.ones(n)\n",
        "idD = 4.0*np.ones(n)\n",
        "\n",
        "data = np.concatenate([groupA,groupB,groupC,groupD])\n",
        "id = np.concatenate([idA,idB,idC,idD])\n",
        "\n",
        "data2 = np.transpose(np.vstack((data,id)))\n",
        "\n",
        "print (data2)\n",
        "\n",
        "import pandas as pd\n",
        "\n",
        "df = pd.DataFrame(data2,columns=['value','treatment'])\n",
        "\n",
        "df.head(100)"
      ],
      "execution_count": 11,
      "outputs": [
        {
          "output_type": "stream",
          "text": [
            "[[655.5   1. ]\n",
            " [788.3   1. ]\n",
            " [734.3   1. ]\n",
            " [721.4   1. ]\n",
            " [679.1   1. ]\n",
            " [699.4   1. ]\n",
            " [789.2   2. ]\n",
            " [772.5   2. ]\n",
            " [786.9   2. ]\n",
            " [686.1   2. ]\n",
            " [732.1   2. ]\n",
            " [774.8   2. ]\n",
            " [737.1   3. ]\n",
            " [639.    3. ]\n",
            " [696.3   3. ]\n",
            " [671.7   3. ]\n",
            " [717.2   3. ]\n",
            " [727.1   3. ]\n",
            " [690.1   4. ]\n",
            " [783.7   4. ]\n",
            " [697.4   4. ]\n",
            " [714.    4. ]\n",
            " [741.9   4. ]\n",
            " [675.    4. ]]\n"
          ],
          "name": "stdout"
        },
        {
          "output_type": "execute_result",
          "data": {
            "text/html": [
              "<div>\n",
              "<style scoped>\n",
              "    .dataframe tbody tr th:only-of-type {\n",
              "        vertical-align: middle;\n",
              "    }\n",
              "\n",
              "    .dataframe tbody tr th {\n",
              "        vertical-align: top;\n",
              "    }\n",
              "\n",
              "    .dataframe thead th {\n",
              "        text-align: right;\n",
              "    }\n",
              "</style>\n",
              "<table border=\"1\" class=\"dataframe\">\n",
              "  <thead>\n",
              "    <tr style=\"text-align: right;\">\n",
              "      <th></th>\n",
              "      <th>value</th>\n",
              "      <th>treatment</th>\n",
              "    </tr>\n",
              "  </thead>\n",
              "  <tbody>\n",
              "    <tr>\n",
              "      <th>0</th>\n",
              "      <td>655.5</td>\n",
              "      <td>1.0</td>\n",
              "    </tr>\n",
              "    <tr>\n",
              "      <th>1</th>\n",
              "      <td>788.3</td>\n",
              "      <td>1.0</td>\n",
              "    </tr>\n",
              "    <tr>\n",
              "      <th>2</th>\n",
              "      <td>734.3</td>\n",
              "      <td>1.0</td>\n",
              "    </tr>\n",
              "    <tr>\n",
              "      <th>3</th>\n",
              "      <td>721.4</td>\n",
              "      <td>1.0</td>\n",
              "    </tr>\n",
              "    <tr>\n",
              "      <th>4</th>\n",
              "      <td>679.1</td>\n",
              "      <td>1.0</td>\n",
              "    </tr>\n",
              "    <tr>\n",
              "      <th>5</th>\n",
              "      <td>699.4</td>\n",
              "      <td>1.0</td>\n",
              "    </tr>\n",
              "    <tr>\n",
              "      <th>6</th>\n",
              "      <td>789.2</td>\n",
              "      <td>2.0</td>\n",
              "    </tr>\n",
              "    <tr>\n",
              "      <th>7</th>\n",
              "      <td>772.5</td>\n",
              "      <td>2.0</td>\n",
              "    </tr>\n",
              "    <tr>\n",
              "      <th>8</th>\n",
              "      <td>786.9</td>\n",
              "      <td>2.0</td>\n",
              "    </tr>\n",
              "    <tr>\n",
              "      <th>9</th>\n",
              "      <td>686.1</td>\n",
              "      <td>2.0</td>\n",
              "    </tr>\n",
              "    <tr>\n",
              "      <th>10</th>\n",
              "      <td>732.1</td>\n",
              "      <td>2.0</td>\n",
              "    </tr>\n",
              "    <tr>\n",
              "      <th>11</th>\n",
              "      <td>774.8</td>\n",
              "      <td>2.0</td>\n",
              "    </tr>\n",
              "    <tr>\n",
              "      <th>12</th>\n",
              "      <td>737.1</td>\n",
              "      <td>3.0</td>\n",
              "    </tr>\n",
              "    <tr>\n",
              "      <th>13</th>\n",
              "      <td>639.0</td>\n",
              "      <td>3.0</td>\n",
              "    </tr>\n",
              "    <tr>\n",
              "      <th>14</th>\n",
              "      <td>696.3</td>\n",
              "      <td>3.0</td>\n",
              "    </tr>\n",
              "    <tr>\n",
              "      <th>15</th>\n",
              "      <td>671.7</td>\n",
              "      <td>3.0</td>\n",
              "    </tr>\n",
              "    <tr>\n",
              "      <th>16</th>\n",
              "      <td>717.2</td>\n",
              "      <td>3.0</td>\n",
              "    </tr>\n",
              "    <tr>\n",
              "      <th>17</th>\n",
              "      <td>727.1</td>\n",
              "      <td>3.0</td>\n",
              "    </tr>\n",
              "    <tr>\n",
              "      <th>18</th>\n",
              "      <td>690.1</td>\n",
              "      <td>4.0</td>\n",
              "    </tr>\n",
              "    <tr>\n",
              "      <th>19</th>\n",
              "      <td>783.7</td>\n",
              "      <td>4.0</td>\n",
              "    </tr>\n",
              "    <tr>\n",
              "      <th>20</th>\n",
              "      <td>697.4</td>\n",
              "      <td>4.0</td>\n",
              "    </tr>\n",
              "    <tr>\n",
              "      <th>21</th>\n",
              "      <td>714.0</td>\n",
              "      <td>4.0</td>\n",
              "    </tr>\n",
              "    <tr>\n",
              "      <th>22</th>\n",
              "      <td>741.9</td>\n",
              "      <td>4.0</td>\n",
              "    </tr>\n",
              "    <tr>\n",
              "      <th>23</th>\n",
              "      <td>675.0</td>\n",
              "      <td>4.0</td>\n",
              "    </tr>\n",
              "  </tbody>\n",
              "</table>\n",
              "</div>"
            ],
            "text/plain": [
              "    value  treatment\n",
              "0   655.5        1.0\n",
              "1   788.3        1.0\n",
              "2   734.3        1.0\n",
              "3   721.4        1.0\n",
              "4   679.1        1.0\n",
              "5   699.4        1.0\n",
              "6   789.2        2.0\n",
              "7   772.5        2.0\n",
              "8   786.9        2.0\n",
              "9   686.1        2.0\n",
              "10  732.1        2.0\n",
              "11  774.8        2.0\n",
              "12  737.1        3.0\n",
              "13  639.0        3.0\n",
              "14  696.3        3.0\n",
              "15  671.7        3.0\n",
              "16  717.2        3.0\n",
              "17  727.1        3.0\n",
              "18  690.1        4.0\n",
              "19  783.7        4.0\n",
              "20  697.4        4.0\n",
              "21  714.0        4.0\n",
              "22  741.9        4.0\n",
              "23  675.0        4.0"
            ]
          },
          "metadata": {
            "tags": []
          },
          "execution_count": 11
        }
      ]
    },
    {
      "cell_type": "code",
      "metadata": {
        "id": "uSXyJpRSM-NC",
        "outputId": "c1f5f3cc-62a7-4d68-c673-8688ffaf1f1e",
        "colab": {
          "base_uri": "https://localhost:8080/"
        }
      },
      "source": [
        "from statsmodels.formula.api import ols\n",
        "from statsmodels.stats.anova import anova_lm\n",
        "\n",
        "model = ols('value ~ C(treatment)',df).fit()\n",
        "anovaResults = anova_lm(model)\n",
        "\n",
        "print (anovaResults)"
      ],
      "execution_count": 12,
      "outputs": [
        {
          "output_type": "stream",
          "text": [
            "                df        sum_sq      mean_sq        F    PR(>F)\n",
            "C(treatment)   3.0  11380.504583  3793.501528  2.24209  0.114725\n",
            "Residual      20.0  33838.975000  1691.948750      NaN       NaN\n"
          ],
          "name": "stdout"
        }
      ]
    },
    {
      "cell_type": "markdown",
      "metadata": {
        "id": "wJzxcIqzM-NF"
      },
      "source": [
        "# Question 3\n",
        "\n",
        "The lumen output was determined for each of I = 3 different brands of 60-watt soft-white lightbulbs, with J = 9 bulbs of each brand tested. The sums of squares were computed as SSE = 4775.3 and SSTr = 594.4. State the hypotheses of interest (including word definitions of parameters).\n",
        "\n",
        "Use the F test of ANOVA (α = .05) to decide whether there are any differences in true average lumen outputs among the three brands for this type of bulb by obtaining as much information as possible about the P-value. (Give answers accurate to 2 decimal places.)"
      ]
    },
    {
      "cell_type": "code",
      "metadata": {
        "id": "lkHyZBpqM-NF",
        "outputId": "022db527-8885-4a9c-f684-4b8e695e62cc",
        "colab": {
          "base_uri": "https://localhost:8080/"
        }
      },
      "source": [
        "a = 3\n",
        "n = 7\n",
        "\n",
        "N = a*n\n",
        "dof_total = N - 1\n",
        "dof_treatment = a - 1\n",
        "dof_error = dof_total - dof_treatment\n",
        "\n",
        "SS_error = 4774.5\n",
        "SS_treatment = 591.9\n",
        "\n",
        "MS_treatment = SS_treatment/dof_treatment\n",
        "MS_error = SS_error/dof_error\n",
        "\n",
        "fSN = MS_treatment/MS_error\n",
        "\n",
        "print (\"F Signal/Noise = %0.3f \" % fSN)\n",
        "\n",
        "alpha = 0.05\n",
        "\n",
        "fdist = stats.f(dof_treatment,dof_error)\n",
        "fhigh = fdist.ppf(1-alpha)\n",
        "\n",
        "print (\"Critical F-value = %0.3f\" % (fhigh))\n",
        "\n",
        "if (fSN > 1):\n",
        "    pvalue = (1-fdist.cdf(fSN))\n",
        "else:\n",
        "    pvalue = fdist.cdf(fSN)\n",
        "    \n",
        "print (\"Pvalue = %0.3f\" % (pvalue))"
      ],
      "execution_count": 15,
      "outputs": [
        {
          "output_type": "stream",
          "text": [
            "F Signal/Noise = 1.116 \n",
            "Critical F-value = 3.555\n",
            "Pvalue = 0.349\n"
          ],
          "name": "stdout"
        }
      ]
    },
    {
      "cell_type": "markdown",
      "metadata": {
        "id": "PF1o5BM6M-NI"
      },
      "source": [
        "# Question 4\n",
        "\n",
        "In a study to assess the effects of malaria infection on mosquito hosts, mosquitos were fed on either infective or noninfective rhesus monkeys. Subsequently the distance they flew during a 24-hour period was measured using a flight mill. The mosquitos were divided into four groups of eight mosquitos each: infective rhesus and sporozites present (IRS), infective rhesus and oocysts present (IRD), infective rhesus and no infection developed (IRN), and noninfective (C). The summary data values are x1. = 4.28 (IRS), x2. = 4.81 (IRD), x3. = 5.39 (IRN), x4. = 5.88 (C), x.. = 5.09, ΣΣxij 2 = 955.6192. Use the ANOVA F test at level .05 to decide whether there are any differences between true average flight times for the four treatments. (Give answers accurate to 2 decimal places.)"
      ]
    },
    {
      "cell_type": "markdown",
      "metadata": {
        "id": "dP6Ed_cHM-NI"
      },
      "source": [
        "This question involves the use of summary statistics, which is very typically when looking at published papers. Rather than giving all of the raw data, they give the averages of each group, the number of groups and the number of samples within each group, and one extra quantity - $\\sum_i \\sum_j {x_{ij}^2}$.\n",
        "\n",
        "With these quantities, we can find all of the necessary quantities for carrying out \n",
        "a typical one-way ANOVA!\n",
        "\n",
        "$SS_{total} = \\sum_{i=1}^{a} \\sum_{j=1}^{n} {(x_{ij}-\\bar{\\bar{x}})^2}$\n",
        "\n",
        "\n",
        "$SS_{total} = \\sum_{i=1}^{a} \\sum_{j=1}^{n} {(x_{ij}^2-2x_{ij}\\bar{\\bar{x}} + \\bar{\\bar{x}}^2)}$\n",
        "\n",
        "$SS_{total} = \\sum_{i=1}^{a} \\sum_{j=1}^{n} {x_{ij}^2} -2\\bar{\\bar{x}}\\sum_{i=1}^{a} \\sum_{j=1}^{n} {x_{ij}} + \\bar{\\bar{x}}^2 \\sum_{i=1}^{a} \\sum_{j=1}^{n} {1}$\n",
        "\n",
        "From here, we know that:\n",
        "\n",
        "$\\sum_{i=1}^{a} \\sum_{j=1}^{n} {1} = N$\n",
        "\n",
        "and\n",
        "\n",
        "$\\sum_{j=1}^{n} {x_{ij}} = N \\bar{\\bar{x}}$\n",
        "\n",
        "and therefore:\n",
        "\n",
        "$SS_{total} = \\sum_{i=1}^{a} \\sum_{j=1}^{n} {x_{ij}^2} - N \\bar{\\bar{x}}^2$\n",
        "\n",
        "We also know that:\n",
        "\n",
        "$SS_{treatment} = \\sum_{i=1}^{a} n(\\bar{x}_i - \\bar{\\bar{x}})^2$\n",
        "\n",
        "and\n",
        "\n",
        "$SS_{error} = SS_{total} - SS_{treatment}$"
      ]
    },
    {
      "cell_type": "code",
      "metadata": {
        "id": "xTOqNfYcM-NI",
        "outputId": "f0107220-8d2b-419e-e7d8-3de35182d1ab",
        "colab": {
          "base_uri": "https://localhost:8080/"
        }
      },
      "source": [
        "# summary data for xbar\n",
        "xbar = np.array([4.61,4.76,5.22,5.73])\n",
        "xbarbar = xbar.mean()\n",
        "\n",
        "# calculate SS_treatment\n",
        "SS_treatment = 0.0\n",
        "for x in xbar:\n",
        "    SS_treatment += n*(x-xbarbar)**2\n",
        "    \n",
        "# calculate SS_total and SS_error\n",
        "sumxij2 = 937.3048\n",
        "SS_total = sumxij2-N*xbarbar**2\n",
        "SS_error = SS_total-SS_treatment\n",
        "\n",
        "a = 4\n",
        "n = 8\n",
        "\n",
        "N = a*n\n",
        "dof_total = N - 1\n",
        "dof_treatment = a - 1\n",
        "dof_error = dof_total - dof_treatment\n",
        "\n",
        "\n",
        "MS_treatment = SS_treatment/dof_treatment\n",
        "MS_error = SS_error/dof_error\n",
        "\n",
        "fSN = MS_treatment/MS_error\n",
        "\n",
        "print (\"F Signal/Noise = %0.3f \" % fSN)\n",
        "\n",
        "alpha = 0.05\n",
        "\n",
        "fdist = stats.f(dof_treatment,dof_error)\n",
        "fhigh = fdist.ppf(1-alpha)\n",
        "\n",
        "print (\"Critical F-value = %0.3f\" % (fhigh))\n",
        "\n",
        "if (fSN > 1):\n",
        "    pvalue = (1-fdist.cdf(fSN))\n",
        "else:\n",
        "    pvalue = fdist.cdf(fSN)\n",
        "    \n",
        "print (\"Pvalue = %0.3f\" % (pvalue))"
      ],
      "execution_count": 18,
      "outputs": [
        {
          "output_type": "stream",
          "text": [
            "F Signal/Noise = 0.542 \n",
            "Critical F-value = 2.947\n",
            "Pvalue = 0.343\n"
          ],
          "name": "stdout"
        }
      ]
    },
    {
      "cell_type": "markdown",
      "metadata": {
        "id": "_FCSsPDBM-NN"
      },
      "source": [
        "# Question 5\n",
        "\n",
        "The following data was reported on total Fe for four types of iron formation (1 = carbonate, 2 = silicate, 3 = magnetite, 4 = hematite).\n",
        "\n",
        "1:\n",
        "20.3\n",
        "28.1\n",
        "27.8\n",
        "27.0\n",
        "27.7\n",
        "25.2\n",
        "25.3\n",
        "27.1\n",
        "20.5\n",
        "31.2\n",
        "\n",
        "2:\n",
        "26.9\n",
        "24.0\n",
        "26.2\n",
        "20.2\n",
        "24.3\n",
        "34.0\n",
        "17.1\n",
        "26.8\n",
        "23.7\n",
        "25.0\n",
        "\n",
        "3:\n",
        "29.7\n",
        "34.0\n",
        "27.5\n",
        "29.4\n",
        "27.5\n",
        "26.2\n",
        "29.9\n",
        "29.5\n",
        "30.0\n",
        "35.7\n",
        "\n",
        "4:\n",
        "36.3\n",
        "44.2\n",
        "34.1\n",
        "30.3\n",
        "31.2\n",
        "33.1\n",
        "34.1\n",
        "32.9\n",
        "36.3\n",
        "25.1\n",
        "\n",
        "Carry out an analysis of variance F test at significance level .01, and summarize the results in an ANOVA table. (Give answers accurate to 1 decimal place.)"
      ]
    },
    {
      "cell_type": "code",
      "metadata": {
        "id": "7JeqzBhPM-NN",
        "outputId": "2da907ce-7b2f-4d59-9646-d6dedf315696",
        "colab": {
          "base_uri": "https://localhost:8080/"
        }
      },
      "source": [
        "groupA = np.array([20.8,28.1,27.8,27.0,27.6,25.2,25.3,27.1,20.5,32.1])\n",
        "groupB = np.array([26.7,24.0,26.2,20.2,24.1,34.0,17.1,26.8,23.7,24.6])\n",
        "groupC = np.array([29.7,34.0,27.5,29.4,28.2,26.2,29.9,29.5,30.0,35.6])\n",
        "groupD = np.array([36.3,44.2,34.1,30.3,31.2,33.1,34.1,32.9,36.3,25.6])\n",
        "\n",
        "a = 4\n",
        "n = 10\n",
        "\n",
        "idA = np.ones(n)\n",
        "idB = 2.0*np.ones(n)\n",
        "idC = 3.0*np.ones(n)\n",
        "idD = 4.0*np.ones(n)\n",
        "\n",
        "data = np.concatenate([groupA,groupB,groupC,groupD])\n",
        "id = np.concatenate([idA,idB,idC,idD])\n",
        "\n",
        "data2 = np.transpose(np.vstack((data,id)))\n",
        "\n",
        "import pandas as pd\n",
        "\n",
        "df = pd.DataFrame(data2,columns=['value','treatment'])\n",
        "\n",
        "df.head(100)\n",
        "\n",
        "model = ols('value ~ C(treatment)',df).fit()\n",
        "anovaResults = anova_lm(model)\n",
        "\n",
        "print (anovaResults)"
      ],
      "execution_count": 22,
      "outputs": [
        {
          "output_type": "stream",
          "text": [
            "                df   sum_sq     mean_sq          F    PR(>F)\n",
            "C(treatment)   3.0  499.837  166.612333  10.611913  0.000038\n",
            "Residual      36.0  565.218   15.700500        NaN       NaN\n"
          ],
          "name": "stdout"
        }
      ]
    },
    {
      "cell_type": "markdown",
      "metadata": {
        "id": "2epxAGAHM-NQ"
      },
      "source": [
        "# Question 6\n",
        "\n",
        "A study of the properties of metal plate-connected trusses used for roof support yielded the following observations on axial stiffness index (kips/in.) for plate lengths 4, 6, 8, 10, and 12 in.\n",
        "\n",
        "4:\n",
        "342.3\n",
        "409.5\n",
        "311.0\n",
        "326.5\n",
        "316.8\n",
        "349.8\n",
        "309.7\n",
        "\n",
        "6:\n",
        "350.4\n",
        "347.2\n",
        "361.0\n",
        "404.5\n",
        "331.0\n",
        "348.9\n",
        "381.7\n",
        "\n",
        "8:\n",
        "384.0\n",
        "366.2\n",
        "351.0\n",
        "357.1\n",
        "409.9\n",
        "367.3\n",
        "382.0\n",
        "\n",
        "10:\n",
        "404.4\n",
        "452.9\n",
        "461.4\n",
        "433.1\n",
        "410.6\n",
        "384.2\n",
        "362.6\n",
        "\n",
        "12:\n",
        "454.0\n",
        "441.8\n",
        "419.9\n",
        "410.7\n",
        "473.4\n",
        "441.2\n",
        "465.8\n",
        "\n",
        "Does variation in plate length have any effect on true average axial stiffness? State and test the relevant hypotheses using analysis of variance with α = .01. Display your results in an ANOVA table. (Round answers to whole numbers and F to 2 decimal places)"
      ]
    },
    {
      "cell_type": "code",
      "metadata": {
        "id": "miAkyciCM-NQ",
        "outputId": "782f0746-61d9-4dda-d566-2102deaf7174",
        "colab": {
          "base_uri": "https://localhost:8080/"
        }
      },
      "source": [
        "groupA = np.array([388.2,409.5,311.0,326.5,316.8,349.8,309.7])\n",
        "groupB = np.array([345.3,347.2,361.0,404.5,331.0,348.9,381.7])\n",
        "groupC = np.array([368.7,366.2,351.0,357.1,409.9,367.3,382.0])\n",
        "groupD = np.array([382.3,452.9,461.4,433.1,410.6,384.2,362.6])\n",
        "groupE = np.array([445.0,441.8,419.9,410.7,473.4,441.2,465.8])\n",
        "\n",
        "a = 5\n",
        "n = 7\n",
        "\n",
        "idA = np.ones(n)\n",
        "idB = 2.0*np.ones(n)\n",
        "idC = 3.0*np.ones(n)\n",
        "idD = 4.0*np.ones(n)\n",
        "idE = 5.0*np.ones(n)\n",
        "\n",
        "data = np.concatenate([groupA,groupB,groupC,groupD,groupE])\n",
        "id = np.concatenate([idA,idB,idC,idD,idE])\n",
        "\n",
        "data2 = np.transpose(np.vstack((data,id)))\n",
        "\n",
        "import pandas as pd\n",
        "\n",
        "df = pd.DataFrame(data2,columns=['value','treatment'])\n",
        "\n",
        "df.head(100)\n",
        "\n",
        "model = ols('value ~ C(treatment)',df).fit()\n",
        "anovaResults = anova_lm(model)\n",
        "\n",
        "print (anovaResults)"
      ],
      "execution_count": 23,
      "outputs": [
        {
          "output_type": "stream",
          "text": [
            "                df        sum_sq       mean_sq          F    PR(>F)\n",
            "C(treatment)   4.0  45503.750286  11375.937571  12.486591  0.000004\n",
            "Residual      30.0  27331.568571    911.052286        NaN       NaN\n"
          ],
          "name": "stdout"
        }
      ]
    },
    {
      "cell_type": "markdown",
      "metadata": {
        "id": "HScKwKnNM-NS"
      },
      "source": [
        "# Question 7\n",
        "\n",
        "In an experiment to investigate the performance of four different brands of spark plugs intended for use on a 125-cc two-stroke motorcycle, five plugs of each brand were tested and the number of miles (at a constant speed) until failure was observed. The partial ANOVA table for the data is given here. Fill in the missing entries, state the relevant hypotheses, and carry out a test by obtaining as much information as you can about the P-value. (Use α = 0.05.)"
      ]
    },
    {
      "cell_type": "code",
      "metadata": {
        "id": "R4s8DRbLM-NT",
        "outputId": "c81eb238-5d6c-4666-81e5-2621fb466c6f",
        "colab": {
          "base_uri": "https://localhost:8080/"
        }
      },
      "source": [
        "a = 4\n",
        "n = 5\n",
        "\n",
        "SS_total=310442.02\n",
        "MS_error=14663.99\n",
        "\n",
        "N = a*n\n",
        "dof_total = N - 1\n",
        "dof_treatment = a - 1\n",
        "dof_error = dof_total - dof_treatment\n",
        "print(\"DF Total:\",dof_total,\",Treatment:\",dof_treatment,\",Error:\",dof_error)\n",
        "\n",
        "SS_error = MS_error*dof_error\n",
        "SS_treatment=SS_total-SS_error\n",
        "print(\"SS Treatment:\",SS_treatment,\",Error:\",SS_error)\n",
        "\n",
        "MS_treatment=SS_treatment/dof_treatment\n",
        "print(\"MS treatment:\",MS_treatment)\n",
        "\n",
        "fSN=MS_treatment/MS_error\n",
        "print(\"F val:\",fSN)\n",
        "\n",
        "if (fSN > 1):\n",
        "    pvalue = (1-fdist.cdf(fSN))\n",
        "else:\n",
        "    pvalue = fdist.cdf(fSN)\n",
        "    \n",
        "print (\"Pvalue = %0.3f\" % (pvalue))"
      ],
      "execution_count": 28,
      "outputs": [
        {
          "output_type": "stream",
          "text": [
            "DF Total: 19 ,Treatment: 3 ,Error: 16\n",
            "SS Treatment: 75818.18000000002 ,Error: 234623.84\n",
            "MS treatment: 25272.726666666673\n",
            "F val: 1.723454985080232\n",
            "Pvalue = 0.185\n"
          ],
          "name": "stdout"
        }
      ]
    },
    {
      "cell_type": "markdown",
      "metadata": {
        "id": "48U2NugtM-NV"
      },
      "source": [
        "# Question 8\n",
        "\n",
        "Six samples of each of four types of cereal grain grown in a certain region were analyzed to determine thiamin content, resulting in the following data (μg/g).\n",
        "\n",
        "Wheat\t  6.5  \t  6.1  \t  5.5  \t  5.9  \t  6.3  \t  5.4 \n",
        "\n",
        "Barley  \t7.6\t7.9\t7.6\t7.9\t7.0\t6.0\n",
        "\n",
        "Maize\t6.3\t5.9\t4.9\t4.9\t4.9\t5.5\n",
        "\n",
        "Oats\t7.9\t8.2\t6.0\t6.6\t8.0\t6.7\n",
        "\n",
        "Does this data suggest that at least two of the grains differ with respect to true average thiamin content? Use a level α = .05 test based on the P-value method. (Give F to 2 decimal places and the P-value to 3 decimal places.)"
      ]
    },
    {
      "cell_type": "code",
      "metadata": {
        "id": "UbexYZidM-NV",
        "outputId": "153f16ec-cc6b-4eb5-be21-43d5b102f80f",
        "colab": {
          "base_uri": "https://localhost:8080/"
        }
      },
      "source": [
        "groupA = np.array([5.5,6.6,5.6,6.6,6.0,6.5])\n",
        "groupB = np.array([6.3,8.0,7.7,6.3,7.4,6.8])\n",
        "groupC = np.array([5.9,5.2,5.9,5.7,5.6,5.4])\n",
        "groupD = np.array([7.4,8.2,7.4,6.7,7.1,7.9])\n",
        "\n",
        "a = 4\n",
        "n = 6\n",
        "\n",
        "idA = np.ones(n)\n",
        "idB = 2.0*np.ones(n)\n",
        "idC = 3.0*np.ones(n)\n",
        "idD = 4.0*np.ones(n)\n",
        "\n",
        "data = np.concatenate([groupA,groupB,groupC,groupD])\n",
        "id = np.concatenate([idA,idB,idC,idD])\n",
        "\n",
        "data2 = np.transpose(np.vstack((data,id)))\n",
        "\n",
        "import pandas as pd\n",
        "\n",
        "df = pd.DataFrame(data2,columns=['value','treatment'])\n",
        "\n",
        "df.head(100)\n",
        "\n",
        "model = ols('value ~ C(treatment)',df).fit()\n",
        "anovaResults = anova_lm(model)\n",
        "\n",
        "print (anovaResults)"
      ],
      "execution_count": 24,
      "outputs": [
        {
          "output_type": "stream",
          "text": [
            "                df     sum_sq   mean_sq          F    PR(>F)\n",
            "C(treatment)   3.0  12.824583  4.274861  14.882023  0.000025\n",
            "Residual      20.0   5.745000  0.287250        NaN       NaN\n"
          ],
          "name": "stdout"
        }
      ]
    },
    {
      "cell_type": "markdown",
      "metadata": {
        "id": "FiA5XMOZM-NX"
      },
      "source": [
        "# Question 9\n",
        "\n",
        "An experiment to compare the spreading rates of five different brands of yellow interior latex paint available in a particular area used 4 gallons (J = 4) of each paint. The sample average spreading rates (ft2/gal) for the five brands were x1. = 462.0, x2. = 512.8, x3. = 437.5, x4. = 469.3, and x5. = 532.1. The computer value of F was found to be significant at level α = .05. With MSE = 272.8, use Tukey's procedure to investigate significant differences between brands. (Give answer accurate to 1 decimal place.)\n",
        "\n",
        "Python statsmodels has a package for performing Tukey's HSD test, but it requires the RAW data!  So, we are going to have to do this by hand for this question using the summary data instead."
      ]
    },
    {
      "cell_type": "code",
      "metadata": {
        "id": "Cy9k1sdsM-NY"
      },
      "source": [
        ""
      ],
      "execution_count": 13,
      "outputs": []
    },
    {
      "cell_type": "code",
      "metadata": {
        "id": "mGQEey45M-Na",
        "outputId": "e12d9c45-07f0-4c7c-c4b8-4a04d8d789df",
        "colab": {
          "base_uri": "https://localhost:8080/",
          "height": 363
        }
      },
      "source": [
        "# Tukey's Procedure\n",
        "#\n",
        "# Step 1:  Calculate the standard error = sqrt(MS_error/n)\n",
        "\n",
        "from q_tukey import q_tukey\n",
        "\n",
        "std_error = np.sqrt(MS_error/n)\n",
        "print (\"Standard Error = %0.3f\" % std_error)\n",
        "\n",
        "# Step 2:  Order the means from smallest to largest\n",
        "\n",
        "print (\"Original Xbar = \",xbar)\n",
        "xbar_orig = xbar.copy()\n",
        "xbar.sort()\n",
        "print (\"Sorted Xbar = \",xbar)\n",
        "\n",
        "# Step 3:  Get the expected number of error bars (sem) between largest and smallest, for the number\n",
        "# of means to be compared (a).  For this, we need the studentized range table values q(alpha,dof_error,k) for k=2..a.\n",
        "# \n",
        "# http://www.real-statistics.com/statistics-tables/studentized-range-q-table/\n",
        "# For this problem, dof_error = 15, alpha = 0.05, k = 2,3,4,5\n",
        "# q = np.array([3.014,3.673,4.076,4.367])\n",
        "\n",
        "n_means=len(xbar)\n",
        "q = q_tukey(n_means,dof_error,alpha)\n",
        "print (q)\n",
        "\n",
        "# Step 4:  Calculate W = q(k=5)*std_error\n",
        "\n",
        "W = q[n_means-2]*std_error\n",
        "\n",
        "print (\"W = %0.1f\" % W)\n",
        "\n",
        "# Step 5:  Make pair-wise comparisons\n",
        "\n",
        "print (list(xbar_orig))\n",
        "\n",
        "print (\"i j xbar1 xbar2 Diff Diff_comp Result\")\n",
        "for i in range(len(xbar)):\n",
        "    for j in range(len(xbar)):\n",
        "        if (xbar[j] > xbar[i]):\n",
        "            diff = (xbar[j] - xbar[i])/std_error\n",
        "            diff_comp = q[j-i-1]\n",
        "            if (diff>diff_comp):\n",
        "                Result = \"Yes\"\n",
        "            else:\n",
        "                Result = \"No\"\n",
        "            iorig = list(xbar_orig).index(xbar[i])+1\n",
        "            jorig = list(xbar_orig).index(xbar[j])+1\n",
        "            print (\"%0.0f %0.0f %0.1f %0.1f %0.3f  %0.3f %s\" % (iorig,jorig,xbar[i],xbar[j],diff,diff_comp,Result))"
      ],
      "execution_count": 14,
      "outputs": [
        {
          "output_type": "error",
          "ename": "ModuleNotFoundError",
          "evalue": "ignored",
          "traceback": [
            "\u001b[0;31m---------------------------------------------------------------------------\u001b[0m",
            "\u001b[0;31mModuleNotFoundError\u001b[0m                       Traceback (most recent call last)",
            "\u001b[0;32m<ipython-input-14-c3408a8f90d9>\u001b[0m in \u001b[0;36m<module>\u001b[0;34m()\u001b[0m\n\u001b[1;32m      3\u001b[0m \u001b[0;31m# Step 1:  Calculate the standard error = sqrt(MS_error/n)\u001b[0m\u001b[0;34m\u001b[0m\u001b[0;34m\u001b[0m\u001b[0;34m\u001b[0m\u001b[0m\n\u001b[1;32m      4\u001b[0m \u001b[0;34m\u001b[0m\u001b[0m\n\u001b[0;32m----> 5\u001b[0;31m \u001b[0;32mfrom\u001b[0m \u001b[0mq_tukey\u001b[0m \u001b[0;32mimport\u001b[0m \u001b[0mq_tukey\u001b[0m\u001b[0;34m\u001b[0m\u001b[0;34m\u001b[0m\u001b[0m\n\u001b[0m\u001b[1;32m      6\u001b[0m \u001b[0;34m\u001b[0m\u001b[0m\n\u001b[1;32m      7\u001b[0m \u001b[0mstd_error\u001b[0m \u001b[0;34m=\u001b[0m \u001b[0mnp\u001b[0m\u001b[0;34m.\u001b[0m\u001b[0msqrt\u001b[0m\u001b[0;34m(\u001b[0m\u001b[0mMS_error\u001b[0m\u001b[0;34m/\u001b[0m\u001b[0mn\u001b[0m\u001b[0;34m)\u001b[0m\u001b[0;34m\u001b[0m\u001b[0;34m\u001b[0m\u001b[0m\n",
            "\u001b[0;31mModuleNotFoundError\u001b[0m: No module named 'q_tukey'",
            "",
            "\u001b[0;31m---------------------------------------------------------------------------\u001b[0;32m\nNOTE: If your import is failing due to a missing package, you can\nmanually install dependencies using either !pip or !apt.\n\nTo view examples of installing some common dependencies, click the\n\"Open Examples\" button below.\n\u001b[0;31m---------------------------------------------------------------------------\u001b[0m\n"
          ]
        }
      ]
    },
    {
      "cell_type": "markdown",
      "metadata": {
        "id": "Z5vYiyDoM-Nc"
      },
      "source": [
        "# Question 10\n",
        "\n",
        "In a study to assess the effects of malaria infection on mosquito hosts, mosquitos were fed on either infective or noninfective rhesus monkeys. Subsequently the distance they flew during a 24-hour period was measured using a flight mill. The mosquitos were divided into four groups of eight mosquitos each: infective rhesus and sporozites present (IRS), infective rhesus and oocysts present (IRD), infective rhesus and no infection developed (IRN), and noninfective (C). The summary data values are x1. = 4.39 (IRS), x2. = 4.52 (IRD), x3. = 5.49 (IRN), x4. = 6.36 (C), x.. = 5.19, ΣΣx2ij = 911.91. Use Tukey's procedure to identify differences in true average flight times among the four types of mosquitos. (Give answer accurate to 1 decimal place. Use α = 0.05.)\n",
        "\n",
        "In this question, we have a similar situation to Question 9.  We have only the summary statistics to work from, and so must perform Tukey's HSD test through direct calculations."
      ]
    },
    {
      "cell_type": "code",
      "metadata": {
        "id": "_kl19W_7M-Nc"
      },
      "source": [
        ""
      ],
      "execution_count": null,
      "outputs": []
    },
    {
      "cell_type": "code",
      "metadata": {
        "id": "CI4tTppGM-Ne"
      },
      "source": [
        ""
      ],
      "execution_count": null,
      "outputs": []
    },
    {
      "cell_type": "code",
      "metadata": {
        "id": "InVmmLFPM-Ng"
      },
      "source": [
        ""
      ],
      "execution_count": null,
      "outputs": []
    }
  ]
}