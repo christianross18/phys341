{
  "nbformat": 4,
  "nbformat_minor": 0,
  "metadata": {
    "kernelspec": {
      "display_name": "Python 3",
      "language": "python",
      "name": "python3"
    },
    "language_info": {
      "codemirror_mode": {
        "name": "ipython",
        "version": 3
      },
      "file_extension": ".py",
      "mimetype": "text/x-python",
      "name": "python",
      "nbconvert_exporter": "python",
      "pygments_lexer": "ipython3",
      "version": "3.6.8"
    },
    "colab": {
      "name": "Assignment7_Solutions_Template.ipynb",
      "provenance": []
    }
  },
  "cells": [
    {
      "cell_type": "markdown",
      "metadata": {
        "id": "_uL32O5mcWsx"
      },
      "source": [
        "# Assignment 7 Solutions"
      ]
    },
    {
      "cell_type": "code",
      "metadata": {
        "id": "X3QAhqfDcWsx"
      },
      "source": [
        "import numpy as np\n",
        "import pandas as pd\n",
        "import matplotlib.pyplot as plt\n",
        "import statsmodels.formula.api as sm\n",
        "from statsmodels.stats.anova import anova_lm\n",
        "import scipy.stats as stats\n",
        "from sklearn.linear_model import LinearRegression\n",
        "\n",
        "def linear_regression(sumx,sumy,sumxy,sumx2,n):\n",
        "    b = (n*sumxy-sumx*sumy)/(n*sumx2-sumx**2)\n",
        "    xbar = sumx/n\n",
        "    ybar = sumy/n\n",
        "    a = ybar - b*xbar\n",
        "    return a,b"
      ],
      "execution_count": 27,
      "outputs": []
    },
    {
      "cell_type": "markdown",
      "metadata": {
        "id": "_NFw7fjocWsx"
      },
      "source": [
        "## Question 1\n",
        "\n",
        "An article on estimating 28-day strength of concrete considered regressing y = 28-day standard-cured strength (psi) against x = accelerated strength (psi). Suppose the equation of the true regression line is y = 1789 + 0.7x.\n",
        "\n",
        "(a) What is the expected value of 28-day strength when accelerated strength = 2445? \n",
        "\n",
        "(b) By how much can we expect 28-day strength to change when accelerated strength increases by 1 psi? \n",
        "\n",
        "(c) Answer part (b) for an increase of 108 psi. (Give answer accurate to 1 decimal place.)\n",
        "\n",
        "(d) Answer part (b) for a decrease of 108 psi. (Give answer accurate to 1 decimal place.) "
      ]
    },
    {
      "cell_type": "code",
      "metadata": {
        "id": "RN6iKedxcWsx",
        "outputId": "e2b1718c-cd54-4125-ff5e-2dcaf974022d",
        "colab": {
          "base_uri": "https://localhost:8080/"
        }
      },
      "source": [
        "m=1.7\n",
        "b=1797\n",
        "x=2540\n",
        "y=m*x+b\n",
        "print(\"a:\",y)\n",
        "x=1\n",
        "y=m*x\n",
        "print(\"b:\",y)\n",
        "x=102\n",
        "y=m*x\n",
        "print(\"c:\",y)\n",
        "x=-102\n",
        "y=m*x\n",
        "print(\"d:\",y)"
      ],
      "execution_count": 28,
      "outputs": [
        {
          "output_type": "stream",
          "text": [
            "a: 6115.0\n",
            "b: 1.7\n",
            "c: 173.4\n",
            "d: -173.4\n"
          ],
          "name": "stdout"
        }
      ]
    },
    {
      "cell_type": "markdown",
      "metadata": {
        "id": "F8e-1HeGcWsy"
      },
      "source": [
        "## Question 2\n",
        "\n",
        "Suppose that in a certain chemical process the reaction time y (hr) is related to the temperature (°F) in the chamber in which the reaction takes place according to the simple linear regression model with equation y = 4.7 – 0.016x and σ = 0.085.\n",
        "\n",
        "(a) What is the expected change in reaction time for a 1°F increase in temperature?\n",
        "\n",
        "What is the expected change in reaction time for a 6°F increase in temperature? (Give answer accurate to 3 decimal places.)\n",
        " \n",
        "\n",
        "(b) What is the expected reaction time when temperature is 170°F? (Give answer accurate to 2 decimal places.) \n",
        "\n",
        "What is the expected reaction time when temperature is 190°F? (Give answer accurate to 2 decimal places.)\n",
        "\n",
        "(c) Suppose five observations are made independently on reaction time, each one for a temperature of 190°F. What is the probability that all five times are between 1.48 and 1.84 hours? (Give answer accurate to 3 decimal places.) \n",
        "\n",
        "(d) What is the probability that two independently observed reaction times for temperatures 1° apart are such that the time at the higher temperature exceeds the time at the lower temperature? (Give answer accurate to 3 decimal places.)"
      ]
    },
    {
      "cell_type": "code",
      "metadata": {
        "id": "IlEQr1-acWsy",
        "outputId": "9b36991f-2945-4854-dca0-292592a2a7b5",
        "colab": {
          "base_uri": "https://localhost:8080/"
        }
      },
      "source": [
        "m=-.015\n",
        "b=5.1\n",
        "sig=.073\n",
        "x=1\n",
        "y=m*x\n",
        "print(\"a:\",y)\n",
        "x=14\n",
        "y=m*x\n",
        "print(\"a:\",y)\n",
        "x=190\n",
        "y=m*x+b\n",
        "print(\"b:\",y)\n",
        "x=210\n",
        "y=m*x+b\n",
        "print(\"b:\",y)\n",
        "\n",
        "\n",
        "N_model = 2\n",
        "v_model = N_model - 1\n",
        "N=5\n",
        "v_total = N - 1\n",
        "v_error = v_total - v_model\n",
        "SS_total = (N-1)*df['Alcohol'][:-1].var()\n",
        "\n",
        "SS_model = r2*SS_total\n",
        "\n",
        "SS_error = SS_total - SS_model\n",
        "td=stats.t(5,loc=y,scale=sig)"
      ],
      "execution_count": 29,
      "outputs": [
        {
          "output_type": "stream",
          "text": [
            "a: -0.015\n",
            "a: -0.21\n",
            "b: 2.2499999999999996\n",
            "b: 1.9499999999999997\n"
          ],
          "name": "stdout"
        }
      ]
    },
    {
      "cell_type": "markdown",
      "metadata": {
        "id": "MiGoaMXEcWsy"
      },
      "source": [
        "## Question 3\n",
        "\n",
        "The accompanying data on x = current density (mA/cm$^2$) and y = rate of deposition (µm/min) appeared in the article \"Plating of 60/40 Tin/Lead Solder for Head Termination Metallurgy\" (Plating and Surface Finishing, Jan. 1997: 38-40). Do you agree with the claim by the article's author that \"a linear relationship was obtained from the tin-lead rate of deposition as a function of current density\"? (Give answer accurate to 3 decimal places.)\n",
        "\n",
        "x\t20\t40\t60\t80\n",
        "y  \t  0.24  \t  1.20  \t  1.71  \t  2.22  \n",
        "\n",
        "$r^2$ = \n",
        "\n",
        "Explain your reasoning."
      ]
    },
    {
      "cell_type": "code",
      "metadata": {
        "id": "X9ufX9EvcWsy",
        "outputId": "358f2687-56d5-4cbf-adcb-d1dac589d779",
        "colab": {
          "base_uri": "https://localhost:8080/"
        }
      },
      "source": [
        "xijk = np.array([[20,.24],[40,1.2],[60,1.71],[80,2.22]])\n",
        "\n",
        "df = pd.DataFrame(xijk,columns=['X','Y'])\n",
        "\n",
        "df.head(1000)\n",
        "print(df)\n",
        "result = sm.ols('X ~ Y',df).fit()\n",
        "print (result.summary())"
      ],
      "execution_count": 30,
      "outputs": [
        {
          "output_type": "stream",
          "text": [
            "      X     Y\n",
            "0  20.0  0.24\n",
            "1  40.0  1.20\n",
            "2  60.0  1.71\n",
            "3  80.0  2.22\n",
            "                            OLS Regression Results                            \n",
            "==============================================================================\n",
            "Dep. Variable:                      X   R-squared:                       0.972\n",
            "Model:                            OLS   Adj. R-squared:                  0.957\n",
            "Method:                 Least Squares   F-statistic:                     68.48\n",
            "Date:                Mon, 07 Dec 2020   Prob (F-statistic):             0.0143\n",
            "Time:                        14:14:38   Log-Likelihood:                -10.981\n",
            "No. Observations:                   4   AIC:                             25.96\n",
            "Df Residuals:                       2   BIC:                             24.73\n",
            "Df Model:                           1                                         \n",
            "Covariance Type:            nonrobust                                         \n",
            "==============================================================================\n",
            "                 coef    std err          t      P>|t|      [0.025      0.975]\n",
            "------------------------------------------------------------------------------\n",
            "Intercept      9.5533      5.566      1.716      0.228     -14.396      33.503\n",
            "Y             30.1279      3.641      8.275      0.014      14.463      45.792\n",
            "==============================================================================\n",
            "Omnibus:                          nan   Durbin-Watson:                   2.160\n",
            "Prob(Omnibus):                    nan   Jarque-Bera (JB):                0.475\n",
            "Skew:                          -0.508   Prob(JB):                        0.789\n",
            "Kurtosis:                       1.652   Cond. No.                         4.33\n",
            "==============================================================================\n",
            "\n",
            "Warnings:\n",
            "[1] Standard Errors assume that the covariance matrix of the errors is correctly specified.\n"
          ],
          "name": "stdout"
        },
        {
          "output_type": "stream",
          "text": [
            "/usr/local/lib/python3.6/dist-packages/statsmodels/stats/stattools.py:71: ValueWarning: omni_normtest is not valid with less than 8 observations; 4 samples were given.\n",
            "  \"samples were given.\" % int(n), ValueWarning)\n"
          ],
          "name": "stderr"
        }
      ]
    },
    {
      "cell_type": "code",
      "metadata": {
        "id": "jHaBo3aMcWsy"
      },
      "source": [
        ""
      ],
      "execution_count": 30,
      "outputs": []
    },
    {
      "cell_type": "markdown",
      "metadata": {
        "id": "XhROzUodcWsy"
      },
      "source": [
        "## Question 4\n",
        "\n",
        "A scatter plot along with the least squares line of x = rainfall volume (m3) and y = runoff volume (m3) were given for a particular location. The accompanying values were read from the plot.\n",
        "\n",
        "(a) Does a scatter plot of the data support the use of the simple linear regression model? \n",
        "\n",
        "(b) Calculate point estimates of the slope and intercept of the population regression line. (Give answers accurate to 3 decimal places.)\n",
        "\n",
        "(c) Calculate a point estimate of the true average runoff volume when rainfall volume is 50. (Give answer accurate to 2 decimal places.) \n",
        "\n",
        "(d) Calculate a point estimate of the standard deviation σ. (Give answer accurate to 2 decimal places.) \n",
        "\n",
        "(e) What proportion of the observed variation in runoff volume can be attributed to the simple linear regression relationship between runoff and rainfall? (Give answer accurate to 4 decimal places.)"
      ]
    },
    {
      "cell_type": "code",
      "metadata": {
        "id": "zVixkyHqcWsy",
        "outputId": "bf2d4aa3-2900-4ee7-d5b6-3c0dfec53027",
        "colab": {
          "base_uri": "https://localhost:8080/"
        }
      },
      "source": [
        "xijk = np.array([[4,4],[12,10],[14,13],[18,14],[23,15],[30,25],[40,27],[45,47]\n",
        "                 ,[55,38],[67,46],[72,53],[79,72],[96,82],[112,99],[124,105]])\n",
        "\n",
        "df = pd.DataFrame(xijk,columns=['X','Y'])\n",
        "\n",
        "df.head(1000)\n",
        "result = sm.ols('Y ~ X',df).fit()\n",
        "print (result.summary())\n",
        "\n",
        "r2 = result.rsquared\n",
        "r2_reduced = result.rsquared_adj\n",
        "yint = result.params[0]\n",
        "slope = result.params[1]\n",
        "sstd=.040\n",
        "ystd=2.565\n",
        "\n",
        "print(result.params)\n",
        "\n",
        "x_prediction = 50\n",
        "y_prediction = slope*x_prediction + yint\n",
        "print()\n",
        "print (\"c) y_prediction = %0.1f\" % y_prediction)\n",
        "\n",
        "print()\n",
        "y_prediction = sstd*x_prediction + ystd\n",
        "print (\"d) std = %0.2f\" % (y_prediction))"
      ],
      "execution_count": 49,
      "outputs": [
        {
          "output_type": "stream",
          "text": [
            "                            OLS Regression Results                            \n",
            "==============================================================================\n",
            "Dep. Variable:                      Y   R-squared:                       0.973\n",
            "Model:                            OLS   Adj. R-squared:                  0.970\n",
            "Method:                 Least Squares   F-statistic:                     460.7\n",
            "Date:                Mon, 07 Dec 2020   Prob (F-statistic):           1.55e-11\n",
            "Time:                        14:53:32   Log-Likelihood:                -46.227\n",
            "No. Observations:                  15   AIC:                             96.45\n",
            "Df Residuals:                      13   BIC:                             97.87\n",
            "Df Model:                           1                                         \n",
            "Covariance Type:            nonrobust                                         \n",
            "==============================================================================\n",
            "                 coef    std err          t      P>|t|      [0.025      0.975]\n",
            "------------------------------------------------------------------------------\n",
            "Intercept     -1.9018      2.565     -0.741      0.472      -7.444       3.640\n",
            "X              0.8578      0.040     21.464      0.000       0.771       0.944\n",
            "==============================================================================\n",
            "Omnibus:                        0.086   Durbin-Watson:                   2.075\n",
            "Prob(Omnibus):                  0.958   Jarque-Bera (JB):                0.278\n",
            "Skew:                          -0.128   Prob(JB):                        0.870\n",
            "Kurtosis:                       2.384   Cond. No.                         113.\n",
            "==============================================================================\n",
            "\n",
            "Warnings:\n",
            "[1] Standard Errors assume that the covariance matrix of the errors is correctly specified.\n",
            "Intercept   -1.901803\n",
            "X            0.857809\n",
            "dtype: float64\n",
            "\n",
            "c) y_prediction = 41.0\n",
            "\n",
            "d) std = 4.56\n"
          ],
          "name": "stdout"
        },
        {
          "output_type": "stream",
          "text": [
            "/usr/local/lib/python3.6/dist-packages/scipy/stats/stats.py:1535: UserWarning: kurtosistest only valid for n>=20 ... continuing anyway, n=15\n",
            "  \"anyway, n=%i\" % int(n))\n"
          ],
          "name": "stderr"
        }
      ]
    },
    {
      "cell_type": "code",
      "metadata": {
        "id": "XdMCzTO5cWsy"
      },
      "source": [
        ""
      ],
      "execution_count": 31,
      "outputs": []
    },
    {
      "cell_type": "markdown",
      "metadata": {
        "id": "5xKxEtEZcWsy"
      },
      "source": [
        "## Question 5\n",
        "\n",
        "The following summary statistics were obtained from a study that used regression analysis to investigate the relationship between pavement deflection and surface temperature of the pavement at various locations on a state highway. Here x = temperature (°F) and y = deflection adjustment factor (y ≥ 0).\n",
        "n = 17       Σxi = 1448.6       Σyi = 10.57\n",
        "Σxi 2 = 147414.45       Σxiyi = 987.536\n",
        "Σyi 2 = 7.8653\n",
        "\n",
        "(a) Compute eta hat1, eta hat0, and the equation of the estimated regression line. Graph the estimated line. (Do this on paper. Your instructor may ask you to turn in this work. Give answers accurate to 4 decimal places.)\n",
        "y^^\\^ =    seenKey 0.3131\t+    seenKey 0.0036  x\n",
        "\n",
        "(b) What is the estimate of expected change in the deflection adjustment factor when temperature is increased by 1°F? (Give answer accurate to 4 decimal places.) \n",
        "   seenKey 0.0036  \n",
        "\n",
        "(c) Suppose temperature were measured in °C rather than in °F. What would be the estimated regression line? Answer part (b) for an increase of 1°C. [Hint: °F = (9/5)°C + 32; now substitute for the \"old x\" in terms of the \"new x.\"] (Give answers accurate to 4 decimal places.)\n",
        "y^^\\^ =    seenKey 0.4290\t+    seenKey 0.0065  x\n",
        "\n",
        "(d) If a 200°F surface temperature were within the realm of possibility, would you use the estimated line of part (a) to predict deflection factor for this temperature? Why or why not? \n"
      ]
    },
    {
      "cell_type": "code",
      "metadata": {
        "id": "Oawr7EYhcWsy",
        "outputId": "c45f6187-4ef5-4646-c991-33dd3406eb41",
        "colab": {
          "base_uri": "https://localhost:8080/"
        }
      },
      "source": [
        "sumx = 1442\n",
        "sumy = 10.8\n",
        "sumx2 = 140832.61\n",
        "sumxy = 979.748\n",
        "sumy2 = 7.8711\n",
        "n = 18\n",
        "\n",
        "yint, slope = linear_regression(sumx,sumy,sumxy,sumx2,n)\n",
        "\n",
        "print()\n",
        "print (\"a) y = %0.4f + %0.4f x\" % (yint,slope))\n",
        "\n",
        "x = 1\n",
        "delta = slope*x\n",
        "print ()\n",
        "print (\"b) delta = %0.4f\" % delta)\n",
        "\n",
        "# y = yint + slope*x\n",
        "# y = yint + slope(9/5*x + 32)\n",
        "# y = yint + slope*32 + slope*9/5 * x\n",
        "\n",
        "yintF = yint + slope*32\n",
        "slopeF = slope*9/5\n",
        "print()\n",
        "print (\"c) y = %0.4f + %0.4f x\" % (yintF,slopeF))\n",
        "\n",
        "y_prediction = yint + slope*200.0\n",
        "print()\n",
        "print (\"d) y_prediction = %0.4f\" % y_prediction)\n"
      ],
      "execution_count": 36,
      "outputs": [
        {
          "output_type": "stream",
          "text": [
            "\n",
            "a) y = 0.2375 + 0.0045 x\n",
            "\n",
            "b) delta = 0.0045\n",
            "\n",
            "c) y = 0.3823 + 0.0081 x\n",
            "\n",
            "d) y_prediction = 1.1425\n"
          ],
          "name": "stdout"
        }
      ]
    },
    {
      "cell_type": "markdown",
      "metadata": {
        "id": "wL49rgFScWsz"
      },
      "source": [
        "## Question 6\n",
        "\n",
        "The following data is representative of that reported in an article on nitrogen emissions, with x = burner area liberation rate (MBtu/hr-ft2) and y = NOx emission rate (ppm).\n",
        "x\t  100\t125\t125\t150\t150\t200\t200\t250\t250\t300\t300\t350\t400\t400\n",
        "y    \t  140  \t130  \t170  \t220  \t190  \t300  \t270  \t390  \t420  \t440  \t400  \t590  \t600  \t650  \n",
        "(a) Assuming that the simple linear regression model is valid, obtain the least squares estimate of the true regression line. (Give answers accurate to 2 decimal places.)\n",
        "y^^\\^ =    seenKey -49.35  +    seenKey 1.70  x\n",
        "\n",
        "(b) What is the estimate of expected NOx emission rate when burner area liberation rate equals 250? (Give answer accurate to 1 decimal place.)\n",
        "\n",
        "(c) Estimate the amount by which you expect NOx emission rate to change when burner area liberation rate is decreased by 60. (Give answer accurate to 1 decimal place.) \n",
        "\n",
        "(d) Would you use the estimated regression line to predict emission rate for a liberation rate of 500? Why or why not?"
      ]
    },
    {
      "cell_type": "code",
      "metadata": {
        "id": "TPCS9rS7cWsz",
        "outputId": "86e01b29-cb2e-461a-abbf-2e6600fc73c4",
        "colab": {
          "base_uri": "https://localhost:8080/",
          "height": 281
        }
      },
      "source": [
        "x = np.array([100,125,125,150,150,200,200,250,250,300,300,350,400,400])\n",
        "y = np.array([150,130,190,210,180,310,290,410,440,450,400,600,610,680])\n",
        "\n",
        "df = pd.DataFrame({'x':x, 'y':y})\n",
        "\n",
        "df.plot('x','y',style='o')\n",
        "plt.ylabel('Y')\n",
        "plt.show()"
      ],
      "execution_count": 42,
      "outputs": [
        {
          "output_type": "display_data",
          "data": {
            "image/png": "[encoded data removed]",
            "text/plain": [
              "<Figure size 432x288 with 1 Axes>"
            ]
          },
          "metadata": {
            "tags": [],
            "needs_background": "light"
          }
        }
      ]
    },
    {
      "cell_type": "code",
      "metadata": {
        "id": "P4ji_21hcWsz",
        "outputId": "1dc6d504-2a69-4d70-909d-9f16820ab1d7",
        "colab": {
          "base_uri": "https://localhost:8080/"
        }
      },
      "source": [
        "result = sm.ols('y ~ x',df,).fit()\n",
        "print (result.summary())\n",
        "\n",
        "r2 = result.rsquared\n",
        "r2_reduced = result.rsquared_adj\n",
        "yint = result.params[0]\n",
        "slope = result.params[1]\n",
        "\n",
        "x_prediction = 245\n",
        "y_prediction = slope*x_prediction + yint\n",
        "print()\n",
        "print (\"b) y_prediction = %0.2f\" % y_prediction)\n",
        "\n",
        "print()\n",
        "print (\"c) delta = %0.1f\" % (slope*-40))"
      ],
      "execution_count": 46,
      "outputs": [
        {
          "output_type": "stream",
          "text": [
            "                            OLS Regression Results                            \n",
            "==============================================================================\n",
            "Dep. Variable:                      y   R-squared:                       0.960\n",
            "Model:                            OLS   Adj. R-squared:                  0.957\n",
            "Method:                 Least Squares   F-statistic:                     287.4\n",
            "Date:                Mon, 07 Dec 2020   Prob (F-statistic):           9.51e-10\n",
            "Time:                        14:49:32   Log-Likelihood:                -69.662\n",
            "No. Observations:                  14   AIC:                             143.3\n",
            "Df Residuals:                      12   BIC:                             144.6\n",
            "Df Model:                           1                                         \n",
            "Covariance Type:            nonrobust                                         \n",
            "==============================================================================\n",
            "                 coef    std err          t      P>|t|      [0.025      0.975]\n",
            "------------------------------------------------------------------------------\n",
            "Intercept    -49.7569     26.241     -1.896      0.082    -106.932       7.418\n",
            "x              1.7414      0.103     16.954      0.000       1.518       1.965\n",
            "==============================================================================\n",
            "Omnibus:                        0.694   Durbin-Watson:                   2.636\n",
            "Prob(Omnibus):                  0.707   Jarque-Bera (JB):                0.690\n",
            "Skew:                          -0.373   Prob(JB):                        0.708\n",
            "Kurtosis:                       2.207   Cond. No.                         662.\n",
            "==============================================================================\n",
            "\n",
            "Warnings:\n",
            "[1] Standard Errors assume that the covariance matrix of the errors is correctly specified.\n",
            "\n",
            "b) y_prediction = 376.88\n",
            "\n",
            "c) delta = -69.7\n"
          ],
          "name": "stdout"
        },
        {
          "output_type": "stream",
          "text": [
            "/usr/local/lib/python3.6/dist-packages/scipy/stats/stats.py:1535: UserWarning: kurtosistest only valid for n>=20 ... continuing anyway, n=14\n",
            "  \"anyway, n=%i\" % int(n))\n"
          ],
          "name": "stderr"
        }
      ]
    },
    {
      "cell_type": "code",
      "metadata": {
        "id": "5FX_sQuTcWsz"
      },
      "source": [
        ""
      ],
      "execution_count": 34,
      "outputs": []
    }
  ]
}