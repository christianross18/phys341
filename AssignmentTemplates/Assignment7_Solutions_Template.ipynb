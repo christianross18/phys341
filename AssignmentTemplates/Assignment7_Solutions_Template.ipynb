{
  "nbformat": 4,
  "nbformat_minor": 0,
  "metadata": {
    "kernelspec": {
      "display_name": "Python 3",
      "language": "python",
      "name": "python3"
    },
    "language_info": {
      "codemirror_mode": {
        "name": "ipython",
        "version": 3
      },
      "file_extension": ".py",
      "mimetype": "text/x-python",
      "name": "python",
      "nbconvert_exporter": "python",
      "pygments_lexer": "ipython3",
      "version": "3.6.8"
    },
    "colab": {
      "name": "Assignment7_Solutions_Template.ipynb",
      "provenance": []
    }
  },
  "cells": [
    {
      "cell_type": "markdown",
      "metadata": {
        "id": "_uL32O5mcWsx"
      },
      "source": [
        "# Assignment 7 Solutions"
      ]
    },
    {
      "cell_type": "code",
      "metadata": {
        "id": "X3QAhqfDcWsx"
      },
      "source": [
        "import numpy as np\n",
        "import pandas as pd\n",
        "import matplotlib.pyplot as plt\n",
        "import statsmodels.formula.api as sm\n",
        "from statsmodels.stats.anova import anova_lm\n",
        "import scipy.stats as stats\n",
        "from sklearn.linear_model import LinearRegression\n",
        "\n",
        "def linear_regression(sumx,sumy,sumxy,sumx2,n):\n",
        "    b = (n*sumxy-sumx*sumy)/(n*sumx2-sumx**2)\n",
        "    xbar = sumx/n\n",
        "    ybar = sumy/n\n",
        "    a = ybar - b*xbar\n",
        "    return a,b\n",
        "def sigma_regression_summary_stats(sumx,sumy,sumxy,sumx2,sumy2,n,b0,b1):\n",
        "    t1 = n*b0*b0\n",
        "    t2 = 2*b0*b1*sumx\n",
        "    t3 = b1**2*sumx2\n",
        "    t4 = -2.0*b0*sumy\n",
        "    t5 = -2.0*b1*sumxy\n",
        "    t6 = sumy2\n",
        "    v_error = n - 2\n",
        "\n",
        "    sigma = np.sqrt(1.0/v_error*(t1+t2+t3+t4+t5+t6))\n",
        "\n",
        "    return float(sigma)\n",
        "\n",
        "from scipy.special import gamma\n",
        "\n",
        "def fpcalc(MS_treatment,MS_error,dof_treatment,dof_error,alpha):\n",
        "\n",
        "    fSN = float(MS_treatment/MS_error)\n",
        "    print (\"F Signal/Noise = %0.2f \" % fSN)\n",
        "\n",
        "    fdist = stats.f(dof_treatment,dof_error)\n",
        "    fhigh = fdist.ppf(1-alpha)\n",
        "    print (\"Critical F-value = %0.2f\" % (fhigh))\n",
        "\n",
        "    if (fSN > 1):\n",
        "        pvalue = (1-fdist.cdf(fSN))\n",
        "    else:\n",
        "        pvalue = fdist.cdf(fSN)\n",
        "\n",
        "    print (\"Pvalue = %0.3f\" % (pvalue))\n",
        "\n",
        "    return (fSN,pvalue)\n",
        "\n",
        "def tukey_calc(xbar,MS_error,n,dof_error,alpha):\n",
        "\n",
        "    # Tukey's Procedure\n",
        "    #\n",
        "    # Step 1:  Calculate the standard error = sqrt(MS_error/n)\n",
        "\n",
        "    std_error = np.sqrt(MS_error/n)\n",
        "    print (\"Standard Error = %0.3f\" % std_error)\n",
        "\n",
        "    # Step 2:  Order the means from smallest to largest\n",
        "\n",
        "    print (\"Original Xbar = \",xbar)\n",
        "    xbar_orig = xbar.copy()\n",
        "    xbar.sort()\n",
        "    print (\"Sorted Xbar = \",xbar)\n",
        "\n",
        "    # Step 3:  Get the expected number of error bars (sem) between largest and smallest, for the number\n",
        "    # of means to be compared (a).  For this, we need the studentized range table values q(alpha,dof_error,k) for k=2..a.\n",
        "    # \n",
        "    # http://www.real-statistics.com/statistics-tables/studentized-range-q-table/\n",
        "    # For this problem, dof_error = 15, alpha = 0.05, k = 2,3,4,5\n",
        "    #q = np.array([3.014,3.673,4.076,4.367])\n",
        "\n",
        "    n_means=len(xbar)\n",
        "    q = q_tukey(n_means,dof_error,alpha)\n",
        "    print (q)\n",
        "\n",
        "    # Step 4:  Calculate W = q(k=5)*std_error\n",
        "\n",
        "    W = q[n_means-2]*std_error\n",
        "\n",
        "    print (\"W = %0.2f\" % W)\n",
        "\n",
        "    # Step 5:  Make pair-wise comparisons\n",
        "\n",
        "    print (list(xbar_orig))\n",
        "\n",
        "    print (\"i j xbar1 xbar2 Diff Diff_comp Result\")\n",
        "    for i in range(len(xbar)):\n",
        "        for j in range(len(xbar)):\n",
        "            if (xbar[j] > xbar[i]):\n",
        "                diff = (xbar[j] - xbar[i])/std_error\n",
        "                diff_comp = q[j-i-1]\n",
        "                if (diff>diff_comp):\n",
        "                    Result = \"Yes\"\n",
        "                else:\n",
        "                    Result = \"No\"\n",
        "                iorig = list(xbar_orig).index(xbar[i])+1\n",
        "                jorig = list(xbar_orig).index(xbar[j])+1\n",
        "                print (\"%0.0f %0.0f %0.1f %0.1f %0.3f  %0.3f %s\" % (iorig,jorig,xbar[i],xbar[j],diff,diff_comp,Result))\n",
        "\n",
        "def linear_regression(sumx,sumy,sumxy,sumx2,n):\n",
        "    b0 = (sumx2*sumy-sumx*sumxy)/(n*sumx2-sumx**2)\n",
        "    b1 = (n*sumxy-sumx*sumy)/(n*sumx2-sumx**2)\n",
        "    return b0,b1\n",
        "\n",
        "def sigma_regression_summary_stats(sumx,sumy,sumxy,sumx2,sumy2,n,b0,b1):\n",
        "    t1 = n*b0*b0\n",
        "    t2 = 2*b0*b1*sumx\n",
        "    t3 = b1**2*sumx2\n",
        "    t4 = -2.0*b0*sumy\n",
        "    t5 = -2.0*b1*sumxy\n",
        "    t6 = sumy2\n",
        "    v_error = n - 2\n",
        "\n",
        "    sigma = np.sqrt(1.0/v_error*(t1+t2+t3+t4+t5+t6))\n",
        "\n",
        "    return float(sigma)\n",
        "\n",
        "def q_tukey(k, v, alpha):\n",
        "\n",
        "    qarray = []\n",
        "    for k in range(2,k+1):\n",
        "        print (\"q_tukey: calculating k = \",k)\n",
        "\n",
        "        dq = 0.003\n",
        "        qd = np.array(np.arange(0.000,6.000,dq))\n",
        "\n",
        "        f = []\n",
        "        fs = []\n",
        "        found = False\n",
        "\n",
        "        for i in range(len(qd)):\n",
        "            q = qd[i]\n",
        "            prefactor = np.sqrt(2.0*np.pi)*k*(k-1)*v**(v/2.0)/(gamma(v/2.0)*2**(v/2.0-1))\n",
        "            npts = 100\n",
        "\n",
        "            xh = 6.0\n",
        "            xl = 0.0\n",
        "            dx = (xh-xl)/npts\n",
        "\n",
        "            x = np.arange(xl,xh,dx)\n",
        "            x = x.reshape(1,-1)\n",
        "\n",
        "            ul = -6.0\n",
        "            uh = 6.0\n",
        "            du = (uh-ul)/npts\n",
        "\n",
        "            u = np.arange(ul,uh,du)\n",
        "            u = u.reshape(-1,1)\n",
        "\n",
        "            phi_u = stats.norm.pdf(u)\n",
        "            phi_ux = stats.norm.pdf(u-q*x)\n",
        "            Phi_u = stats.norm.cdf(u)\n",
        "            Phi_ux = stats.norm.cdf(u-q*x)\n",
        "            phi_x = stats.norm.pdf(np.sqrt(v)*x)\n",
        "\n",
        "            integrand = x**v*phi_x*phi_u*phi_ux*(Phi_u-Phi_ux)**(k-2)*du*dx\n",
        "\n",
        "            #print (\"U integral matrix\")\n",
        "            #print(u,phi_u,phi_ux,Phi_u,Phi_ux,phi_x,x**v,integrand)\n",
        "\n",
        "            sumux = integrand.sum()\n",
        "\n",
        "            #print (\"U sum\")\n",
        "            #print(sumux)\n",
        "\n",
        "            #print (\"X sum * prefactor\")\n",
        "            #print (sumux*prefactor)\n",
        "\n",
        "            f.append(sumux*prefactor)\n",
        "\n",
        "            if (i>0):\n",
        "                fs.append(f[i]*dq+fs[i-1])\n",
        "            else:\n",
        "                fs.append(f[i]*dq)\n",
        "\n",
        "            if (fs[i]>(1-alpha) and not(found)):\n",
        "                q_critical = qd[i-1] + ((1-alpha)-fs[i-1])*(qd[i]-qd[i-1])/(fs[i]-fs[i-1])\n",
        "                print (\"q_critical = \",q_critical)\n",
        "                found = True\n",
        "\n",
        "            #print(q,f[i],fs[i])\n",
        "\n",
        "        qarray.append(q_critical)\n",
        "        plt.scatter(q_critical,(1-alpha))\n",
        "\n",
        "        f = np.array(f)\n",
        "        fs = np.array(fs)\n",
        "        plt.plot(qd,fs)\n",
        "\n",
        "    qarray=np.array(qarray)\n",
        "    return qarray\n",
        "\n",
        "def sem_neq(n1,n2,s1,s2):\n",
        "    sm = np.sqrt(s1**2/n1+s2**2/n2)\n",
        "    return float(sm)\n",
        "\n",
        "def ndof_neq(n1,n2,s1,s2):\n",
        "    v1 = s1**2/n1\n",
        "    v2 = s2**2/n2\n",
        "    dof = (v1+v2)**2/(v1**2/(n1-1)+v2**2/(n2-1))\n",
        "    return int(dof)\n",
        "\n",
        "def sem_eq(n1,n2,s1,s2):\n",
        "    sp = np.sqrt(((n1-1)*s1**2+(n2-1)*s2**2)/(n1+n2-2))\n",
        "    sm = sp*np.sqrt(1.0/n1+1.0/n2)\n",
        "    return float(sm)\n",
        "\n",
        "def ndof_eq(n1,n2,s1,s2):\n",
        "    dof = n2+n1-2\n",
        "    return int(dof)\n"
      ],
      "execution_count": 69,
      "outputs": []
    },
    {
      "cell_type": "markdown",
      "metadata": {
        "id": "_NFw7fjocWsx"
      },
      "source": [
        "## Question 1\n",
        "\n",
        "An article on estimating 28-day strength of concrete considered regressing y = 28-day standard-cured strength (psi) against x = accelerated strength (psi). Suppose the equation of the true regression line is y = 1789 + 0.7x.\n",
        "\n",
        "(a) What is the expected value of 28-day strength when accelerated strength = 2445? \n",
        "\n",
        "(b) By how much can we expect 28-day strength to change when accelerated strength increases by 1 psi? \n",
        "\n",
        "(c) Answer part (b) for an increase of 108 psi. (Give answer accurate to 1 decimal place.)\n",
        "\n",
        "(d) Answer part (b) for a decrease of 108 psi. (Give answer accurate to 1 decimal place.) "
      ]
    },
    {
      "cell_type": "code",
      "metadata": {
        "id": "RN6iKedxcWsx",
        "colab": {
          "base_uri": "https://localhost:8080/"
        },
        "outputId": "6d50a77f-71b5-478e-b99c-4f9ebe61c3bd"
      },
      "source": [
        "m=1.7\n",
        "b=1797\n",
        "x=2540\n",
        "y=m*x+b\n",
        "print(\"a:\",y)\n",
        "x=1\n",
        "y=m*x\n",
        "print(\"b:\",y)\n",
        "x=102\n",
        "y=m*x\n",
        "print(\"c:\",y)\n",
        "x=-102\n",
        "y=m*x\n",
        "print(\"d:\",y)"
      ],
      "execution_count": 11,
      "outputs": [
        {
          "output_type": "stream",
          "text": [
            "a: 6115.0\n",
            "b: 1.7\n",
            "c: 173.4\n",
            "d: -173.4\n"
          ],
          "name": "stdout"
        }
      ]
    },
    {
      "cell_type": "markdown",
      "metadata": {
        "id": "F8e-1HeGcWsy"
      },
      "source": [
        "## Question 2\n",
        "\n",
        "Suppose that in a certain chemical process the reaction time y (hr) is related to the temperature (°F) in the chamber in which the reaction takes place according to the simple linear regression model with equation y = 4.7 – 0.016x and σ = 0.085.\n",
        "\n",
        "(a) What is the expected change in reaction time for a 1°F increase in temperature?\n",
        "\n",
        "What is the expected change in reaction time for a 6°F increase in temperature? (Give answer accurate to 3 decimal places.)\n",
        " \n",
        "\n",
        "(b) What is the expected reaction time when temperature is 170°F? (Give answer accurate to 2 decimal places.) \n",
        "\n",
        "What is the expected reaction time when temperature is 190°F? (Give answer accurate to 2 decimal places.)\n",
        "\n",
        "(c) Suppose five observations are made independently on reaction time, each one for a temperature of 190°F. What is the probability that all five times are between 1.48 and 1.84 hours? (Give answer accurate to 3 decimal places.) \n",
        "\n",
        "(d) What is the probability that two independently observed reaction times for temperatures 1° apart are such that the time at the higher temperature exceeds the time at the lower temperature? (Give answer accurate to 3 decimal places.)"
      ]
    },
    {
      "cell_type": "code",
      "metadata": {
        "id": "IlEQr1-acWsy",
        "colab": {
          "base_uri": "https://localhost:8080/"
        },
        "outputId": "b070b073-7478-4520-aae1-0e90e4906758"
      },
      "source": [
        "m=-.015\n",
        "b=5.1\n",
        "sig=.073\n",
        "x=1\n",
        "y=m*x\n",
        "print(\"a:\",y)\n",
        "x=14\n",
        "y=m*x\n",
        "print(\"a:\",y)\n",
        "x=190\n",
        "y=m*x+b\n",
        "print(\"b:\",y)\n",
        "x=210\n",
        "y=m*x+b\n",
        "print(\"b:\",y)\n",
        "\n",
        "t=stats.t(4,loc=y,scale=sig)\n",
        "chance=(t.cdf(2.00)-t.cdf(1.90))**5\n",
        "print(chance)\n",
        "score=(-m)/(np.sqrt(2)*sig)\n",
        "n=stats.norm()\n",
        "print(1-n.cdf(score))"
      ],
      "execution_count": 12,
      "outputs": [
        {
          "output_type": "stream",
          "text": [
            "a: -0.015\n",
            "a: -0.21\n",
            "b: 2.2499999999999996\n",
            "b: 1.9499999999999997\n",
            "0.022687792726277117\n",
            "0.44223862034735684\n"
          ],
          "name": "stdout"
        }
      ]
    },
    {
      "cell_type": "markdown",
      "metadata": {
        "id": "MiGoaMXEcWsy"
      },
      "source": [
        "## Question 3\n",
        "\n",
        "The accompanying data on x = current density (mA/cm$^2$) and y = rate of deposition (µm/min) appeared in the article \"Plating of 60/40 Tin/Lead Solder for Head Termination Metallurgy\" (Plating and Surface Finishing, Jan. 1997: 38-40). Do you agree with the claim by the article's author that \"a linear relationship was obtained from the tin-lead rate of deposition as a function of current density\"? (Give answer accurate to 3 decimal places.)\n",
        "\n",
        "x\t20\t40\t60\t80\n",
        "y  \t  0.24  \t  1.20  \t  1.71  \t  2.22  \n",
        "\n",
        "$r^2$ = \n",
        "\n",
        "Explain your reasoning."
      ]
    },
    {
      "cell_type": "code",
      "metadata": {
        "id": "X9ufX9EvcWsy",
        "colab": {
          "base_uri": "https://localhost:8080/"
        },
        "outputId": "732ff4ac-528a-4a0d-fbdb-bedfa87ddf8f"
      },
      "source": [
        "xijk = np.array([[20,.24],[40,1.2],[60,1.71],[80,2.22]])\n",
        "\n",
        "df = pd.DataFrame(xijk,columns=['X','Y'])\n",
        "\n",
        "df.head(1000)\n",
        "print(df)\n",
        "result = sm.ols('X ~ Y',df).fit()\n",
        "print (result.summary())"
      ],
      "execution_count": 13,
      "outputs": [
        {
          "output_type": "stream",
          "text": [
            "      X     Y\n",
            "0  20.0  0.24\n",
            "1  40.0  1.20\n",
            "2  60.0  1.71\n",
            "3  80.0  2.22\n",
            "                            OLS Regression Results                            \n",
            "==============================================================================\n",
            "Dep. Variable:                      X   R-squared:                       0.972\n",
            "Model:                            OLS   Adj. R-squared:                  0.957\n",
            "Method:                 Least Squares   F-statistic:                     68.48\n",
            "Date:                Fri, 18 Dec 2020   Prob (F-statistic):             0.0143\n",
            "Time:                        13:07:26   Log-Likelihood:                -10.981\n",
            "No. Observations:                   4   AIC:                             25.96\n",
            "Df Residuals:                       2   BIC:                             24.73\n",
            "Df Model:                           1                                         \n",
            "Covariance Type:            nonrobust                                         \n",
            "==============================================================================\n",
            "                 coef    std err          t      P>|t|      [0.025      0.975]\n",
            "------------------------------------------------------------------------------\n",
            "Intercept      9.5533      5.566      1.716      0.228     -14.396      33.503\n",
            "Y             30.1279      3.641      8.275      0.014      14.463      45.792\n",
            "==============================================================================\n",
            "Omnibus:                          nan   Durbin-Watson:                   2.160\n",
            "Prob(Omnibus):                    nan   Jarque-Bera (JB):                0.475\n",
            "Skew:                          -0.508   Prob(JB):                        0.789\n",
            "Kurtosis:                       1.652   Cond. No.                         4.33\n",
            "==============================================================================\n",
            "\n",
            "Warnings:\n",
            "[1] Standard Errors assume that the covariance matrix of the errors is correctly specified.\n"
          ],
          "name": "stdout"
        },
        {
          "output_type": "stream",
          "text": [
            "/usr/local/lib/python3.6/dist-packages/statsmodels/stats/stattools.py:71: ValueWarning: omni_normtest is not valid with less than 8 observations; 4 samples were given.\n",
            "  \"samples were given.\" % int(n), ValueWarning)\n"
          ],
          "name": "stderr"
        }
      ]
    },
    {
      "cell_type": "code",
      "metadata": {
        "id": "jHaBo3aMcWsy"
      },
      "source": [
        ""
      ],
      "execution_count": 13,
      "outputs": []
    },
    {
      "cell_type": "markdown",
      "metadata": {
        "id": "XhROzUodcWsy"
      },
      "source": [
        "## Question 4\n",
        "\n",
        "A scatter plot along with the least squares line of x = rainfall volume (m3) and y = runoff volume (m3) were given for a particular location. The accompanying values were read from the plot.\n",
        "\n",
        "(a) Does a scatter plot of the data support the use of the simple linear regression model? \n",
        "\n",
        "(b) Calculate point estimates of the slope and intercept of the population regression line. (Give answers accurate to 3 decimal places.)\n",
        "\n",
        "(c) Calculate a point estimate of the true average runoff volume when rainfall volume is 50. (Give answer accurate to 2 decimal places.) \n",
        "\n",
        "(d) Calculate a point estimate of the standard deviation σ. (Give answer accurate to 2 decimal places.) \n",
        "\n",
        "(e) What proportion of the observed variation in runoff volume can be attributed to the simple linear regression relationship between runoff and rainfall? (Give answer accurate to 4 decimal places.)"
      ]
    },
    {
      "cell_type": "code",
      "metadata": {
        "id": "zVixkyHqcWsy",
        "colab": {
          "base_uri": "https://localhost:8080/"
        },
        "outputId": "6b2b2ba2-3320-4d27-b53e-40e7e1bf6a28"
      },
      "source": [
        "\n",
        "x = np.array([4,12,14,18,23,30,40,45,55,67,72,79,96,112,124])\n",
        "y = np.array([4,10,13,14,15,25,27,47,38,46,53,72,82,99,105])\n",
        "\n",
        "df = pd.DataFrame({'x':x, 'y':y})\n",
        "\n",
        "result = sm.ols('y ~ x',df,).fit()\n",
        "print (result.summary())\n",
        "\n",
        "r2 = result.rsquared\n",
        "r2_reduced = result.rsquared_adj\n",
        "yint = result.params[0]\n",
        "slope = result.params[1]\n",
        "\n",
        "\n",
        "x_prediction = 50\n",
        "y_prediction = slope*x_prediction + yint\n",
        "print()\n",
        "print (\"c) y_prediction = %0.1f\" % y_prediction)\n",
        "\n",
        "\n",
        "sumx = x.sum()\n",
        "sumy = y.sum()\n",
        "sumx2 = (x*x).sum()\n",
        "sumxy = (x*y).sum()\n",
        "sumy2 = (y*y).sum()\n",
        "n = len(x)\n",
        "\n",
        "b0,b1=linear_regression(sumx,sumy,sumxy,sumx2,n)\n",
        "sig=sigma_regression_summary_stats(sumx,sumy,sumxy,sumx2,sumy2,n,b0,b1)\n",
        "print(sig)\n",
        "print(r2)\n"
      ],
      "execution_count": 14,
      "outputs": [
        {
          "output_type": "stream",
          "text": [
            "                            OLS Regression Results                            \n",
            "==============================================================================\n",
            "Dep. Variable:                      y   R-squared:                       0.973\n",
            "Model:                            OLS   Adj. R-squared:                  0.970\n",
            "Method:                 Least Squares   F-statistic:                     460.7\n",
            "Date:                Fri, 18 Dec 2020   Prob (F-statistic):           1.55e-11\n",
            "Time:                        13:07:26   Log-Likelihood:                -46.227\n",
            "No. Observations:                  15   AIC:                             96.45\n",
            "Df Residuals:                      13   BIC:                             97.87\n",
            "Df Model:                           1                                         \n",
            "Covariance Type:            nonrobust                                         \n",
            "==============================================================================\n",
            "                 coef    std err          t      P>|t|      [0.025      0.975]\n",
            "------------------------------------------------------------------------------\n",
            "Intercept     -1.9018      2.565     -0.741      0.472      -7.444       3.640\n",
            "x              0.8578      0.040     21.464      0.000       0.771       0.944\n",
            "==============================================================================\n",
            "Omnibus:                        0.086   Durbin-Watson:                   2.075\n",
            "Prob(Omnibus):                  0.958   Jarque-Bera (JB):                0.278\n",
            "Skew:                          -0.128   Prob(JB):                        0.870\n",
            "Kurtosis:                       2.384   Cond. No.                         113.\n",
            "==============================================================================\n",
            "\n",
            "Warnings:\n",
            "[1] Standard Errors assume that the covariance matrix of the errors is correctly specified.\n",
            "\n",
            "c) y_prediction = 41.0\n",
            "5.665519405483459\n",
            "0.9725572979826708\n"
          ],
          "name": "stdout"
        },
        {
          "output_type": "stream",
          "text": [
            "/usr/local/lib/python3.6/dist-packages/scipy/stats/stats.py:1535: UserWarning: kurtosistest only valid for n>=20 ... continuing anyway, n=15\n",
            "  \"anyway, n=%i\" % int(n))\n"
          ],
          "name": "stderr"
        }
      ]
    },
    {
      "cell_type": "code",
      "metadata": {
        "id": "XdMCzTO5cWsy"
      },
      "source": [
        ""
      ],
      "execution_count": 14,
      "outputs": []
    },
    {
      "cell_type": "markdown",
      "metadata": {
        "id": "5xKxEtEZcWsy"
      },
      "source": [
        "## Question 5\n",
        "\n",
        "The following summary statistics were obtained from a study that used regression analysis to investigate the relationship between pavement deflection and surface temperature of the pavement at various locations on a state highway. Here x = temperature (°F) and y = deflection adjustment factor (y ≥ 0).\n",
        "n = 17       Σxi = 1448.6       Σyi = 10.57\n",
        "Σxi 2 = 147414.45       Σxiyi = 987.536\n",
        "Σyi 2 = 7.8653\n",
        "\n",
        "(a) Compute eta hat1, eta hat0, and the equation of the estimated regression line. Graph the estimated line. (Do this on paper. Your instructor may ask you to turn in this work. Give answers accurate to 4 decimal places.)\n",
        "y^^\\^ =    seenKey 0.3131\t+    seenKey 0.0036  x\n",
        "\n",
        "(b) What is the estimate of expected change in the deflection adjustment factor when temperature is increased by 1°F? (Give answer accurate to 4 decimal places.) \n",
        "   seenKey 0.0036  \n",
        "\n",
        "(c) Suppose temperature were measured in °C rather than in °F. What would be the estimated regression line? Answer part (b) for an increase of 1°C. [Hint: °F = (9/5)°C + 32; now substitute for the \"old x\" in terms of the \"new x.\"] (Give answers accurate to 4 decimal places.)\n",
        "y^^\\^ =    seenKey 0.4290\t+    seenKey 0.0065  x\n",
        "\n",
        "(d) If a 200°F surface temperature were within the realm of possibility, would you use the estimated line of part (a) to predict deflection factor for this temperature? Why or why not? \n"
      ]
    },
    {
      "cell_type": "code",
      "metadata": {
        "id": "Oawr7EYhcWsy",
        "colab": {
          "base_uri": "https://localhost:8080/"
        },
        "outputId": "18ce16fc-f89a-4789-ef5f-800dc135bbf0"
      },
      "source": [
        "sumx = 1442\n",
        "sumy = 10.8\n",
        "sumx2 = 140832.61\n",
        "sumxy = 979.748\n",
        "sumy2 = 7.8711\n",
        "n = 18\n",
        "\n",
        "yint, slope = linear_regression(sumx,sumy,sumxy,sumx2,n)\n",
        "\n",
        "print()\n",
        "print (\"a) y = %0.4f + %0.4f x\" % (yint,slope))\n",
        "\n",
        "x = 1\n",
        "delta = slope*x\n",
        "print ()\n",
        "print (\"b) delta = %0.4f\" % delta)\n",
        "\n",
        "# y = yint + slope*x\n",
        "# y = yint + slope(9/5*x + 32)\n",
        "# y = yint + slope*32 + slope*9/5 * x\n",
        "\n",
        "yintF = yint + slope*32\n",
        "slopeF = slope*9/5\n",
        "print()\n",
        "print (\"c) y = %0.4f + %0.4f x\" % (yintF,slopeF))\n",
        "\n",
        "y_prediction = yint + slope*200.0\n",
        "print()\n",
        "print (\"d) y_prediction = %0.4f\" % y_prediction)\n"
      ],
      "execution_count": 15,
      "outputs": [
        {
          "output_type": "stream",
          "text": [
            "\n",
            "a) y = 0.2375 + 0.0045 x\n",
            "\n",
            "b) delta = 0.0045\n",
            "\n",
            "c) y = 0.3823 + 0.0081 x\n",
            "\n",
            "d) y_prediction = 1.1425\n"
          ],
          "name": "stdout"
        }
      ]
    },
    {
      "cell_type": "markdown",
      "metadata": {
        "id": "wL49rgFScWsz"
      },
      "source": [
        "## Question 6\n",
        "\n",
        "The following data is representative of that reported in an article on nitrogen emissions, with x = burner area liberation rate (MBtu/hr-ft2) and y = NOx emission rate (ppm).\n",
        "x\t  100\t125\t125\t150\t150\t200\t200\t250\t250\t300\t300\t350\t400\t400\n",
        "y    \t  140  \t130  \t170  \t220  \t190  \t300  \t270  \t390  \t420  \t440  \t400  \t590  \t600  \t650  \n",
        "(a) Assuming that the simple linear regression model is valid, obtain the least squares estimate of the true regression line. (Give answers accurate to 2 decimal places.)\n",
        "y^^\\^ =    seenKey -49.35  +    seenKey 1.70  x\n",
        "\n",
        "(b) What is the estimate of expected NOx emission rate when burner area liberation rate equals 250? (Give answer accurate to 1 decimal place.)\n",
        "\n",
        "(c) Estimate the amount by which you expect NOx emission rate to change when burner area liberation rate is decreased by 60. (Give answer accurate to 1 decimal place.) \n",
        "\n",
        "(d) Would you use the estimated regression line to predict emission rate for a liberation rate of 500? Why or why not?"
      ]
    },
    {
      "cell_type": "code",
      "metadata": {
        "id": "TPCS9rS7cWsz",
        "colab": {
          "base_uri": "https://localhost:8080/",
          "height": 281
        },
        "outputId": "c0962397-54f6-42a8-fa19-8c4cbaf040d9"
      },
      "source": [
        "x = np.array([100,125,125,150,150,200,200,250,250,300,300,350,400,400])\n",
        "y = np.array([150,130,190,210,180,310,290,410,440,450,400,600,610,680])\n",
        "\n",
        "df = pd.DataFrame({'x':x, 'y':y})\n",
        "\n",
        "df.plot('x','y',style='o')\n",
        "plt.ylabel('Y')\n",
        "plt.show()"
      ],
      "execution_count": 16,
      "outputs": [
        {
          "output_type": "display_data",
          "data": {
            "image/png": "[encoded data removed]",
            "text/plain": [
              "<Figure size 432x288 with 1 Axes>"
            ]
          },
          "metadata": {
            "tags": [],
            "needs_background": "light"
          }
        }
      ]
    },
    {
      "cell_type": "code",
      "metadata": {
        "id": "P4ji_21hcWsz",
        "colab": {
          "base_uri": "https://localhost:8080/"
        },
        "outputId": "21bc7d21-c93d-4692-9985-8631da180c8b"
      },
      "source": [
        "result = sm.ols('y ~ x',df,).fit()\n",
        "print (result.summary())\n",
        "\n",
        "r2 = result.rsquared\n",
        "r2_reduced = result.rsquared_adj\n",
        "yint = result.params[0]\n",
        "slope = result.params[1]\n",
        "yintr=round(yint,2)\n",
        "sloper=round(slope,2)\n",
        "\n",
        "x_prediction = 245\n",
        "y_prediction = sloper*x_prediction + yintr\n",
        "print()\n",
        "print (\"b) y_prediction = %0.2f\" % y_prediction)\n",
        "\n",
        "print()\n",
        "print (\"c) delta = %0.1f\" % (slope*-40))\n",
        "\n",
        "sumx = x.sum()\n",
        "sumy=y.sum()\n",
        "x2=x*x\n"
      ],
      "execution_count": 17,
      "outputs": [
        {
          "output_type": "stream",
          "text": [
            "                            OLS Regression Results                            \n",
            "==============================================================================\n",
            "Dep. Variable:                      y   R-squared:                       0.960\n",
            "Model:                            OLS   Adj. R-squared:                  0.957\n",
            "Method:                 Least Squares   F-statistic:                     287.4\n",
            "Date:                Fri, 18 Dec 2020   Prob (F-statistic):           9.51e-10\n",
            "Time:                        13:07:26   Log-Likelihood:                -69.662\n",
            "No. Observations:                  14   AIC:                             143.3\n",
            "Df Residuals:                      12   BIC:                             144.6\n",
            "Df Model:                           1                                         \n",
            "Covariance Type:            nonrobust                                         \n",
            "==============================================================================\n",
            "                 coef    std err          t      P>|t|      [0.025      0.975]\n",
            "------------------------------------------------------------------------------\n",
            "Intercept    -49.7569     26.241     -1.896      0.082    -106.932       7.418\n",
            "x              1.7414      0.103     16.954      0.000       1.518       1.965\n",
            "==============================================================================\n",
            "Omnibus:                        0.694   Durbin-Watson:                   2.636\n",
            "Prob(Omnibus):                  0.707   Jarque-Bera (JB):                0.690\n",
            "Skew:                          -0.373   Prob(JB):                        0.708\n",
            "Kurtosis:                       2.207   Cond. No.                         662.\n",
            "==============================================================================\n",
            "\n",
            "Warnings:\n",
            "[1] Standard Errors assume that the covariance matrix of the errors is correctly specified.\n",
            "\n",
            "b) y_prediction = 376.54\n",
            "\n",
            "c) delta = -69.7\n"
          ],
          "name": "stdout"
        },
        {
          "output_type": "stream",
          "text": [
            "/usr/local/lib/python3.6/dist-packages/scipy/stats/stats.py:1535: UserWarning: kurtosistest only valid for n>=20 ... continuing anyway, n=14\n",
            "  \"anyway, n=%i\" % int(n))\n"
          ],
          "name": "stderr"
        }
      ]
    },
    {
      "cell_type": "code",
      "metadata": {
        "id": "5FX_sQuTcWsz",
        "outputId": "c4305857-ae9a-4fd4-ca6b-6a4fccaa8c35",
        "colab": {
          "base_uri": "https://localhost:8080/"
        }
      },
      "source": [
        "print(\"Q1\")\r\n",
        "n=10\r\n",
        "p=.23\r\n",
        "npr=int(n*p)\r\n",
        "B=stats.binom(npr,.5)\r\n",
        "print(B.cdf(2)-B.cdf(1))\r\n",
        "print()"
      ],
      "execution_count": 67,
      "outputs": [
        {
          "output_type": "stream",
          "text": [
            "Q1\n",
            "0.25\n",
            "\n"
          ],
          "name": "stdout"
        }
      ]
    },
    {
      "cell_type": "code",
      "metadata": {
        "id": "M_pVVUrKSVfp",
        "outputId": "a1ea9dbb-25b6-41a5-e669-ec94ebd750e1",
        "colab": {
          "base_uri": "https://localhost:8080/"
        }
      },
      "source": [
        "print(\"Q2\")\r\n",
        "sig=10\r\n",
        "u=75\r\n",
        "n=25\r\n",
        "df = n -1\r\n",
        "sem = sig/np.sqrt(n)\r\n",
        "X=stats.norm(loc=u,scale=sig)\r\n",
        "z=stats.norm()\r\n",
        "a=.01\r\n",
        "zlow = z.ppf(a/2)\r\n",
        "c_interval = stats.t.interval(0.99, df)\r\n",
        "\r\n",
        "print (\"(%0.2f, %0.2f)\" % c_interval)\r\n",
        "print (\"a: %.2f\"%((72.3-u)/sem))\r\n",
        "tdist = stats.t(df)\r\n",
        "\r\n",
        "pvalue = 2.0*tdist.cdf(-np.abs(tvalue))\r\n",
        "print (\"P-value = %0.7f\" % pvalue)\r\n",
        "print()"
      ],
      "execution_count": 81,
      "outputs": [
        {
          "output_type": "stream",
          "text": [
            "Q2\n",
            "(-2.80, 2.80)\n",
            "a: -1.35\n",
            "P-value = 0.0108139\n",
            "\n"
          ],
          "name": "stdout"
        }
      ]
    },
    {
      "cell_type": "code",
      "metadata": {
        "id": "XrlSbeKMSWQF",
        "outputId": "1d40b089-20ad-4224-9fe6-0afed8f10d8c",
        "colab": {
          "base_uri": "https://localhost:8080/"
        }
      },
      "source": [
        "print(\"Q3\")\r\n",
        "n = 116\r\n",
        "df = n -1\r\n",
        "xbar = .77\r\n",
        "s = .39\r\n",
        "sem = s/np.sqrt(n)\r\n",
        "c_interval = stats.t.interval(0.99, df, loc=xbar, scale=sem)\r\n",
        "\r\n",
        "print (\"(%0.3f, %0.3f)\" % c_interval)\r\n",
        "print()"
      ],
      "execution_count": 46,
      "outputs": [
        {
          "output_type": "stream",
          "text": [
            "Q3\n",
            "(0.675, 0.865)\n",
            "\n"
          ],
          "name": "stdout"
        }
      ]
    },
    {
      "cell_type": "code",
      "metadata": {
        "id": "4nonJEgXSWZ1",
        "outputId": "cb23f545-b6e3-4c58-96fb-f1aca1115f66",
        "colab": {
          "base_uri": "https://localhost:8080/"
        }
      },
      "source": [
        "print(\"Q4\")\r\n",
        "n = 100\r\n",
        "df = n - 1\r\n",
        "xbar = 50\r\n",
        "s = 1\r\n",
        "\r\n",
        "sem = s/np.sqrt(n)\r\n",
        "X=stats.norm(loc=xbar,scale=sem)\r\n",
        "print(X.cdf(50.1)-X.cdf(49.9))\r\n",
        "X=stats.norm(loc=xbar-.2,scale=sem)\r\n",
        "print(X.cdf(50.1)-X.cdf(49.9))\r\n",
        "print()"
      ],
      "execution_count": 52,
      "outputs": [
        {
          "output_type": "stream",
          "text": [
            "Q4\n",
            "0.6826894921370927\n",
            "0.15730535589982375\n",
            "\n"
          ],
          "name": "stdout"
        }
      ]
    },
    {
      "cell_type": "code",
      "metadata": {
        "id": "exqo9NULSWiH",
        "outputId": "f2058f7a-c7d9-4248-90d2-9c1d642ac8e6",
        "colab": {
          "base_uri": "https://localhost:8080/"
        }
      },
      "source": [
        "print(\"Q5\")\r\n",
        "n1=39\r\n",
        "n2=30\r\n",
        "x1=18.81\r\n",
        "x2=16.65\r\n",
        "s1=1.6\r\n",
        "s2=1.4\r\n",
        "a=.01\r\n",
        "\r\n",
        "df = ndof_neq(n1,n2,s1,s2)\r\n",
        "sm = sem_neq(n1,n2,s1,s2)\r\n",
        "\r\n",
        "tvalue = (x1-x2)/sm\r\n",
        "\r\n",
        "print (\"DF, T = %0.0f, %0.2f\" % (df,tvalue))\r\n",
        "\r\n",
        "tdist = stats.t(df)\r\n",
        "\r\n",
        "pvalue = 2.0*tdist.cdf(-np.abs(tvalue))\r\n",
        "print (\"P-value = %0.7f\" % pvalue)\r\n",
        "tvalue = (1)/sm\r\n",
        "pvalue = 2.0*tdist.cdf(-np.abs(tvalue))\r\n",
        "print (\"P-value = %0.7f\" % pvalue)\r\n",
        "print()"
      ],
      "execution_count": 60,
      "outputs": [
        {
          "output_type": "stream",
          "text": [
            "Q5\n",
            "DF, T = 65, 5.97\n",
            "P-value = 0.0000001\n",
            "P-value = 0.0074375\n",
            "\n"
          ],
          "name": "stdout"
        }
      ]
    },
    {
      "cell_type": "code",
      "metadata": {
        "id": "GjosrDNrSpoh"
      },
      "source": [
        "print(\"Q6\")\r\n",
        "a = 3\r\n",
        "N=25+27+28\r\n",
        "dof_total = N - 1\r\n",
        "dof_treatment = a - 1\r\n",
        "dof_error = dof_total - dof_treatment\r\n",
        "SS_total = 1125.13\r\n",
        "MS_treatment = 77.73\r\n",
        "SS_treatment = MS_treatment*dof_treatment\r\n",
        "\r\n",
        "SS_error = SS_total - SS_treatment\r\n",
        "MS_error = SS_error/dof_error\r\n",
        "\r\n",
        "fSN = MS_treatment/MS_error\r\n",
        "\r\n",
        "alpha = 0.01\r\n",
        "\r\n",
        "fdist = stats.f(dof_treatment,dof_error)\r\n",
        "fhigh = fdist.ppf(1-alpha)\r\n",
        "\r\n",
        "if (fSN > 1):\r\n",
        "    pvalue = (1-fdist.cdf(fSN))\r\n",
        "else:\r\n",
        "    pvalue = fdist.cdf(fSN)\r\n",
        "\r\n",
        "# print table\r\n",
        "\r\n",
        "print (\"Source     df     Sum of Squares     Mean Square     f     P-value\")\r\n",
        "print (\"Groups     %0.0f       %0.2f           %0.2f       %0.2f    %0.3f\" %(dof_treatment,SS_treatment,MS_treatment,fSN,pvalue))\r\n",
        "print (\"Error      %0.0f      %0.2f          %0.2f\" %(dof_error,SS_error,MS_error))\r\n",
        "print (\"Total      %0.0f      %0.2f\" %(dof_total,SS_total))\r\n",
        "print()"
      ],
      "execution_count": null,
      "outputs": []
    },
    {
      "cell_type": "code",
      "metadata": {
        "id": "YIDpWqUlSp0-"
      },
      "source": [
        "print(\"Q7\")\r\n",
        "print()"
      ],
      "execution_count": null,
      "outputs": []
    },
    {
      "cell_type": "code",
      "metadata": {
        "id": "5ib_4UyUSXSu"
      },
      "source": [
        "print(\"Q8\")\r\n",
        "a = 3\r\n",
        "b = 4\r\n",
        "n = 3\r\n",
        "\r\n",
        "N = n*a*b\r\n",
        "\r\n",
        "v_total = N - 1\r\n",
        "v_a = a - 1\r\n",
        "v_b = b - 1\r\n",
        "v_ab = (a-1)*(b-1)\r\n",
        "v_treatment = v_a + v_b + v_ab\r\n",
        "v_error = v_total - v_treatment\r\n",
        "\r\n",
        "print (\"v_a, v_b, v_ab, v_error, v_total = \",v_a, v_b, v_ab, v_error, v_total)\r\n",
        "SS_a = 30341.9\r\n",
        "SS_b = 35438.1\r\n",
        "SS_error = 98653.1\r\n",
        "SS_total = 206391.2\r\n",
        "\r\n",
        "SS_ab = SS_total - SS_a - SS_b - SS_error\r\n",
        "\r\n",
        "print (\"SS_ab = %0.1f\" % SS_ab)\r\n",
        "MS_a = SS_a/v_a\r\n",
        "MS_b = SS_b/v_b\r\n",
        "MS_ab = SS_ab/v_ab\r\n",
        "MS_error = SS_error/v_error\r\n",
        "\r\n",
        "fSN_a = MS_a/MS_error\r\n",
        "fSN_b = MS_b/MS_error\r\n",
        "fSN_ab = MS_ab/MS_error\r\n",
        "\r\n",
        "print (\"F Signal/Noise A = %0.2f \" % fSN_a)\r\n",
        "\r\n",
        "alpha = 0.05\r\n",
        "\r\n",
        "fdist_a = stats.f(v_a,v_error)\r\n",
        "fhigh_a = fdist_a.ppf(1-alpha)\r\n",
        "\r\n",
        "print (\"Critical F-value A = %0.2f\" % (fhigh_a))\r\n",
        "\r\n",
        "if (fSN_a > 1):\r\n",
        "    pvalue_a = (1-fdist_a.cdf(fSN_a))\r\n",
        "else:\r\n",
        "    pvalue_a = fdist_a.cdf(fSN_a)\r\n",
        "    \r\n",
        "print (\"Pvalue A = %0.3f\" % (pvalue_a))\r\n",
        "\r\n",
        "\r\n",
        "print (\"F Signal/Noise B = %0.2f \" % fSN_b)\r\n",
        "\r\n",
        "fdist_b = stats.f(v_b,v_error)\r\n",
        "fhigh_b = fdist_b.ppf(1-alpha)\r\n",
        "\r\n",
        "print (\"Critical F-value B = %0.2f\" % (fhigh_b))\r\n",
        "\r\n",
        "if (fSN_b > 1):\r\n",
        "    pvalue_b = (1-fdist_b.cdf(fSN_b))\r\n",
        "else:\r\n",
        "    pvalue_b = fdist_b.cdf(fSN_b)\r\n",
        "    \r\n",
        "print (\"Pvalue B = %0.3f\" % (pvalue_b))\r\n",
        "\r\n",
        "print (\"F Signal/Noise AB = %0.2f \" % fSN_ab)\r\n",
        "\r\n",
        "fdist_ab = stats.f(v_ab,v_error)\r\n",
        "fhigh_ab = fdist_ab.ppf(1-alpha)\r\n",
        "\r\n",
        "print (\"Critical F-value AB = %0.2f\" % (fhigh_ab))\r\n",
        "\r\n",
        "if (fSN_ab > 1):\r\n",
        "    pvalue_ab = (1-fdist_ab.cdf(fSN_ab))\r\n",
        "else:\r\n",
        "    pvalue_ab = fdist_ab.cdf(fSN_ab)\r\n",
        "    \r\n",
        "print (\"Pvalue AB = %0.3f\" % (pvalue_ab))\r\n",
        "\r\n",
        "# Print table\r\n",
        "print()\r\n",
        "print (\"Source     df     Sum of Squares   Mean Square       f     P-value\")\r\n",
        "print (\"A          %0.0f       %0.2f           %0.2f       %0.2f    %0.3f\" %(v_a,SS_a,MS_a,fSN_a,pvalue_a))\r\n",
        "print (\"B          %0.0f       %0.2f           %0.2f       %0.2f    %0.3f\" %(v_b,SS_b,MS_b,fSN_b,pvalue_b))\r\n",
        "print (\"AB         %0.0f       %0.2f            %0.2f       %0.2f    %0.3f\" %(v_ab,SS_ab,MS_ab,fSN_ab,pvalue_ab))\r\n",
        "print (\"Error      %0.0f      %0.2f            %0.2f\" %(v_error,SS_error,MS_error))\r\n",
        "print (\"Total      %0.0f     %0.2f\" %(v_total,SS_total))\r\n",
        "\r\n",
        "xbar = np.array([4010.88,4029.10,3960.02])\r\n",
        "dof_error = v_error\r\n",
        "alpha = 0.05\r\n",
        "n=N/len(xbar)\r\n",
        "tukey_calc(xbar,MS_error,n,dof_error,alpha)\r\n",
        "\r\n",
        "\r\n",
        "print()"
      ],
      "execution_count": null,
      "outputs": []
    },
    {
      "cell_type": "code",
      "metadata": {
        "id": "UbsAceptSXbR"
      },
      "source": [
        "print(\"Q9\")\r\n",
        "xijk = np.array([[280,1,1],[290,1,1],[285,1,1],[300,1,2],[310,1,2],[295,1,2],[270,1,3],[285,1,3],[290,1,3],\r\n",
        "                [230,2,1],[235,2,1],[240,2,1],[260,2,2],[240,2,2],[235,2,2],[220,2,3],[225,2,3],[230,2,3]])\r\n",
        "df = pd.DataFrame(xijk,columns=['value','A','B'])\r\n",
        "\r\n",
        "formula = 'value ~ C(A) + C(B) +C(A):C(B)'\r\n",
        "lm = sm.ols(formula,df).fit()\r\n",
        "anovaResults = anova_lm(lm)\r\n",
        "print (anovaResults)\r\n",
        "alpha = .01\r\n",
        "fdist_a = stats.f(1,12)\r\n",
        "fhigh_a = fdist_a.ppf(1-alpha)\r\n",
        "print (\"Critical F-value A = %0.2f\" % (fhigh_a))\r\n",
        "fdist_a = stats.f(2,12)\r\n",
        "fhigh_a = fdist_a.ppf(1-alpha)\r\n",
        "print (\"Critical F-value B = %0.2f\" % (fhigh_a))\r\n",
        "fdist_a = stats.f(2,12)\r\n",
        "fhigh_a = fdist_a.ppf(1-alpha)\r\n",
        "print (\"Critical F-value AB = %0.2f\" % (fhigh_a))\r\n",
        "print()"
      ],
      "execution_count": null,
      "outputs": []
    }
  ]
}